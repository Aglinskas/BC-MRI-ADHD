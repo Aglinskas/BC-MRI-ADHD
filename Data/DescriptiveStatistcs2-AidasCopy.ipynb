{
 "cells": [
  {
   "cell_type": "code",
   "execution_count": 1,
   "id": "23d91a65",
   "metadata": {},
   "outputs": [
    {
     "data": {
      "text/plain": [
       "'/mmfs1/data/aglinska/BC-MRI-ADHD/Data'"
      ]
     },
     "execution_count": 1,
     "metadata": {},
     "output_type": "execute_result"
    }
   ],
   "source": [
    "pwd"
   ]
  },
  {
   "cell_type": "code",
   "execution_count": 2,
   "id": "3508d640",
   "metadata": {},
   "outputs": [],
   "source": [
    "import pandas as pd"
   ]
  },
  {
   "cell_type": "code",
   "execution_count": 3,
   "id": "02ba047b",
   "metadata": {},
   "outputs": [],
   "source": [
    "import numpy as np\n",
    "import matplotlib.colors as mcolors"
   ]
  },
  {
   "cell_type": "code",
   "execution_count": 4,
   "id": "694ccf65",
   "metadata": {},
   "outputs": [],
   "source": [
    "import matplotlib.pyplot as plt\n",
    "import numpy as np\n",
    "from matplotlib import colors\n",
    "from matplotlib.ticker import PercentFormatter"
   ]
  },
  {
   "cell_type": "code",
   "execution_count": null,
   "id": "6eba642f",
   "metadata": {},
   "outputs": [],
   "source": []
  },
  {
   "cell_type": "code",
   "execution_count": 174,
   "id": "c59ecbf9",
   "metadata": {},
   "outputs": [
    {
     "data": {
      "text/html": [
       "<div>\n",
       "<style scoped>\n",
       "    .dataframe tbody tr th:only-of-type {\n",
       "        vertical-align: middle;\n",
       "    }\n",
       "\n",
       "    .dataframe tbody tr th {\n",
       "        vertical-align: top;\n",
       "    }\n",
       "\n",
       "    .dataframe thead th {\n",
       "        text-align: right;\n",
       "    }\n",
       "</style>\n",
       "<table border=\"1\" class=\"dataframe\">\n",
       "  <thead>\n",
       "    <tr style=\"text-align: right;\">\n",
       "      <th></th>\n",
       "      <th>Subject</th>\n",
       "      <th>ScanDir ID</th>\n",
       "      <th>Site</th>\n",
       "      <th>Gender</th>\n",
       "      <th>Age</th>\n",
       "      <th>Handedness</th>\n",
       "      <th>DX</th>\n",
       "      <th>Secondary Dx</th>\n",
       "      <th>ADHD Measure</th>\n",
       "      <th>ADHD Index</th>\n",
       "      <th>...</th>\n",
       "      <th>Full2 IQ</th>\n",
       "      <th>Full4 IQ</th>\n",
       "      <th>Med Status</th>\n",
       "      <th>QC_Rest_1</th>\n",
       "      <th>QC_Rest_2</th>\n",
       "      <th>QC_Rest_3</th>\n",
       "      <th>QC_Rest_4</th>\n",
       "      <th>QC_Anatomical_1</th>\n",
       "      <th>QC_Anatomical_2</th>\n",
       "      <th>ID</th>\n",
       "    </tr>\n",
       "  </thead>\n",
       "  <tbody>\n",
       "    <tr>\n",
       "      <th>0</th>\n",
       "      <td>0</td>\n",
       "      <td>26001.0</td>\n",
       "      <td>2</td>\n",
       "      <td>1.0</td>\n",
       "      <td>16.92</td>\n",
       "      <td>1.0</td>\n",
       "      <td>4</td>\n",
       "      <td>pending</td>\n",
       "      <td>pending</td>\n",
       "      <td>pending</td>\n",
       "      <td>...</td>\n",
       "      <td>NaN</td>\n",
       "      <td>120.0</td>\n",
       "      <td>pending</td>\n",
       "      <td>1.0</td>\n",
       "      <td>NaN</td>\n",
       "      <td>NaN</td>\n",
       "      <td>NaN</td>\n",
       "      <td>1.0</td>\n",
       "      <td>NaN</td>\n",
       "      <td>NaN</td>\n",
       "    </tr>\n",
       "    <tr>\n",
       "      <th>1</th>\n",
       "      <td>1</td>\n",
       "      <td>26002.0</td>\n",
       "      <td>2</td>\n",
       "      <td>1.0</td>\n",
       "      <td>15.68</td>\n",
       "      <td>1.0</td>\n",
       "      <td>4</td>\n",
       "      <td>pending</td>\n",
       "      <td>pending</td>\n",
       "      <td>pending</td>\n",
       "      <td>...</td>\n",
       "      <td>NaN</td>\n",
       "      <td>107.0</td>\n",
       "      <td>pending</td>\n",
       "      <td>1.0</td>\n",
       "      <td>NaN</td>\n",
       "      <td>NaN</td>\n",
       "      <td>NaN</td>\n",
       "      <td>1.0</td>\n",
       "      <td>NaN</td>\n",
       "      <td>NaN</td>\n",
       "    </tr>\n",
       "    <tr>\n",
       "      <th>2</th>\n",
       "      <td>2</td>\n",
       "      <td>26004.0</td>\n",
       "      <td>2</td>\n",
       "      <td>0.0</td>\n",
       "      <td>14.99</td>\n",
       "      <td>1.0</td>\n",
       "      <td>4</td>\n",
       "      <td>pending</td>\n",
       "      <td>pending</td>\n",
       "      <td>pending</td>\n",
       "      <td>...</td>\n",
       "      <td>NaN</td>\n",
       "      <td>125.0</td>\n",
       "      <td>pending</td>\n",
       "      <td>1.0</td>\n",
       "      <td>NaN</td>\n",
       "      <td>NaN</td>\n",
       "      <td>NaN</td>\n",
       "      <td>1.0</td>\n",
       "      <td>NaN</td>\n",
       "      <td>NaN</td>\n",
       "    </tr>\n",
       "    <tr>\n",
       "      <th>3</th>\n",
       "      <td>3</td>\n",
       "      <td>26005.0</td>\n",
       "      <td>2</td>\n",
       "      <td>0.0</td>\n",
       "      <td>15.16</td>\n",
       "      <td>1.0</td>\n",
       "      <td>4</td>\n",
       "      <td>pending</td>\n",
       "      <td>pending</td>\n",
       "      <td>pending</td>\n",
       "      <td>...</td>\n",
       "      <td>NaN</td>\n",
       "      <td>126.0</td>\n",
       "      <td>pending</td>\n",
       "      <td>1.0</td>\n",
       "      <td>NaN</td>\n",
       "      <td>NaN</td>\n",
       "      <td>NaN</td>\n",
       "      <td>1.0</td>\n",
       "      <td>NaN</td>\n",
       "      <td>NaN</td>\n",
       "    </tr>\n",
       "    <tr>\n",
       "      <th>4</th>\n",
       "      <td>4</td>\n",
       "      <td>26009.0</td>\n",
       "      <td>2</td>\n",
       "      <td>1.0</td>\n",
       "      <td>16.91</td>\n",
       "      <td>0.0</td>\n",
       "      <td>4</td>\n",
       "      <td>pending</td>\n",
       "      <td>pending</td>\n",
       "      <td>pending</td>\n",
       "      <td>...</td>\n",
       "      <td>NaN</td>\n",
       "      <td>97.0</td>\n",
       "      <td>pending</td>\n",
       "      <td>1.0</td>\n",
       "      <td>NaN</td>\n",
       "      <td>NaN</td>\n",
       "      <td>NaN</td>\n",
       "      <td>1.0</td>\n",
       "      <td>NaN</td>\n",
       "      <td>NaN</td>\n",
       "    </tr>\n",
       "    <tr>\n",
       "      <th>...</th>\n",
       "      <td>...</td>\n",
       "      <td>...</td>\n",
       "      <td>...</td>\n",
       "      <td>...</td>\n",
       "      <td>...</td>\n",
       "      <td>...</td>\n",
       "      <td>...</td>\n",
       "      <td>...</td>\n",
       "      <td>...</td>\n",
       "      <td>...</td>\n",
       "      <td>...</td>\n",
       "      <td>...</td>\n",
       "      <td>...</td>\n",
       "      <td>...</td>\n",
       "      <td>...</td>\n",
       "      <td>...</td>\n",
       "      <td>...</td>\n",
       "      <td>...</td>\n",
       "      <td>...</td>\n",
       "      <td>...</td>\n",
       "      <td>...</td>\n",
       "    </tr>\n",
       "    <tr>\n",
       "      <th>712</th>\n",
       "      <td>712</td>\n",
       "      <td>16015.0</td>\n",
       "      <td>7</td>\n",
       "      <td>1.0</td>\n",
       "      <td>11.70</td>\n",
       "      <td>1.0</td>\n",
       "      <td>0</td>\n",
       "      <td>NaN</td>\n",
       "      <td>NaN</td>\n",
       "      <td>NaN</td>\n",
       "      <td>...</td>\n",
       "      <td>-999.0</td>\n",
       "      <td>108.0</td>\n",
       "      <td>NaN</td>\n",
       "      <td>0.0</td>\n",
       "      <td>NaN</td>\n",
       "      <td>NaN</td>\n",
       "      <td>NaN</td>\n",
       "      <td>1.0</td>\n",
       "      <td>NaN</td>\n",
       "      <td>NaN</td>\n",
       "    </tr>\n",
       "    <tr>\n",
       "      <th>713</th>\n",
       "      <td>713</td>\n",
       "      <td>16035.0</td>\n",
       "      <td>7</td>\n",
       "      <td>1.0</td>\n",
       "      <td>13.94</td>\n",
       "      <td>1.0</td>\n",
       "      <td>0</td>\n",
       "      <td>NaN</td>\n",
       "      <td>NaN</td>\n",
       "      <td>NaN</td>\n",
       "      <td>...</td>\n",
       "      <td>-999.0</td>\n",
       "      <td>113.0</td>\n",
       "      <td>NaN</td>\n",
       "      <td>1.0</td>\n",
       "      <td>NaN</td>\n",
       "      <td>NaN</td>\n",
       "      <td>NaN</td>\n",
       "      <td>1.0</td>\n",
       "      <td>NaN</td>\n",
       "      <td>NaN</td>\n",
       "    </tr>\n",
       "    <tr>\n",
       "      <th>714</th>\n",
       "      <td>714</td>\n",
       "      <td>16023.0</td>\n",
       "      <td>7</td>\n",
       "      <td>0.0</td>\n",
       "      <td>12.51</td>\n",
       "      <td>0.0</td>\n",
       "      <td>0</td>\n",
       "      <td>NaN</td>\n",
       "      <td>NaN</td>\n",
       "      <td>NaN</td>\n",
       "      <td>...</td>\n",
       "      <td>110.0</td>\n",
       "      <td>107.0</td>\n",
       "      <td>NaN</td>\n",
       "      <td>0.0</td>\n",
       "      <td>NaN</td>\n",
       "      <td>NaN</td>\n",
       "      <td>NaN</td>\n",
       "      <td>1.0</td>\n",
       "      <td>NaN</td>\n",
       "      <td>NaN</td>\n",
       "    </tr>\n",
       "    <tr>\n",
       "      <th>715</th>\n",
       "      <td>715</td>\n",
       "      <td>16054.0</td>\n",
       "      <td>7</td>\n",
       "      <td>1.0</td>\n",
       "      <td>16.05</td>\n",
       "      <td>1.0</td>\n",
       "      <td>0</td>\n",
       "      <td>NaN</td>\n",
       "      <td>NaN</td>\n",
       "      <td>NaN</td>\n",
       "      <td>...</td>\n",
       "      <td>-999.0</td>\n",
       "      <td>105.0</td>\n",
       "      <td>NaN</td>\n",
       "      <td>0.0</td>\n",
       "      <td>NaN</td>\n",
       "      <td>NaN</td>\n",
       "      <td>NaN</td>\n",
       "      <td>1.0</td>\n",
       "      <td>NaN</td>\n",
       "      <td>NaN</td>\n",
       "    </tr>\n",
       "    <tr>\n",
       "      <th>716</th>\n",
       "      <td>716</td>\n",
       "      <td>16002.0</td>\n",
       "      <td>7</td>\n",
       "      <td>0.0</td>\n",
       "      <td>10.16</td>\n",
       "      <td>1.0</td>\n",
       "      <td>0</td>\n",
       "      <td>NaN</td>\n",
       "      <td>NaN</td>\n",
       "      <td>NaN</td>\n",
       "      <td>...</td>\n",
       "      <td>-999.0</td>\n",
       "      <td>120.0</td>\n",
       "      <td>NaN</td>\n",
       "      <td>1.0</td>\n",
       "      <td>NaN</td>\n",
       "      <td>NaN</td>\n",
       "      <td>NaN</td>\n",
       "      <td>1.0</td>\n",
       "      <td>NaN</td>\n",
       "      <td>NaN</td>\n",
       "    </tr>\n",
       "  </tbody>\n",
       "</table>\n",
       "<p>717 rows × 25 columns</p>\n",
       "</div>"
      ],
      "text/plain": [
       "     Subject  ScanDir ID  Site  Gender    Age  Handedness  DX Secondary Dx   \\\n",
       "0          0     26001.0     2     1.0  16.92         1.0   4       pending   \n",
       "1          1     26002.0     2     1.0  15.68         1.0   4       pending   \n",
       "2          2     26004.0     2     0.0  14.99         1.0   4       pending   \n",
       "3          3     26005.0     2     0.0  15.16         1.0   4       pending   \n",
       "4          4     26009.0     2     1.0  16.91         0.0   4       pending   \n",
       "..       ...         ...   ...     ...    ...         ...  ..           ...   \n",
       "712      712     16015.0     7     1.0  11.70         1.0   0           NaN   \n",
       "713      713     16035.0     7     1.0  13.94         1.0   0           NaN   \n",
       "714      714     16023.0     7     0.0  12.51         0.0   0           NaN   \n",
       "715      715     16054.0     7     1.0  16.05         1.0   0           NaN   \n",
       "716      716     16002.0     7     0.0  10.16         1.0   0           NaN   \n",
       "\n",
       "    ADHD Measure ADHD Index  ... Full2 IQ Full4 IQ  Med Status  QC_Rest_1  \\\n",
       "0        pending    pending  ...      NaN    120.0     pending        1.0   \n",
       "1        pending    pending  ...      NaN    107.0     pending        1.0   \n",
       "2        pending    pending  ...      NaN    125.0     pending        1.0   \n",
       "3        pending    pending  ...      NaN    126.0     pending        1.0   \n",
       "4        pending    pending  ...      NaN     97.0     pending        1.0   \n",
       "..           ...        ...  ...      ...      ...         ...        ...   \n",
       "712          NaN        NaN  ...   -999.0    108.0         NaN        0.0   \n",
       "713          NaN        NaN  ...   -999.0    113.0         NaN        1.0   \n",
       "714          NaN        NaN  ...    110.0    107.0         NaN        0.0   \n",
       "715          NaN        NaN  ...   -999.0    105.0         NaN        0.0   \n",
       "716          NaN        NaN  ...   -999.0    120.0         NaN        1.0   \n",
       "\n",
       "     QC_Rest_2  QC_Rest_3  QC_Rest_4 QC_Anatomical_1  QC_Anatomical_2  ID  \n",
       "0          NaN        NaN        NaN             1.0              NaN NaN  \n",
       "1          NaN        NaN        NaN             1.0              NaN NaN  \n",
       "2          NaN        NaN        NaN             1.0              NaN NaN  \n",
       "3          NaN        NaN        NaN             1.0              NaN NaN  \n",
       "4          NaN        NaN        NaN             1.0              NaN NaN  \n",
       "..         ...        ...        ...             ...              ...  ..  \n",
       "712        NaN        NaN        NaN             1.0              NaN NaN  \n",
       "713        NaN        NaN        NaN             1.0              NaN NaN  \n",
       "714        NaN        NaN        NaN             1.0              NaN NaN  \n",
       "715        NaN        NaN        NaN             1.0              NaN NaN  \n",
       "716        NaN        NaN        NaN             1.0              NaN NaN  \n",
       "\n",
       "[717 rows x 25 columns]"
      ]
     },
     "execution_count": 174,
     "metadata": {},
     "output_type": "execute_result"
    }
   ],
   "source": [
    "# VALUES AS STRINGS LEADS TO BAD STUFF\n",
    "df = pd.read_csv('df_all.csv')\n",
    "df['Handedness'] = pd.to_numeric(df['Handedness'],errors='coerce') # first of many..\n",
    "df.loc[df['DX'] == 'pending','DX'] = '4' # Turn 'pernding in to 4'\n",
    "df['DX'] = pd.to_numeric(df['DX'],errors='coerce') # first of many..\n",
    "df['Gender'] = pd.to_numeric(df['Gender'],errors='coerce') # first of many..\n",
    "\n",
    "df"
   ]
  },
  {
   "cell_type": "code",
   "execution_count": null,
   "id": "7e81cb39",
   "metadata": {},
   "outputs": [],
   "source": []
  },
  {
   "cell_type": "code",
   "execution_count": null,
   "id": "31d7782d",
   "metadata": {},
   "outputs": [],
   "source": []
  },
  {
   "cell_type": "code",
   "execution_count": 106,
   "id": "aa6e5ca3",
   "metadata": {},
   "outputs": [],
   "source": [
    "#all([str(type(val))==\"<class 'numpy.float64'>\" for val in df['Gender'].values])"
   ]
  },
  {
   "cell_type": "code",
   "execution_count": 35,
   "id": "3b4195cb",
   "metadata": {},
   "outputs": [
    {
     "data": {
      "text/plain": [
       "717"
      ]
     },
     "execution_count": 35,
     "metadata": {},
     "output_type": "execute_result"
    }
   ],
   "source": [
    "len(df) # Number of rows total"
   ]
  },
  {
   "cell_type": "code",
   "execution_count": 6,
   "id": "4145a879",
   "metadata": {},
   "outputs": [
    {
     "data": {
      "text/plain": [
       "'Number of female subjects = 315, Number of male subjects = 401,'"
      ]
     },
     "execution_count": 6,
     "metadata": {},
     "output_type": "execute_result"
    }
   ],
   "source": [
    "'Number of female subjects = {}, Number of male subjects = {},'.format(df['Gender'].value_counts()[0.0], df['Gender'].value_counts()[1.0])\n"
   ]
  },
  {
   "cell_type": "code",
   "execution_count": 47,
   "id": "8a84113e",
   "metadata": {},
   "outputs": [],
   "source": [
    "#df['Gender'].isna().sum()\n",
    "#pd.unique(df['Gender'])"
   ]
  },
  {
   "cell_type": "code",
   "execution_count": 7,
   "id": "b203661b",
   "metadata": {},
   "outputs": [
    {
     "data": {
      "text/plain": [
       "'Number of ADHD subjects = 274, Number of typically developing subjects = 430'"
      ]
     },
     "execution_count": 7,
     "metadata": {},
     "output_type": "execute_result"
    }
   ],
   "source": [
    "'Number of ADHD subjects = {}, Number of typically developing subjects = {}'.format(df['DX'].value_counts()[1]+df['DX'].value_counts()[2]+df['DX'].value_counts()[3], df['DX'].value_counts()[0])"
   ]
  },
  {
   "cell_type": "code",
   "execution_count": 8,
   "id": "5ccc089a",
   "metadata": {},
   "outputs": [
    {
     "data": {
      "text/plain": [
       "'Number of ADHD-Combined subjects = 154, Number of ADHD-Hyperactive/Impulsive subjects = 94, Number of ADHD-Inattentive subjects = 26, Number of typically developing subjects = 430'"
      ]
     },
     "execution_count": 8,
     "metadata": {},
     "output_type": "execute_result"
    }
   ],
   "source": [
    "'Number of ADHD-Combined subjects = {}, Number of ADHD-Hyperactive/Impulsive subjects = {}, Number of ADHD-Inattentive subjects = {}, Number of typically developing subjects = {}'.format(df['DX'].value_counts()[1], df['DX'].value_counts()[2], df['DX'].value_counts()[3], df['DX'].value_counts()[0])"
   ]
  },
  {
   "cell_type": "code",
   "execution_count": 9,
   "id": "e264336a",
   "metadata": {},
   "outputs": [
    {
     "data": {
      "text/plain": [
       "'Number of subjects with pending diagnosis = 26'"
      ]
     },
     "execution_count": 9,
     "metadata": {},
     "output_type": "execute_result"
    }
   ],
   "source": [
    "'Number of subjects with pending diagnosis = {}'.format(df['DX'].value_counts()['pending'])"
   ]
  },
  {
   "cell_type": "code",
   "execution_count": 87,
   "id": "51520139",
   "metadata": {},
   "outputs": [
    {
     "data": {
      "text/plain": [
       "'496 Right-handed, 19 Left-handed, 1 Ambidextrous'"
      ]
     },
     "execution_count": 87,
     "metadata": {},
     "output_type": "execute_result"
    }
   ],
   "source": [
    "'{} Right-handed, {} Left-handed, {} Ambidextrous'.format(\n",
    "    df['Handedness'].value_counts()[1],\n",
    "    df['Handedness'].value_counts()[0],\n",
    "    df['Handedness'].value_counts()[2])"
   ]
  },
  {
   "cell_type": "code",
   "execution_count": null,
   "id": "846acdde",
   "metadata": {},
   "outputs": [],
   "source": [
    "\n",
    "# Pre: 22 Right-handed, 474 Left-handed, 18 Ambidextrous'"
   ]
  },
  {
   "cell_type": "code",
   "execution_count": null,
   "id": "f84e0f72",
   "metadata": {},
   "outputs": [],
   "source": []
  },
  {
   "cell_type": "code",
   "execution_count": null,
   "id": "bd6d9d62",
   "metadata": {},
   "outputs": [],
   "source": []
  },
  {
   "cell_type": "code",
   "execution_count": null,
   "id": "a490b7ed",
   "metadata": {},
   "outputs": [],
   "source": []
  },
  {
   "cell_type": "code",
   "execution_count": 54,
   "id": "d44eaee7",
   "metadata": {},
   "outputs": [
    {
     "name": "stdout",
     "output_type": "stream",
     "text": [
      "474\n",
      "18\n",
      "1\n"
     ]
    }
   ],
   "source": [
    "print((df['Handedness'].values=='1').sum())\n",
    "print((df['Handedness'].values=='0').sum())\n",
    "print((df['Handedness'].values=='2').sum())"
   ]
  },
  {
   "cell_type": "code",
   "execution_count": null,
   "id": "e9524fc2",
   "metadata": {},
   "outputs": [],
   "source": []
  },
  {
   "cell_type": "code",
   "execution_count": null,
   "id": "d15a7645",
   "metadata": {},
   "outputs": [],
   "source": []
  },
  {
   "cell_type": "code",
   "execution_count": null,
   "id": "681db596",
   "metadata": {},
   "outputs": [],
   "source": []
  },
  {
   "cell_type": "code",
   "execution_count": null,
   "id": "13a7338e",
   "metadata": {},
   "outputs": [],
   "source": []
  },
  {
   "cell_type": "code",
   "execution_count": 107,
   "id": "0278b582",
   "metadata": {},
   "outputs": [
    {
     "name": "stdout",
     "output_type": "stream",
     "text": [
      "some of the handedness values are decimals and also these handedness counts are simply not correct\n"
     ]
    }
   ],
   "source": [
    "print('some of the handedness values are decimals and also these handedness counts are simply not correct')"
   ]
  },
  {
   "cell_type": "code",
   "execution_count": 108,
   "id": "5e8f6a5b",
   "metadata": {},
   "outputs": [
    {
     "data": {
      "text/plain": [
       "'Age: mean = 11.836276150627608, std = 3.2465969629498894, range = 7.17-21.74'"
      ]
     },
     "execution_count": 108,
     "metadata": {},
     "output_type": "execute_result"
    }
   ],
   "source": [
    "'Age: mean = {}, std = {}, range = {}-{}'.format(df['Age'].mean(), df['Age'].std(), df['Age'].min(), df['Age'].max())"
   ]
  },
  {
   "cell_type": "code",
   "execution_count": 109,
   "id": "c4419454",
   "metadata": {},
   "outputs": [
    {
     "data": {
      "text/plain": [
       "Text(0, 0.5, 'Number of Subjects')"
      ]
     },
     "execution_count": 109,
     "metadata": {},
     "output_type": "execute_result"
    },
    {
     "data": {
      "image/png": "[encoded data removed]",
      "text/plain": [
       "<Figure size 432x288 with 1 Axes>"
      ]
     },
     "metadata": {
      "needs_background": "light"
     },
     "output_type": "display_data"
    }
   ],
   "source": [
    "Age = df['Age']\n",
    "plt.hist(Age,bins=15,color='peachpuff')\n",
    "plt.title('Subject Age')\n",
    "plt.xlabel('Age')\n",
    "plt.ylabel('Number of Subjects')"
   ]
  },
  {
   "cell_type": "code",
   "execution_count": 145,
   "id": "a4985b6f",
   "metadata": {},
   "outputs": [
    {
     "name": "stdout",
     "output_type": "stream",
     "text": [
      "ndf = df without pending values\n"
     ]
    }
   ],
   "source": [
    "ndf = df[df['DX'] != 4]\n",
    "print('ndf = df without pending values')"
   ]
  },
  {
   "cell_type": "code",
   "execution_count": 146,
   "id": "c23fe466",
   "metadata": {},
   "outputs": [
    {
     "data": {
      "text/plain": [
       "array([0, 1, 3, 2])"
      ]
     },
     "execution_count": 146,
     "metadata": {},
     "output_type": "execute_result"
    }
   ],
   "source": [
    "pd.unique(ndf['DX'])"
   ]
  },
  {
   "cell_type": "code",
   "execution_count": null,
   "id": "9cf4010b",
   "metadata": {},
   "outputs": [],
   "source": []
  },
  {
   "cell_type": "code",
   "execution_count": 147,
   "id": "e9d2c1c2",
   "metadata": {},
   "outputs": [],
   "source": [
    "ADHDdf = ndf[ndf['DX'] != 0]"
   ]
  },
  {
   "cell_type": "code",
   "execution_count": 161,
   "id": "b2c10054",
   "metadata": {},
   "outputs": [],
   "source": [
    "controldf = ndf[ndf['DX'] == 0]"
   ]
  },
  {
   "cell_type": "code",
   "execution_count": 162,
   "id": "0176698c",
   "metadata": {},
   "outputs": [],
   "source": [
    "assert all(controldf['DX']==0),'bad slicing'"
   ]
  },
  {
   "cell_type": "code",
   "execution_count": null,
   "id": "c70fe3ae",
   "metadata": {},
   "outputs": [],
   "source": []
  },
  {
   "cell_type": "code",
   "execution_count": 175,
   "id": "b00c8bb2",
   "metadata": {},
   "outputs": [
    {
     "data": {
      "text/plain": [
       "<matplotlib.legend.Legend at 0x15539bde76d0>"
      ]
     },
     "execution_count": 175,
     "metadata": {},
     "output_type": "execute_result"
    },
    {
     "data": {
      "image/png": "[encoded data removed]",
      "text/plain": [
       "<Figure size 432x288 with 1 Axes>"
      ]
     },
     "metadata": {
      "needs_background": "light"
     },
     "output_type": "display_data"
    }
   ],
   "source": [
    "ADHDage = ADHDdf['Age']\n",
    "plt.hist(ADHDage, alpha=0.6, color = 'purple')\n",
    "controlage = controldf['Age']\n",
    "plt.hist(controlage, alpha=0.3, color='darkturquoise')\n",
    "plt.title('Subject Age')\n",
    "plt.xlabel('Age')\n",
    "plt.ylabel('Number of Subjects')\n",
    "plt.legend(['ADHD', 'Typically Developing'])"
   ]
  },
  {
   "cell_type": "code",
   "execution_count": null,
   "id": "b48a98ac",
   "metadata": {},
   "outputs": [],
   "source": []
  },
  {
   "cell_type": "code",
   "execution_count": 176,
   "id": "3976d4f7",
   "metadata": {},
   "outputs": [],
   "source": [
    "femaledf = ndf[ndf['Gender']!=1]\n",
    "maledf = ndf[ndf['Gender']!=0]"
   ]
  },
  {
   "cell_type": "code",
   "execution_count": 177,
   "id": "3fc1a92a",
   "metadata": {},
   "outputs": [
    {
     "data": {
      "text/plain": [
       "([<matplotlib.axis.XTick at 0x15539c1a12b0>,\n",
       "  <matplotlib.axis.XTick at 0x15539c1a1e20>,\n",
       "  <matplotlib.axis.XTick at 0x15539bd0b1f0>,\n",
       "  <matplotlib.axis.XTick at 0x15539bfc9cd0>],\n",
       " [Text(0, 0, 'Typically Developing'),\n",
       "  Text(1, 0, 'ADHD-Combined'),\n",
       "  Text(2, 0, 'ADHD-Hyperactive/Impulsive'),\n",
       "  Text(3, 0, 'ADHD-Inattentive')])"
      ]
     },
     "execution_count": 177,
     "metadata": {},
     "output_type": "execute_result"
    },
    {
     "data": {
      "image/png": "[encoded data removed]",
      "text/plain": [
       "<Figure size 432x288 with 1 Axes>"
      ]
     },
     "metadata": {
      "needs_background": "light"
     },
     "output_type": "display_data"
    }
   ],
   "source": [
    "femaleDX = femaledf['DX']\n",
    "plt.hist(femaleDX, color = 'orchid')\n",
    "plt.title('Female Subject Diagnosis')\n",
    "plt.xlabel('Diagnosis')\n",
    "plt.ylabel('Number of Subjects')\n",
    "plt.xticks([0,1,2,3],['Typically Developing', 'ADHD-Combined', 'ADHD-Hyperactive/Impulsive', 'ADHD-Inattentive'])"
   ]
  },
  {
   "cell_type": "code",
   "execution_count": 178,
   "id": "66485962",
   "metadata": {},
   "outputs": [
    {
     "data": {
      "text/plain": [
       "([<matplotlib.axis.XTick at 0x15539c1450d0>,\n",
       "  <matplotlib.axis.XTick at 0x15539c145130>,\n",
       "  <matplotlib.axis.XTick at 0x15539c13e070>,\n",
       "  <matplotlib.axis.XTick at 0x15539c0b3220>],\n",
       " [Text(0, 0, 'Typically Developing'),\n",
       "  Text(1, 0, 'ADHD-Combined'),\n",
       "  Text(2, 0, 'ADHD-Hyperactive/Impulsive'),\n",
       "  Text(3, 0, 'ADHD-Inattentive')])"
      ]
     },
     "execution_count": 178,
     "metadata": {},
     "output_type": "execute_result"
    },
    {
     "data": {
      "image/png": "[encoded data removed]",
      "text/plain": [
       "<Figure size 432x288 with 1 Axes>"
      ]
     },
     "metadata": {
      "needs_background": "light"
     },
     "output_type": "display_data"
    }
   ],
   "source": [
    "maleDX = maledf['DX']\n",
    "plt.hist(maleDX, color = 'tomato')\n",
    "plt.title('Male Subject Diagnosis')\n",
    "plt.xlabel('Diagnosis')\n",
    "plt.ylabel('Number of Subjects')\n",
    "plt.xticks([0,1,2,3],['Typically Developing', 'ADHD-Combined', 'ADHD-Hyperactive/Impulsive', 'ADHD-Inattentive'])"
   ]
  },
  {
   "cell_type": "code",
   "execution_count": 179,
   "id": "b096a0fa",
   "metadata": {},
   "outputs": [
    {
     "data": {
      "text/plain": [
       "([<matplotlib.axis.XTick at 0x15539c0e8370>,\n",
       "  <matplotlib.axis.XTick at 0x15539c0e8a90>,\n",
       "  <matplotlib.axis.XTick at 0x15539c364d00>,\n",
       "  <matplotlib.axis.XTick at 0x15539d6949a0>],\n",
       " [Text(0, 0, 'Typically Developing'),\n",
       "  Text(1, 0, 'ADHD-Combined'),\n",
       "  Text(2, 0, 'ADHD-Hyperactive/Impulsive'),\n",
       "  Text(3, 0, 'ADHD-Inattentive')])"
      ]
     },
     "execution_count": 179,
     "metadata": {},
     "output_type": "execute_result"
    },
    {
     "data": {
      "image/png": "[encoded data removed]",
      "text/plain": [
       "<Figure size 432x288 with 1 Axes>"
      ]
     },
     "metadata": {
      "needs_background": "light"
     },
     "output_type": "display_data"
    }
   ],
   "source": [
    "plt.hist([femaleDX,maleDX], color = ['orchid', 'tomato'])\n",
    "plt.title('Diagnosis by Gender')\n",
    "plt.xlabel('Subject Diagnosis')\n",
    "plt.ylabel('Number of Subjects')\n",
    "plt.legend(['Female','Male'])\n",
    "plt.xticks([0,1,2,3],['Typically Developing', 'ADHD-Combined', 'ADHD-Hyperactive/Impulsive', 'ADHD-Inattentive'])"
   ]
  },
  {
   "cell_type": "code",
   "execution_count": 119,
   "id": "4a97b271",
   "metadata": {},
   "outputs": [
    {
     "name": "stdout",
     "output_type": "stream",
     "text": [
      "why isnt this working they shouldnt have the same size bars and how to make labels not overlap\n"
     ]
    }
   ],
   "source": [
    "print('why isnt this working they shouldnt have the same size bars and how to make labels not overlap')"
   ]
  },
  {
   "cell_type": "code",
   "execution_count": null,
   "id": "7728507a",
   "metadata": {},
   "outputs": [],
   "source": []
  },
  {
   "cell_type": "code",
   "execution_count": null,
   "id": "ba276b29",
   "metadata": {},
   "outputs": [],
   "source": []
  },
  {
   "cell_type": "code",
   "execution_count": 23,
   "id": "edd28098",
   "metadata": {},
   "outputs": [
    {
     "name": "stdout",
     "output_type": "stream",
     "text": [
      "nndf = df without pending or -999 values\n"
     ]
    }
   ],
   "source": [
    "nndf = ndf[ndf['Full4 IQ']>0]\n",
    "print('nndf = df without pending or -999 values')"
   ]
  },
  {
   "cell_type": "code",
   "execution_count": 24,
   "id": "324cb3c5",
   "metadata": {},
   "outputs": [
    {
     "data": {
      "text/plain": [
       "'IQ: mean = 110.59842022116902, std = 13.848102187997139, range = 73.0-144.0'"
      ]
     },
     "execution_count": 24,
     "metadata": {},
     "output_type": "execute_result"
    }
   ],
   "source": [
    "'IQ: mean = {}, std = {}, range = {}-{}'.format(nndf['Full4 IQ'].mean(), nndf['Full4 IQ'].std(), nndf['Full4 IQ'].min(), nndf['Full4 IQ'].max())"
   ]
  },
  {
   "cell_type": "code",
   "execution_count": 25,
   "id": "f9a22e5b",
   "metadata": {},
   "outputs": [],
   "source": [
    "ADHD1df = nndf[nndf['DX']=='1']\n",
    "ADHD2df = nndf[nndf['DX']=='2']\n",
    "ADHD3df = nndf[nndf['DX']=='3']"
   ]
  },
  {
   "cell_type": "code",
   "execution_count": 26,
   "id": "c0b88a4b",
   "metadata": {},
   "outputs": [],
   "source": [
    "controliqdf = nndf[nndf['DX']=='0']"
   ]
  },
  {
   "cell_type": "code",
   "execution_count": 27,
   "id": "b53b95ce",
   "metadata": {},
   "outputs": [],
   "source": [
    "type1IQ = ADHD1df['Full4 IQ']\n",
    "type2IQ = ADHD2df['Full4 IQ']\n",
    "type3IQ = ADHD3df['Full4 IQ']"
   ]
  },
  {
   "cell_type": "code",
   "execution_count": 28,
   "id": "c3905884",
   "metadata": {},
   "outputs": [],
   "source": [
    "controlIQ = controliqdf['Full4 IQ']"
   ]
  },
  {
   "cell_type": "code",
   "execution_count": 192,
   "id": "d5009710",
   "metadata": {},
   "outputs": [
    {
     "data": {
      "text/plain": [
       "<matplotlib.legend.Legend at 0x15539e0165e0>"
      ]
     },
     "execution_count": 192,
     "metadata": {},
     "output_type": "execute_result"
    },
    {
     "data": {
      "image/png": "[encoded data removed]",
      "text/plain": [
       "<Figure size 720x432 with 1 Axes>"
      ]
     },
     "metadata": {
      "needs_background": "light"
     },
     "output_type": "display_data"
    }
   ],
   "source": [
    "plt.figure(figsize=(10,6))\n",
    "plt.hist(type1IQ, alpha=0.7, color='cyan')\n",
    "plt.hist(type2IQ, color='fuchsia')\n",
    "plt.hist(type3IQ, alpha=0.7, color='salmon')\n",
    "plt.hist(controlIQ, alpha=0.4, color='paleturquoise')\n",
    "plt.title('IQ')\n",
    "plt.xlabel('Subject IQ')\n",
    "plt.ylabel('Number of Subjects')\n",
    "plt.legend(['ADHD-Combined', 'ADHD-Hyperactive/Impulsive', 'ADHD-Inattentive', 'Typically Developing'])"
   ]
  },
  {
   "cell_type": "code",
   "execution_count": 30,
   "id": "d7ec65f6",
   "metadata": {},
   "outputs": [
    {
     "name": "stdout",
     "output_type": "stream",
     "text": [
      "1 the legend is covering the whole thing, 2 can barely see the hyperactive-impulsive\n"
     ]
    }
   ],
   "source": [
    "print('1 the legend is covering the whole thing, 2 can barely see the hyperactive-impulsive')"
   ]
  },
  {
   "cell_type": "code",
   "execution_count": null,
   "id": "cf72fbd6",
   "metadata": {},
   "outputs": [],
   "source": []
  },
  {
   "cell_type": "code",
   "execution_count": null,
   "id": "37f01006",
   "metadata": {},
   "outputs": [],
   "source": []
  },
  {
   "cell_type": "code",
   "execution_count": null,
   "id": "327b9405",
   "metadata": {},
   "outputs": [],
   "source": []
  },
  {
   "cell_type": "code",
   "execution_count": null,
   "id": "0084072e",
   "metadata": {},
   "outputs": [],
   "source": []
  },
  {
   "cell_type": "code",
   "execution_count": null,
   "id": "7478f952",
   "metadata": {},
   "outputs": [],
   "source": []
  },
  {
   "cell_type": "code",
   "execution_count": null,
   "id": "0d412f77",
   "metadata": {},
   "outputs": [],
   "source": []
  },
  {
   "cell_type": "code",
   "execution_count": null,
   "id": "b46fc863",
   "metadata": {},
   "outputs": [],
   "source": []
  }
 ],
 "metadata": {
  "kernelspec": {
   "display_name": "Python 3 (ipykernel)",
   "language": "python",
   "name": "python3"
  },
  "language_info": {
   "codemirror_mode": {
    "name": "ipython",
    "version": 3
   },
   "file_extension": ".py",
   "mimetype": "text/x-python",
   "name": "python",
   "nbconvert_exporter": "python",
   "pygments_lexer": "ipython3",
   "version": "3.8.8"
  }
 },
 "nbformat": 4,
 "nbformat_minor": 5
}
