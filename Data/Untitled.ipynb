{
 "cells": [
  {
   "cell_type": "code",
   "execution_count": 1,
   "id": "4f81b199-0cc7-4fb6-89eb-d570a731c6f2",
   "metadata": {},
   "outputs": [],
   "source": [
    "# load each extracted brain\n",
    "# access numpy array\n",
    "# store in one matrix (number of subs,64,64,64)\n",
    "# Arr = <something>\n",
    "# Arr.shape should be (760,64,64,64)\n",
    "# np.save(file=‘./extracted_brains.npy’, arr=Arr)"
   ]
  },
  {
   "cell_type": "code",
   "execution_count": 2,
   "id": "96355f81-03bf-42eb-88e6-8720d3541545",
   "metadata": {},
   "outputs": [],
   "source": [
    "from numpy import asarray"
   ]
  },
  {
   "cell_type": "code",
   "execution_count": null,
   "id": "fbac45de-3125-45b8-a470-dc3937fe2a08",
   "metadata": {},
   "outputs": [],
   "source": []
  }
 ],
 "metadata": {
  "kernelspec": {
   "display_name": "Python 3 (ipykernel)",
   "language": "python",
   "name": "python3"
  },
  "language_info": {
   "codemirror_mode": {
    "name": "ipython",
    "version": 3
   },
   "file_extension": ".py",
   "mimetype": "text/x-python",
   "name": "python",
   "nbconvert_exporter": "python",
   "pygments_lexer": "ipython3",
   "version": "3.8.8"
  }
 },
 "nbformat": 4,
 "nbformat_minor": 5
}
