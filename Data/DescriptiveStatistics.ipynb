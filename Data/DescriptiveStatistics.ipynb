{
 "cells": [
  {
   "cell_type": "code",
   "execution_count": 5,
   "id": "2f507e9f-191d-4e13-8c95-878b95fb06d4",
   "metadata": {},
   "outputs": [],
   "source": [
    "import pandas as pd"
   ]
  },
  {
   "cell_type": "code",
   "execution_count": 64,
   "id": "2673170f-b753-4d6d-b6bd-9d404f14df30",
   "metadata": {},
   "outputs": [],
   "source": [
    "import numpy as np\n",
    "import matplotlib.colors as mcolors"
   ]
  },
  {
   "cell_type": "code",
   "execution_count": 7,
   "id": "833532a8-5794-4edc-9029-22374119c35a",
   "metadata": {},
   "outputs": [],
   "source": [
    "df = pd.read_csv('df_all.csv')"
   ]
  },
  {
   "cell_type": "code",
   "execution_count": 8,
   "id": "6ab4771e-6c21-41fb-83c1-ac7d0345ed55",
   "metadata": {},
   "outputs": [
    {
     "name": "stdout",
     "output_type": "stream",
     "text": [
      "     Subject  ScanDir ID  Site  Gender    Age Handedness       DX  \\\n",
      "0          0     26001.0     2     1.0  16.92          1  pending   \n",
      "1          1     26002.0     2     1.0  15.68          1  pending   \n",
      "2          2     26004.0     2     0.0  14.99          1  pending   \n",
      "3          3     26005.0     2     0.0  15.16          1  pending   \n",
      "4          4     26009.0     2     1.0  16.91          0  pending   \n",
      "..       ...         ...   ...     ...    ...        ...      ...   \n",
      "712      712     16015.0     7     1.0  11.70          1        0   \n",
      "713      713     16035.0     7     1.0  13.94          1        0   \n",
      "714      714     16023.0     7     0.0  12.51          0        0   \n",
      "715      715     16054.0     7     1.0  16.05          1        0   \n",
      "716      716     16002.0     7     0.0  10.16          1        0   \n",
      "\n",
      "    Secondary Dx  ADHD Measure ADHD Index  ... Full2 IQ Full4 IQ  Med Status  \\\n",
      "0         pending      pending    pending  ...      NaN    120.0     pending   \n",
      "1         pending      pending    pending  ...      NaN    107.0     pending   \n",
      "2         pending      pending    pending  ...      NaN    125.0     pending   \n",
      "3         pending      pending    pending  ...      NaN    126.0     pending   \n",
      "4         pending      pending    pending  ...      NaN     97.0     pending   \n",
      "..            ...          ...        ...  ...      ...      ...         ...   \n",
      "712           NaN          NaN        NaN  ...   -999.0    108.0         NaN   \n",
      "713           NaN          NaN        NaN  ...   -999.0    113.0         NaN   \n",
      "714           NaN          NaN        NaN  ...    110.0    107.0         NaN   \n",
      "715           NaN          NaN        NaN  ...   -999.0    105.0         NaN   \n",
      "716           NaN          NaN        NaN  ...   -999.0    120.0         NaN   \n",
      "\n",
      "     QC_Rest_1  QC_Rest_2  QC_Rest_3  QC_Rest_4 QC_Anatomical_1  \\\n",
      "0          1.0        NaN        NaN        NaN             1.0   \n",
      "1          1.0        NaN        NaN        NaN             1.0   \n",
      "2          1.0        NaN        NaN        NaN             1.0   \n",
      "3          1.0        NaN        NaN        NaN             1.0   \n",
      "4          1.0        NaN        NaN        NaN             1.0   \n",
      "..         ...        ...        ...        ...             ...   \n",
      "712        0.0        NaN        NaN        NaN             1.0   \n",
      "713        1.0        NaN        NaN        NaN             1.0   \n",
      "714        0.0        NaN        NaN        NaN             1.0   \n",
      "715        0.0        NaN        NaN        NaN             1.0   \n",
      "716        1.0        NaN        NaN        NaN             1.0   \n",
      "\n",
      "     QC_Anatomical_2  ID  \n",
      "0                NaN NaN  \n",
      "1                NaN NaN  \n",
      "2                NaN NaN  \n",
      "3                NaN NaN  \n",
      "4                NaN NaN  \n",
      "..               ...  ..  \n",
      "712              NaN NaN  \n",
      "713              NaN NaN  \n",
      "714              NaN NaN  \n",
      "715              NaN NaN  \n",
      "716              NaN NaN  \n",
      "\n",
      "[717 rows x 25 columns]\n"
     ]
    }
   ],
   "source": [
    "print(df)"
   ]
  },
  {
   "cell_type": "code",
   "execution_count": 139,
   "id": "a0d39db2-f3e2-4859-baee-cb344e3ccb3b",
   "metadata": {},
   "outputs": [
    {
     "data": {
      "text/plain": [
       "'mean age = 11.734659913169313'"
      ]
     },
     "execution_count": 139,
     "metadata": {},
     "output_type": "execute_result"
    }
   ],
   "source": [
    "'mean age = {}'.format(df['Age'].mean())"
   ]
  },
  {
   "cell_type": "code",
   "execution_count": 140,
   "id": "37646ff8-ccd5-4135-b03f-8b349ae40607",
   "metadata": {},
   "outputs": [
    {
     "data": {
      "text/plain": [
       "'std age = 3.2278934655209786'"
      ]
     },
     "execution_count": 140,
     "metadata": {},
     "output_type": "execute_result"
    }
   ],
   "source": [
    "'std age = {}'.format(df['Age'].std())"
   ]
  },
  {
   "cell_type": "code",
   "execution_count": 141,
   "id": "e357c5ab-b51e-458b-aaeb-14fce7e54b59",
   "metadata": {},
   "outputs": [
    {
     "data": {
      "text/plain": [
       "'maximum age = 21.74'"
      ]
     },
     "execution_count": 141,
     "metadata": {},
     "output_type": "execute_result"
    }
   ],
   "source": [
    "'maximum age = {}'.format(df['Age'].max())"
   ]
  },
  {
   "cell_type": "code",
   "execution_count": 142,
   "id": "3c2291c3-e6d3-45e7-bd42-7a8bd8ca04a0",
   "metadata": {},
   "outputs": [
    {
     "data": {
      "text/plain": [
       "'minimum age = 7.17'"
      ]
     },
     "execution_count": 142,
     "metadata": {},
     "output_type": "execute_result"
    }
   ],
   "source": [
    "'minimum age = {}'.format(df['Age'].min())"
   ]
  },
  {
   "cell_type": "code",
   "execution_count": 19,
   "id": "6c508410-a130-43d4-94d4-1165ab86f26c",
   "metadata": {},
   "outputs": [
    {
     "data": {
      "text/plain": [
       "'Age: mean = 11.836276150627608, std = 3.2465969629498894, range = 7.17-21.74'"
      ]
     },
     "execution_count": 19,
     "metadata": {},
     "output_type": "execute_result"
    }
   ],
   "source": [
    "'Age: mean = {}, std = {}, range = {}-{}'.format(df['Age'].mean(), df['Age'].std(), df['Age'].min(), df['Age'].max())"
   ]
  },
  {
   "cell_type": "code",
   "execution_count": null,
   "id": "5be92f4e-9efc-4f3c-8f21-8d82c2a4b372",
   "metadata": {},
   "outputs": [],
   "source": []
  },
  {
   "cell_type": "code",
   "execution_count": 27,
   "id": "fed0abc1-66aa-413d-b083-beb42ae3f94b",
   "metadata": {},
   "outputs": [
    {
     "data": {
      "text/plain": [
       "'Number of female subjects = 315'"
      ]
     },
     "execution_count": 27,
     "metadata": {},
     "output_type": "execute_result"
    }
   ],
   "source": [
    "'Number of female subjects = {}'.format(df['Gender'].value_counts()[0.0])"
   ]
  },
  {
   "cell_type": "code",
   "execution_count": 28,
   "id": "1e43906a-3c41-4c0c-b242-702f28299ccb",
   "metadata": {},
   "outputs": [
    {
     "data": {
      "text/plain": [
       "'Number of male subjects = 401'"
      ]
     },
     "execution_count": 28,
     "metadata": {},
     "output_type": "execute_result"
    }
   ],
   "source": [
    "'Number of male subjects = {}'.format(df['Gender'].value_counts()[1.0])"
   ]
  },
  {
   "cell_type": "code",
   "execution_count": 36,
   "id": "fe5d50f7-9f63-4f54-b41f-5f49c2235cb3",
   "metadata": {},
   "outputs": [
    {
     "data": {
      "text/plain": [
       "'Number of ADHD subjects = 274'"
      ]
     },
     "execution_count": 36,
     "metadata": {},
     "output_type": "execute_result"
    }
   ],
   "source": [
    "'Number of ADHD subjects = {}'.format(df['DX'].value_counts()[1]+df['DX'].value_counts()[2]+df['DX'].value_counts()[3])"
   ]
  },
  {
   "cell_type": "code",
   "execution_count": 39,
   "id": "9c6281eb-58e0-4aa0-8033-3f7d76ab3625",
   "metadata": {},
   "outputs": [
    {
     "data": {
      "text/plain": [
       "'Number of typically developing subjects = 430'"
      ]
     },
     "execution_count": 39,
     "metadata": {},
     "output_type": "execute_result"
    }
   ],
   "source": [
    "'Number of typically developing subjects = {}'.format(df['DX'].value_counts()[0])"
   ]
  },
  {
   "cell_type": "code",
   "execution_count": 101,
   "id": "6f7a8815-5ca3-4d7f-b070-7ecf2eca01c3",
   "metadata": {},
   "outputs": [
    {
     "data": {
      "text/plain": [
       "Gender  DX     \n",
       "0.0     0          231\n",
       "1.0     0          199\n",
       "        1          122\n",
       "        3           60\n",
       "0.0     3           34\n",
       "        1           31\n",
       "        pending     17\n",
       "1.0     2           11\n",
       "        pending      9\n",
       "0.0     2            2\n",
       "dtype: int64"
      ]
     },
     "execution_count": 101,
     "metadata": {},
     "output_type": "execute_result"
    }
   ],
   "source": [
    "df[['Gender','DX']].value_counts()"
   ]
  },
  {
   "cell_type": "code",
   "execution_count": 11,
   "id": "0405a1a4-67d6-4c04-ad6a-d87564cd855f",
   "metadata": {},
   "outputs": [
    {
     "data": {
      "text/plain": [
       "Gender  Age  \n",
       "0.0     9.92     8\n",
       "        8.58     7\n",
       "1.0     9.17     7\n",
       "        8.75     6\n",
       "        11.92    6\n",
       "                ..\n",
       "0.0     17.15    1\n",
       "        17.13    1\n",
       "        17.09    1\n",
       "        16.74    1\n",
       "1.0     20.89    1\n",
       "Length: 519, dtype: int64"
      ]
     },
     "execution_count": 11,
     "metadata": {},
     "output_type": "execute_result"
    }
   ],
   "source": [
    "df[['Gender','Age']].value_counts()"
   ]
  },
  {
   "cell_type": "code",
   "execution_count": 12,
   "id": "e2843301-c1d7-4daf-8bb7-89e4919b4e82",
   "metadata": {},
   "outputs": [],
   "source": [
    "import matplotlib.pyplot as plt\n",
    "import numpy as np\n",
    "from matplotlib import colors\n",
    "from matplotlib.ticker import PercentFormatter"
   ]
  },
  {
   "cell_type": "code",
   "execution_count": 78,
   "id": "cf169b7c-2d9a-4d4b-8fd4-904694089189",
   "metadata": {},
   "outputs": [
    {
     "data": {
      "text/plain": [
       "Text(0.5, 1.0, 'Subject Age')"
      ]
     },
     "execution_count": 78,
     "metadata": {},
     "output_type": "execute_result"
    },
    {
     "data": {
      "image/png": "[encoded data removed]",
      "text/plain": [
       "<Figure size 432x288 with 1 Axes>"
      ]
     },
     "metadata": {
      "needs_background": "light"
     },
     "output_type": "display_data"
    }
   ],
   "source": [
    "Age = df['Age']\n",
    "plt.hist(Age,bins=15,color='peachpuff')\n",
    "plt.title('Subject Age')"
   ]
  },
  {
   "cell_type": "code",
   "execution_count": 48,
   "id": "0b88b0fb-8cc5-4ef7-9bca-d26b1578b3ed",
   "metadata": {},
   "outputs": [
    {
     "name": "stdout",
     "output_type": "stream",
     "text": [
      "ndf = df without pending values\n"
     ]
    }
   ],
   "source": [
    "ndf = df[df['DX'] != 'pending']\n",
    "print('ndf = df without pending values')"
   ]
  },
  {
   "cell_type": "code",
   "execution_count": 46,
   "id": "1afa795f-313a-4926-b7f2-601dee035428",
   "metadata": {},
   "outputs": [],
   "source": [
    "ADHDdf = ndf[ndf['DX'] != '0']"
   ]
  },
  {
   "cell_type": "code",
   "execution_count": 76,
   "id": "b8e8f14d-4db7-4662-80f9-3746d399f4a5",
   "metadata": {},
   "outputs": [
    {
     "data": {
      "text/plain": [
       "Text(0, 0.5, 'Number of Subjects')"
      ]
     },
     "execution_count": 76,
     "metadata": {},
     "output_type": "execute_result"
    },
    {
     "data": {
      "image/png": "[encoded data removed]",
      "text/plain": [
       "<Figure size 432x288 with 1 Axes>"
      ]
     },
     "metadata": {
      "needs_background": "light"
     },
     "output_type": "display_data"
    }
   ],
   "source": [
    "ADHDage = ADHDdf['Age']\n",
    "plt.hist(ADHDage, alpha = 0.8, color = 'purple')\n",
    "plt.title('ADHD Subject Age')\n",
    "plt.xlabel('Age')\n",
    "plt.ylabel('Number of Subjects')"
   ]
  },
  {
   "cell_type": "code",
   "execution_count": 55,
   "id": "16d73c38-d0b6-422f-b19b-9b490feaa856",
   "metadata": {},
   "outputs": [],
   "source": [
    "controldf = ndf[ndf['DX'] == '0']"
   ]
  },
  {
   "cell_type": "code",
   "execution_count": 58,
   "id": "32fd048c-ef08-46cc-9e5a-5e9d9b41b04f",
   "metadata": {},
   "outputs": [],
   "source": []
  },
  {
   "cell_type": "code",
   "execution_count": 77,
   "id": "8ad99695-9d83-4f15-a6c3-19a97f07d788",
   "metadata": {},
   "outputs": [
    {
     "data": {
      "text/plain": [
       "Text(0, 0.5, 'Number of Subjects')"
      ]
     },
     "execution_count": 77,
     "metadata": {},
     "output_type": "execute_result"
    },
    {
     "data": {
      "image/png": "[encoded data removed]",
      "text/plain": [
       "<Figure size 432x288 with 1 Axes>"
      ]
     },
     "metadata": {
      "needs_background": "light"
     },
     "output_type": "display_data"
    }
   ],
   "source": [
    "controlage = controldf['Age']\n",
    "plt.hist(controlage, alpha=0.3, color='darkturquoise')\n",
    "plt.title('Typically Developing Subject Age')\n",
    "plt.xlabel('Age')\n",
    "plt.ylabel('Number of Subjects')"
   ]
  },
  {
   "cell_type": "code",
   "execution_count": 74,
   "id": "8d9803f5-75b0-479c-9b83-414c52986d18",
   "metadata": {},
   "outputs": [
    {
     "data": {
      "text/plain": [
       "<matplotlib.legend.Legend at 0x155513e0b2e0>"
      ]
     },
     "execution_count": 74,
     "metadata": {},
     "output_type": "execute_result"
    },
    {
     "data": {
      "image/png": "[encoded data removed]",
      "text/plain": [
       "<Figure size 432x288 with 1 Axes>"
      ]
     },
     "metadata": {
      "needs_background": "light"
     },
     "output_type": "display_data"
    }
   ],
   "source": [
    "ADHDage = ADHDdf['Age']\n",
    "plt.hist(ADHDage, alpha=0.6, color = 'purple')\n",
    "controlage = controldf['Age']\n",
    "plt.hist(controlage, alpha=0.3, color='darkturquoise')\n",
    "plt.title('Subject Age')\n",
    "plt.xlabel('Age')\n",
    "plt.ylabel('Number of Subjects')\n",
    "plt.legend(['ADHD', 'Typically Developing'])"
   ]
  },
  {
   "cell_type": "code",
   "execution_count": 101,
   "id": "dbd02d16-d319-4c8c-bb20-7863cc756270",
   "metadata": {},
   "outputs": [],
   "source": [
    "femaledf = ndf[ndf['Gender']!='1.0']\n",
    "maledf = ndf[ndf['Gender']!='0.0']"
   ]
  },
  {
   "cell_type": "code",
   "execution_count": 102,
   "id": "a3485ef5-78b1-4a41-aca0-28768f5fc686",
   "metadata": {},
   "outputs": [
    {
     "data": {
      "text/plain": [
       "Text(0, 0.5, 'Number of Subjects')"
      ]
     },
     "execution_count": 102,
     "metadata": {},
     "output_type": "execute_result"
    },
    {
     "data": {
      "image/png": "[encoded data removed]",
      "text/plain": [
       "<Figure size 432x288 with 1 Axes>"
      ]
     },
     "metadata": {
      "needs_background": "light"
     },
     "output_type": "display_data"
    }
   ],
   "source": [
    "femaleDX = femaledf['DX']\n",
    "plt.hist(femaleDX, color = 'orchid')\n",
    "plt.title('Female Subject Diagnosis')\n",
    "plt.xlabel('Diagnosis')\n",
    "plt.ylabel('Number of Subjects')"
   ]
  },
  {
   "cell_type": "code",
   "execution_count": 103,
   "id": "f11e9ca2-7538-410f-adff-ac025990549b",
   "metadata": {},
   "outputs": [
    {
     "data": {
      "text/plain": [
       "Text(0, 0.5, 'Number of Subjects')"
      ]
     },
     "execution_count": 103,
     "metadata": {},
     "output_type": "execute_result"
    },
    {
     "data": {
      "image/png": "[encoded data removed]",
      "text/plain": [
       "<Figure size 432x288 with 1 Axes>"
      ]
     },
     "metadata": {
      "needs_background": "light"
     },
     "output_type": "display_data"
    }
   ],
   "source": [
    "maleDX = maledf['DX']\n",
    "plt.hist(maleDX, color = 'tomato')\n",
    "plt.title('Male Subject Diagnosis')\n",
    "plt.xlabel('Diagnosis')\n",
    "plt.ylabel('Number of Subjects')"
   ]
  },
  {
   "cell_type": "code",
   "execution_count": 176,
   "id": "498c0dad-3f56-4470-9cf1-50c85e3fee55",
   "metadata": {},
   "outputs": [
    {
     "ename": "NameError",
     "evalue": "name 'figure' is not defined",
     "output_type": "error",
     "traceback": [
      "\u001b[0;31m---------------------------------------------------------------------------\u001b[0m",
      "\u001b[0;31mNameError\u001b[0m                                 Traceback (most recent call last)",
      "\u001b[0;32m/tmp/ipykernel_1307501/4106812399.py\u001b[0m in \u001b[0;36m<module>\u001b[0;34m\u001b[0m\n\u001b[1;32m      5\u001b[0m \u001b[0mplt\u001b[0m\u001b[0;34m.\u001b[0m\u001b[0mlegend\u001b[0m\u001b[0;34m(\u001b[0m\u001b[0;34m[\u001b[0m\u001b[0;34m'Female'\u001b[0m\u001b[0;34m,\u001b[0m\u001b[0;34m'Male'\u001b[0m\u001b[0;34m]\u001b[0m\u001b[0;34m)\u001b[0m\u001b[0;34m\u001b[0m\u001b[0;34m\u001b[0m\u001b[0m\n\u001b[1;32m      6\u001b[0m \u001b[0mplt\u001b[0m\u001b[0;34m.\u001b[0m\u001b[0mxticks\u001b[0m\u001b[0;34m(\u001b[0m\u001b[0;34m[\u001b[0m\u001b[0;36m0\u001b[0m\u001b[0;34m,\u001b[0m\u001b[0;36m1\u001b[0m\u001b[0;34m,\u001b[0m\u001b[0;36m2\u001b[0m\u001b[0;34m,\u001b[0m\u001b[0;36m3\u001b[0m\u001b[0;34m]\u001b[0m\u001b[0;34m,\u001b[0m\u001b[0;34m[\u001b[0m\u001b[0;34m'Typically Developing'\u001b[0m\u001b[0;34m,\u001b[0m \u001b[0;34m'ADHD-Combined'\u001b[0m\u001b[0;34m,\u001b[0m \u001b[0;34m'ADHD-Hyperactive/Impulsive'\u001b[0m\u001b[0;34m,\u001b[0m \u001b[0;34m'ADHD-Inattentive'\u001b[0m\u001b[0;34m]\u001b[0m\u001b[0;34m)\u001b[0m\u001b[0;34m\u001b[0m\u001b[0;34m\u001b[0m\u001b[0m\n\u001b[0;32m----> 7\u001b[0;31m \u001b[0mfigure\u001b[0m\u001b[0;34m(\u001b[0m\u001b[0mfigsize\u001b[0m\u001b[0;34m=\u001b[0m\u001b[0;34m(\u001b[0m\u001b[0;36m8\u001b[0m\u001b[0;34m,\u001b[0m \u001b[0;36m6\u001b[0m\u001b[0;34m)\u001b[0m\u001b[0;34m,\u001b[0m \u001b[0mdpi\u001b[0m\u001b[0;34m=\u001b[0m\u001b[0;36m80\u001b[0m\u001b[0;34m)\u001b[0m\u001b[0;34m\u001b[0m\u001b[0;34m\u001b[0m\u001b[0m\n\u001b[0m",
      "\u001b[0;31mNameError\u001b[0m: name 'figure' is not defined"
     ]
    },
    {
     "data": {
      "image/png": "[encoded data removed]",
      "text/plain": [
       "<Figure size 432x288 with 1 Axes>"
      ]
     },
     "metadata": {
      "needs_background": "light"
     },
     "output_type": "display_data"
    }
   ],
   "source": [
    "plt.hist([femaleDX,maleDX], color = ['orchid', 'tomato'])\n",
    "plt.title('Diagnosis by Gender')\n",
    "plt.xlabel('Subject Diagnosis')\n",
    "plt.ylabel('Number of Subjects')\n",
    "plt.legend(['Female','Male'])\n",
    "plt.xticks([0,1,2,3],['Typically Developing', 'ADHD-Combined', 'ADHD-Hyperactive/Impulsive', 'ADHD-Inattentive'])\n",
    "(figsize=(8, 6), dpi=80)"
   ]
  },
  {
   "cell_type": "code",
   "execution_count": 177,
   "id": "8ccb5a8e-43b3-468d-be7e-8bfa3311d237",
   "metadata": {},
   "outputs": [
    {
     "name": "stdout",
     "output_type": "stream",
     "text": [
      "why isnt this working they shouldnt have the same size bars and how to make labels not overlap\n"
     ]
    }
   ],
   "source": [
    "print('why isnt this working they shouldnt have the same size bars and how to make labels not overlap')"
   ]
  },
  {
   "cell_type": "code",
   "execution_count": null,
   "id": "608cc821-4556-4ca3-80d7-f674eac1dd6a",
   "metadata": {},
   "outputs": [],
   "source": []
  },
  {
   "cell_type": "code",
   "execution_count": null,
   "id": "2a3f372f-40ec-4fe6-ade5-0693dc353704",
   "metadata": {},
   "outputs": [],
   "source": []
  },
  {
   "cell_type": "code",
   "execution_count": null,
   "id": "78a2cbfc-c09e-4875-bbb1-298a8266db43",
   "metadata": {},
   "outputs": [],
   "source": []
  },
  {
   "cell_type": "code",
   "execution_count": null,
   "id": "b0751598-44dc-4bfa-a146-a91eebb28eec",
   "metadata": {},
   "outputs": [],
   "source": []
  },
  {
   "cell_type": "code",
   "execution_count": 135,
   "id": "6ac0128b-f299-4b81-85eb-d99aec6572c3",
   "metadata": {},
   "outputs": [
    {
     "name": "stdout",
     "output_type": "stream",
     "text": [
      "nndf = df without pending or -999 values\n"
     ]
    }
   ],
   "source": [
    "nndf = ndf[ndf['Full4 IQ']>0]\n",
    "print('nndf = df without pending or -999 values')"
   ]
  },
  {
   "cell_type": "code",
   "execution_count": 134,
   "id": "63f8aba5-d58a-4094-93f6-273a01fbe1e1",
   "metadata": {},
   "outputs": [
    {
     "data": {
      "text/plain": [
       "'mean IQ = 110.59842022116902'"
      ]
     },
     "execution_count": 134,
     "metadata": {},
     "output_type": "execute_result"
    }
   ],
   "source": [
    "'mean IQ = {}'.format(nndf['Full4 IQ'].mean())"
   ]
  },
  {
   "cell_type": "code",
   "execution_count": 136,
   "id": "9c9cd1e1-e231-4690-9d5d-206da8b549e9",
   "metadata": {},
   "outputs": [
    {
     "data": {
      "text/plain": [
       "'std IQ = 13.848102187997139'"
      ]
     },
     "execution_count": 136,
     "metadata": {},
     "output_type": "execute_result"
    }
   ],
   "source": [
    "'std IQ = {}'.format(nndf['Full4 IQ'].std())"
   ]
  },
  {
   "cell_type": "code",
   "execution_count": 137,
   "id": "eb9ac0de-a7f3-49a5-b750-191a8d75fc87",
   "metadata": {},
   "outputs": [
    {
     "data": {
      "text/plain": [
       "'median IQ = 110.0'"
      ]
     },
     "execution_count": 137,
     "metadata": {},
     "output_type": "execute_result"
    }
   ],
   "source": [
    "'median IQ = {}'.format(nndf['Full4 IQ'].median())"
   ]
  },
  {
   "cell_type": "code",
   "execution_count": 138,
   "id": "e9bdb991-e83d-4bdc-aa44-40c1969f2c15",
   "metadata": {},
   "outputs": [
    {
     "data": {
      "text/plain": [
       "'maximum IQ = 144.0'"
      ]
     },
     "execution_count": 138,
     "metadata": {},
     "output_type": "execute_result"
    }
   ],
   "source": [
    "'maximum IQ = {}'.format(nndf['Full4 IQ'].max())"
   ]
  },
  {
   "cell_type": "code",
   "execution_count": 143,
   "id": "b8142404-ed9b-4a72-b3d0-48714af04336",
   "metadata": {},
   "outputs": [
    {
     "data": {
      "text/plain": [
       "'minimum IQ = 73.0'"
      ]
     },
     "execution_count": 143,
     "metadata": {},
     "output_type": "execute_result"
    }
   ],
   "source": [
    "'minimum IQ = {}'.format(nndf['Full4 IQ'].min())"
   ]
  },
  {
   "cell_type": "code",
   "execution_count": 145,
   "id": "f6d58dea-a2db-42dc-90d4-a17b3c792f8a",
   "metadata": {},
   "outputs": [
    {
     "data": {
      "text/plain": [
       "'IQ: mean = 110.59842022116902, std = 13.848102187997139, range = 73.0-144.0'"
      ]
     },
     "execution_count": 145,
     "metadata": {},
     "output_type": "execute_result"
    }
   ],
   "source": [
    "'IQ: mean = {}, std = {}, range = {}-{}'.format(nndf['Full4 IQ'].mean(), nndf['Full4 IQ'].std(), nndf['Full4 IQ'].min(), nndf['Full4 IQ'].max())"
   ]
  },
  {
   "cell_type": "code",
   "execution_count": 123,
   "id": "2ce667ee-ce27-4d84-8020-ab2762852ec1",
   "metadata": {},
   "outputs": [],
   "source": [
    "ADHD1df = nndf[nndf['DX']=='1']\n",
    "ADHD2df = nndf[nndf['DX']=='2']\n",
    "ADHD3df = nndf[nndf['DX']=='3']"
   ]
  },
  {
   "cell_type": "code",
   "execution_count": 160,
   "id": "402ba456-e475-4dc5-b786-91b95abcf97c",
   "metadata": {},
   "outputs": [],
   "source": [
    "controliqdf = nndf[nndf['DX']=='0']"
   ]
  },
  {
   "cell_type": "code",
   "execution_count": 124,
   "id": "0319e31f-55d4-4053-ad5a-147fb6691387",
   "metadata": {},
   "outputs": [],
   "source": [
    "type1IQ = ADHD1df['Full4 IQ']\n",
    "type2IQ = ADHD2df['Full4 IQ']\n",
    "type3IQ = ADHD3df['Full4 IQ']"
   ]
  },
  {
   "cell_type": "code",
   "execution_count": 161,
   "id": "0a871a42-859e-47b4-806a-98ded65028cf",
   "metadata": {},
   "outputs": [],
   "source": [
    "controlIQ = controliqdf['Full4 IQ']"
   ]
  },
  {
   "cell_type": "code",
   "execution_count": 168,
   "id": "6b4d2f06-5625-46a1-88a5-0a7411cec321",
   "metadata": {},
   "outputs": [
    {
     "data": {
      "text/plain": [
       "<matplotlib.legend.Legend at 0x155510dcc910>"
      ]
     },
     "execution_count": 168,
     "metadata": {},
     "output_type": "execute_result"
    },
    {
     "data": {
      "image/png": "[encoded data removed]",
      "text/plain": [
       "<Figure size 432x288 with 1 Axes>"
      ]
     },
     "metadata": {
      "needs_background": "light"
     },
     "output_type": "display_data"
    }
   ],
   "source": [
    "plt.hist(type1IQ, alpha=0.7, color='cyan')\n",
    "plt.hist(type2IQ, color='fuchsia')\n",
    "plt.hist(type3IQ, alpha=0.7, color='salmon')\n",
    "plt.hist(controlIQ, alpha=0.4, color='paleturquoise')\n",
    "plt.title('IQ')\n",
    "plt.xlabel('Subject IQ')\n",
    "plt.ylabel('Number of Subjects')\n",
    "plt.legend(['ADHD-Combined', 'ADHD-Hyperactive/Impulsive', 'ADHD-Inattentive', 'Typically Developing'])"
   ]
  },
  {
   "cell_type": "code",
   "execution_count": 169,
   "id": "0241caf1-ce13-419c-b3b1-dc16da511f82",
   "metadata": {},
   "outputs": [
    {
     "name": "stdout",
     "output_type": "stream",
     "text": [
      "1 the legend is covering the whole thing, 2 can barely see the hyperactive-impulsive\n"
     ]
    }
   ],
   "source": [
    "print('1 the legend is covering the whole thing, 2 can barely see the hyperactive-impulsive')"
   ]
  },
  {
   "cell_type": "code",
   "execution_count": null,
   "id": "acdc5eee-870d-4141-afd0-0c4d304661f2",
   "metadata": {},
   "outputs": [],
   "source": []
  }
 ],
 "metadata": {
  "kernelspec": {
   "display_name": "Python 3 (ipykernel)",
   "language": "python",
   "name": "python3"
  },
  "language_info": {
   "codemirror_mode": {
    "name": "ipython",
    "version": 3
   },
   "file_extension": ".py",
   "mimetype": "text/x-python",
   "name": "python",
   "nbconvert_exporter": "python",
   "pygments_lexer": "ipython3",
   "version": "3.8.8"
  }
 },
 "nbformat": 4,
 "nbformat_minor": 5
}
