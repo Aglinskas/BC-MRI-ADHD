{
 "cells": [
  {
   "cell_type": "code",
   "execution_count": 11,
   "id": "ce432dca-3cae-41a3-8136-83ad1dff3580",
   "metadata": {},
   "outputs": [],
   "source": [
    "import pandas as pd"
   ]
  },
  {
   "cell_type": "code",
   "execution_count": 12,
   "id": "c32dcefe-423a-445e-88d1-bdddc2c78082",
   "metadata": {},
   "outputs": [],
   "source": [
    "import numpy as np\n",
    "import matplotlib.colors as mcolors"
   ]
  },
  {
   "cell_type": "code",
   "execution_count": 13,
   "id": "87c004fa-f5db-4d77-8243-ae9a9265d281",
   "metadata": {},
   "outputs": [],
   "source": [
    "import matplotlib.pyplot as plt\n",
    "import numpy as np\n",
    "from matplotlib import colors\n",
    "from matplotlib.ticker import PercentFormatter"
   ]
  },
  {
   "cell_type": "code",
   "execution_count": 14,
   "id": "f0abc4f6-6b60-4018-b979-08954ca0ebed",
   "metadata": {},
   "outputs": [],
   "source": [
    "df = pd.read_csv('df_all.csv')"
   ]
  },
  {
   "cell_type": "code",
   "execution_count": 15,
   "id": "ccf0fd45-4824-4b14-9418-83c4486874e1",
   "metadata": {},
   "outputs": [
    {
     "data": {
      "text/plain": [
       "'Number of female subjects = 315, Number of male subjects = 401,'"
      ]
     },
     "execution_count": 15,
     "metadata": {},
     "output_type": "execute_result"
    }
   ],
   "source": [
    "'Number of female subjects = {}, Number of male subjects = {},'.format(df['Gender'].value_counts()[0.0], df['Gender'].value_counts()[1.0])"
   ]
  },
  {
   "cell_type": "code",
   "execution_count": 55,
   "id": "420519cf-2daa-4d00-baa5-1b725b435725",
   "metadata": {},
   "outputs": [
    {
     "data": {
      "text/plain": [
       "'Number of ADHD subjects = 274, Number of typically developing subjects = 430'"
      ]
     },
     "execution_count": 55,
     "metadata": {},
     "output_type": "execute_result"
    }
   ],
   "source": [
    "'Number of ADHD subjects = {}, Number of typically developing subjects = {}'.format(df['DX'].value_counts()[1]+df['DX'].value_counts()[2]+df['DX'].value_counts()[3], df['DX'].value_counts()[0])"
   ]
  },
  {
   "cell_type": "code",
   "execution_count": 54,
   "id": "e530d02a-48c3-477a-822f-6eb9bee7bca8",
   "metadata": {},
   "outputs": [
    {
     "data": {
      "text/plain": [
       "'Number of ADHD-Combined subjects = 154, Number of ADHD-Hyperactive/Impulsive subjects = 94, Number of ADHD-Inattentive subjects = 26, Number of typically developing subjects = 430'"
      ]
     },
     "execution_count": 54,
     "metadata": {},
     "output_type": "execute_result"
    }
   ],
   "source": [
    "'Number of ADHD-Combined subjects = {}, Number of ADHD-Hyperactive/Impulsive subjects = {}, Number of ADHD-Inattentive subjects = {}, Number of typically developing subjects = {}'.format(df['DX'].value_counts()[1], df['DX'].value_counts()[2], df['DX'].value_counts()[3], df['DX'].value_counts()[0])"
   ]
  },
  {
   "cell_type": "code",
   "execution_count": 57,
   "id": "7fa55c8b-273d-4d44-944e-dc423d597a8f",
   "metadata": {},
   "outputs": [
    {
     "data": {
      "text/plain": [
       "'Number of subjects with pending diagnosis = 26'"
      ]
     },
     "execution_count": 57,
     "metadata": {},
     "output_type": "execute_result"
    }
   ],
   "source": [
    "'Number of subjects with pending diagnosis = {}'.format(df['DX'].value_counts()['pending'])"
   ]
  },
  {
   "cell_type": "code",
   "execution_count": 58,
   "id": "d0fb76f5-c745-4f37-bde3-0d341686c993",
   "metadata": {},
   "outputs": [
    {
     "data": {
      "text/plain": [
       "'22 Right-handed, 474 Left-handed, 18 Ambidextrous'"
      ]
     },
     "execution_count": 58,
     "metadata": {},
     "output_type": "execute_result"
    }
   ],
   "source": [
    "'{} Right-handed, {} Left-handed, {} Ambidextrous'.format(df['Handedness'].value_counts()[1], df['Handedness'].value_counts()[0], df['Handedness'].value_counts()[2])"
   ]
  },
  {
   "cell_type": "code",
   "execution_count": 59,
   "id": "c8f1fe07-814e-4933-90c3-a07f42077978",
   "metadata": {},
   "outputs": [
    {
     "name": "stdout",
     "output_type": "stream",
     "text": [
      "some of the handedness values are decimals and also these handedness counts are simply not correct\n"
     ]
    }
   ],
   "source": [
    "print('some of the handedness values are decimals and also these handedness counts are simply not correct')"
   ]
  },
  {
   "cell_type": "code",
   "execution_count": 17,
   "id": "1f0d4bfe-ef8a-40e3-b724-ff32e473ccf8",
   "metadata": {},
   "outputs": [
    {
     "data": {
      "text/plain": [
       "'Age: mean = 11.836276150627608, std = 3.2465969629498894, range = 7.17-21.74'"
      ]
     },
     "execution_count": 17,
     "metadata": {},
     "output_type": "execute_result"
    }
   ],
   "source": [
    "'Age: mean = {}, std = {}, range = {}-{}'.format(df['Age'].mean(), df['Age'].std(), df['Age'].min(), df['Age'].max())"
   ]
  },
  {
   "cell_type": "code",
   "execution_count": 18,
   "id": "a5d5bf23-190b-46b7-ba88-6031f5fa2583",
   "metadata": {},
   "outputs": [
    {
     "data": {
      "text/plain": [
       "Text(0, 0.5, 'Number of Subjects')"
      ]
     },
     "execution_count": 18,
     "metadata": {},
     "output_type": "execute_result"
    },
    {
     "data": {
      "image/png": "[encoded data removed]",
      "text/plain": [
       "<Figure size 432x288 with 1 Axes>"
      ]
     },
     "metadata": {
      "needs_background": "light"
     },
     "output_type": "display_data"
    }
   ],
   "source": [
    "Age = df['Age']\n",
    "plt.hist(Age,bins=15,color='peachpuff')\n",
    "plt.title('Subject Age')\n",
    "plt.xlabel('Age')\n",
    "plt.ylabel('Number of Subjects')"
   ]
  },
  {
   "cell_type": "code",
   "execution_count": 19,
   "id": "1bf92dd3-4891-4430-b12a-f11f8697000f",
   "metadata": {},
   "outputs": [
    {
     "name": "stdout",
     "output_type": "stream",
     "text": [
      "ndf = df without pending values\n"
     ]
    }
   ],
   "source": [
    "ndf = df[df['DX'] != 'pending']\n",
    "print('ndf = df without pending values')"
   ]
  },
  {
   "cell_type": "code",
   "execution_count": 20,
   "id": "8a790625-7bc5-43bb-b34b-f7490eab11e8",
   "metadata": {},
   "outputs": [],
   "source": [
    "ADHDdf = ndf[ndf['DX'] != '0']"
   ]
  },
  {
   "cell_type": "code",
   "execution_count": 22,
   "id": "31aa4401-6f19-4c9f-b869-2fa02ae3b7d0",
   "metadata": {},
   "outputs": [],
   "source": [
    "controldf = ndf[ndf['DX'] == '0']"
   ]
  },
  {
   "cell_type": "code",
   "execution_count": 24,
   "id": "c7f0cc7e-95d6-4d53-b34f-475fe17a3d22",
   "metadata": {},
   "outputs": [
    {
     "data": {
      "text/plain": [
       "<matplotlib.legend.Legend at 0x155514e86070>"
      ]
     },
     "execution_count": 24,
     "metadata": {},
     "output_type": "execute_result"
    },
    {
     "data": {
      "image/png": "[encoded data removed]",
      "text/plain": [
       "<Figure size 432x288 with 1 Axes>"
      ]
     },
     "metadata": {
      "needs_background": "light"
     },
     "output_type": "display_data"
    }
   ],
   "source": [
    "ADHDage = ADHDdf['Age']\n",
    "plt.hist(ADHDage, alpha=0.6, color = 'purple')\n",
    "controlage = controldf['Age']\n",
    "plt.hist(controlage, alpha=0.3, color='darkturquoise')\n",
    "plt.title('Subject Age')\n",
    "plt.xlabel('Age')\n",
    "plt.ylabel('Number of Subjects')\n",
    "plt.legend(['ADHD', 'Typically Developing'])"
   ]
  },
  {
   "cell_type": "code",
   "execution_count": 25,
   "id": "f72a32be-b4e7-4bc6-a547-c53012b031c9",
   "metadata": {},
   "outputs": [],
   "source": [
    "femaledf = ndf[ndf['Gender']!='1.0']\n",
    "maledf = ndf[ndf['Gender']!='0.0']"
   ]
  },
  {
   "cell_type": "code",
   "execution_count": 43,
   "id": "0ec6780a-24c3-4b05-a640-96be6ac73948",
   "metadata": {},
   "outputs": [
    {
     "data": {
      "text/plain": [
       "([<matplotlib.axis.XTick at 0x15551386bc70>,\n",
       "  <matplotlib.axis.XTick at 0x15551386bc40>,\n",
       "  <matplotlib.axis.XTick at 0x155513862f40>,\n",
       "  <matplotlib.axis.XTick at 0x1555138340d0>],\n",
       " [Text(0, 0, 'Typically Developing'),\n",
       "  Text(1, 0, 'ADHD-Combined'),\n",
       "  Text(2, 0, 'ADHD-Hyperactive/Impulsive'),\n",
       "  Text(3, 0, 'ADHD-Inattentive')])"
      ]
     },
     "execution_count": 43,
     "metadata": {},
     "output_type": "execute_result"
    },
    {
     "data": {
      "image/png": "[encoded data removed]",
      "text/plain": [
       "<Figure size 432x288 with 1 Axes>"
      ]
     },
     "metadata": {
      "needs_background": "light"
     },
     "output_type": "display_data"
    }
   ],
   "source": [
    "femaleDX = femaledf['DX']\n",
    "plt.hist(femaleDX, color = 'orchid')\n",
    "plt.title('Female Subject Diagnosis')\n",
    "plt.xlabel('Diagnosis')\n",
    "plt.ylabel('Number of Subjects')\n",
    "plt.xticks([0,1,2,3],['Typically Developing', 'ADHD-Combined', 'ADHD-Hyperactive/Impulsive', 'ADHD-Inattentive'])\n"
   ]
  },
  {
   "cell_type": "code",
   "execution_count": 42,
   "id": "133ba4ca-fa3a-4569-8caa-f75f370b253e",
   "metadata": {},
   "outputs": [
    {
     "data": {
      "text/plain": [
       "([<matplotlib.axis.XTick at 0x155513902fd0>,\n",
       "  <matplotlib.axis.XTick at 0x155513902fa0>,\n",
       "  <matplotlib.axis.XTick at 0x1555139022b0>,\n",
       "  <matplotlib.axis.XTick at 0x1555138c4460>],\n",
       " [Text(0, 0, 'Typically Developing'),\n",
       "  Text(1, 0, 'ADHD-Combined'),\n",
       "  Text(2, 0, 'ADHD-Hyperactive/Impulsive'),\n",
       "  Text(3, 0, 'ADHD-Inattentive')])"
      ]
     },
     "execution_count": 42,
     "metadata": {},
     "output_type": "execute_result"
    },
    {
     "data": {
      "image/png": "[encoded data removed]",
      "text/plain": [
       "<Figure size 432x288 with 1 Axes>"
      ]
     },
     "metadata": {
      "needs_background": "light"
     },
     "output_type": "display_data"
    }
   ],
   "source": [
    "maleDX = maledf['DX']\n",
    "plt.hist(maleDX, color = 'tomato')\n",
    "plt.title('Male Subject Diagnosis')\n",
    "plt.xlabel('Diagnosis')\n",
    "plt.ylabel('Number of Subjects')\n",
    "plt.xticks([0,1,2,3],['Typically Developing', 'ADHD-Combined', 'ADHD-Hyperactive/Impulsive', 'ADHD-Inattentive'])"
   ]
  },
  {
   "cell_type": "code",
   "execution_count": 29,
   "id": "355a6fce-442c-4b57-bdbf-9705f3559e77",
   "metadata": {},
   "outputs": [
    {
     "data": {
      "text/plain": [
       "([<matplotlib.axis.XTick at 0x155514fdca30>,\n",
       "  <matplotlib.axis.XTick at 0x155514fdca00>,\n",
       "  <matplotlib.axis.XTick at 0x155514d49af0>,\n",
       "  <matplotlib.axis.XTick at 0x155514caf520>],\n",
       " [Text(0, 0, 'Typically Developing'),\n",
       "  Text(1, 0, 'ADHD-Combined'),\n",
       "  Text(2, 0, 'ADHD-Hyperactive/Impulsive'),\n",
       "  Text(3, 0, 'ADHD-Inattentive')])"
      ]
     },
     "execution_count": 29,
     "metadata": {},
     "output_type": "execute_result"
    },
    {
     "data": {
      "image/png": "[encoded data removed]",
      "text/plain": [
       "<Figure size 432x288 with 1 Axes>"
      ]
     },
     "metadata": {
      "needs_background": "light"
     },
     "output_type": "display_data"
    }
   ],
   "source": [
    "plt.hist([femaleDX,maleDX], color = ['orchid', 'tomato'])\n",
    "plt.title('Diagnosis by Gender')\n",
    "plt.xlabel('Subject Diagnosis')\n",
    "plt.ylabel('Number of Subjects')\n",
    "plt.legend(['Female','Male'])\n",
    "plt.xticks([0,1,2,3],['Typically Developing', 'ADHD-Combined', 'ADHD-Hyperactive/Impulsive', 'ADHD-Inattentive'])\n"
   ]
  },
  {
   "cell_type": "code",
   "execution_count": 30,
   "id": "86140223-983a-44e7-b759-6e38e7e2aa20",
   "metadata": {},
   "outputs": [
    {
     "name": "stdout",
     "output_type": "stream",
     "text": [
      "why isnt this working they shouldnt have the same size bars and how to make labels not overlap\n"
     ]
    }
   ],
   "source": [
    "print('why isnt this working they shouldnt have the same size bars and how to make labels not overlap')"
   ]
  },
  {
   "cell_type": "code",
   "execution_count": null,
   "id": "33866d24-131e-4eb4-9652-9ad4d17462f6",
   "metadata": {},
   "outputs": [],
   "source": []
  },
  {
   "cell_type": "code",
   "execution_count": null,
   "id": "00311b51-51b7-4794-8ef6-fbce19fbcf9d",
   "metadata": {},
   "outputs": [],
   "source": []
  },
  {
   "cell_type": "code",
   "execution_count": null,
   "id": "8f569438-ce16-4fcd-b983-0314aa0e63f3",
   "metadata": {},
   "outputs": [],
   "source": []
  },
  {
   "cell_type": "code",
   "execution_count": 31,
   "id": "d3667f9b-5ca0-4bb6-87da-0bd4c8196567",
   "metadata": {},
   "outputs": [
    {
     "name": "stdout",
     "output_type": "stream",
     "text": [
      "nndf = df without pending or -999 values\n"
     ]
    }
   ],
   "source": [
    "nndf = ndf[ndf['Full4 IQ']>0]\n",
    "print('nndf = df without pending or -999 values')"
   ]
  },
  {
   "cell_type": "code",
   "execution_count": 33,
   "id": "c4347655-e3cc-4715-b031-3bcb8b3018f9",
   "metadata": {},
   "outputs": [
    {
     "data": {
      "text/plain": [
       "'IQ: mean = 110.59842022116902, std = 13.848102187997139, range = 73.0-144.0'"
      ]
     },
     "execution_count": 33,
     "metadata": {},
     "output_type": "execute_result"
    }
   ],
   "source": [
    "'IQ: mean = {}, std = {}, range = {}-{}'.format(nndf['Full4 IQ'].mean(), nndf['Full4 IQ'].std(), nndf['Full4 IQ'].min(), nndf['Full4 IQ'].max())"
   ]
  },
  {
   "cell_type": "code",
   "execution_count": 34,
   "id": "670e9584-9697-483a-a63e-f19178ac97b1",
   "metadata": {},
   "outputs": [],
   "source": [
    "ADHD1df = nndf[nndf['DX']=='1']\n",
    "ADHD2df = nndf[nndf['DX']=='2']\n",
    "ADHD3df = nndf[nndf['DX']=='3']"
   ]
  },
  {
   "cell_type": "code",
   "execution_count": 35,
   "id": "90452acb-849d-4ed9-8ca0-7378c6950af1",
   "metadata": {},
   "outputs": [],
   "source": [
    "controliqdf = nndf[nndf['DX']=='0']"
   ]
  },
  {
   "cell_type": "code",
   "execution_count": 36,
   "id": "1b7960c6-a938-4552-b44d-b9293ab1a718",
   "metadata": {},
   "outputs": [],
   "source": [
    "type1IQ = ADHD1df['Full4 IQ']\n",
    "type2IQ = ADHD2df['Full4 IQ']\n",
    "type3IQ = ADHD3df['Full4 IQ']"
   ]
  },
  {
   "cell_type": "code",
   "execution_count": 37,
   "id": "7d101024-991c-4860-b6a6-fd0e51530984",
   "metadata": {},
   "outputs": [],
   "source": [
    "controlIQ = controliqdf['Full4 IQ']"
   ]
  },
  {
   "cell_type": "code",
   "execution_count": 38,
   "id": "8255b216-89ef-4279-9ac9-db39da9c9440",
   "metadata": {},
   "outputs": [
    {
     "data": {
      "text/plain": [
       "<matplotlib.legend.Legend at 0x155513c1af40>"
      ]
     },
     "execution_count": 38,
     "metadata": {},
     "output_type": "execute_result"
    },
    {
     "data": {
      "image/png": "[encoded data removed]",
      "text/plain": [
       "<Figure size 432x288 with 1 Axes>"
      ]
     },
     "metadata": {
      "needs_background": "light"
     },
     "output_type": "display_data"
    }
   ],
   "source": [
    "plt.hist(type1IQ, alpha=0.7, color='cyan')\n",
    "plt.hist(type2IQ, color='fuchsia')\n",
    "plt.hist(type3IQ, alpha=0.7, color='salmon')\n",
    "plt.hist(controlIQ, alpha=0.4, color='paleturquoise')\n",
    "plt.title('IQ')\n",
    "plt.xlabel('Subject IQ')\n",
    "plt.ylabel('Number of Subjects')\n",
    "plt.legend(['ADHD-Combined', 'ADHD-Hyperactive/Impulsive', 'ADHD-Inattentive', 'Typically Developing'])"
   ]
  },
  {
   "cell_type": "code",
   "execution_count": 39,
   "id": "05eb2da1-4ba2-4e20-ab06-092f490e08fa",
   "metadata": {},
   "outputs": [
    {
     "name": "stdout",
     "output_type": "stream",
     "text": [
      "1 the legend is covering the whole thing, 2 can barely see the hyperactive-impulsive\n"
     ]
    }
   ],
   "source": [
    "print('1 the legend is covering the whole thing, 2 can barely see the hyperactive-impulsive')"
   ]
  },
  {
   "cell_type": "code",
   "execution_count": null,
   "id": "1e7ae50a-06fd-499b-8142-cf15ffa96fb9",
   "metadata": {},
   "outputs": [],
   "source": []
  },
  {
   "cell_type": "code",
   "execution_count": null,
   "id": "526e728e-5d66-428f-aa23-3c0f9058e0d5",
   "metadata": {},
   "outputs": [],
   "source": []
  }
 ],
 "metadata": {
  "kernelspec": {
   "display_name": "Python 3 (ipykernel)",
   "language": "python",
   "name": "python3"
  },
  "language_info": {
   "codemirror_mode": {
    "name": "ipython",
    "version": 3
   },
   "file_extension": ".py",
   "mimetype": "text/x-python",
   "name": "python",
   "nbconvert_exporter": "python",
   "pygments_lexer": "ipython3",
   "version": "3.8.8"
  }
 },
 "nbformat": 4,
 "nbformat_minor": 5
}
