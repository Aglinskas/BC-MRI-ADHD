{
 "cells": [
  {
   "cell_type": "code",
   "execution_count": 1,
   "id": "3ee0e8eb-9f3b-486b-875e-239d111aee4c",
   "metadata": {},
   "outputs": [],
   "source": [
    "import ants\n",
    "import numpy as np\n",
    "import os"
   ]
  },
  {
   "cell_type": "code",
   "execution_count": 2,
   "id": "771ea5aa-ef69-4150-b11b-a4970b1e37d6",
   "metadata": {},
   "outputs": [],
   "source": [
    "indir = '../../data/ADHD200/Outputs/fmriprep/fmriprep/'"
   ]
  },
  {
   "cell_type": "code",
   "execution_count": 3,
   "id": "0b5481e2-9397-42cd-9d8a-69d81c4a527c",
   "metadata": {},
   "outputs": [],
   "source": [
    "contents = os.listdir(indir)\n",
    "subs = [content for content in contents if all((content.startswith('sub-') , os.path.isdir(os.path.join(indir,content))))]\n",
    "subs.sort()"
   ]
  },
  {
   "cell_type": "code",
   "execution_count": 4,
   "id": "cefebf48-954d-40cd-a148-8957c56dfcbe",
   "metadata": {},
   "outputs": [
    {
     "data": {
      "text/plain": [
       "['sub-0010001',\n",
       " 'sub-0010002',\n",
       " 'sub-0010003',\n",
       " 'sub-0010004',\n",
       " 'sub-0010005',\n",
       " 'sub-0010006',\n",
       " 'sub-0010007',\n",
       " 'sub-0010008',\n",
       " 'sub-0010009',\n",
       " 'sub-0010010']"
      ]
     },
     "execution_count": 4,
     "metadata": {},
     "output_type": "execute_result"
    }
   ],
   "source": [
    "subs[0:10]"
   ]
  },
  {
   "cell_type": "code",
   "execution_count": 5,
   "id": "c7626414-0b1b-4424-a00d-d58bff58e68e",
   "metadata": {},
   "outputs": [
    {
     "data": {
      "text/plain": [
       "['sub-0010011',\n",
       " 'sub-0010012',\n",
       " 'sub-0010013',\n",
       " 'sub-0010014',\n",
       " 'sub-0010015',\n",
       " 'sub-0010017',\n",
       " 'sub-0010018',\n",
       " 'sub-0010019',\n",
       " 'sub-0010020',\n",
       " 'sub-0010021']"
      ]
     },
     "execution_count": 5,
     "metadata": {},
     "output_type": "execute_result"
    }
   ],
   "source": [
    "subs[10:20]"
   ]
  },
  {
   "cell_type": "code",
   "execution_count": 6,
   "id": "a10e8650-8d16-4e72-92ea-dc0e7478d9eb",
   "metadata": {},
   "outputs": [
    {
     "name": "stdout",
     "output_type": "stream",
     "text": [
      "2\n"
     ]
    }
   ],
   "source": [
    "index = subs.index('sub-0010003')\n",
    "print(index)"
   ]
  },
  {
   "cell_type": "code",
   "execution_count": 7,
   "id": "adadad97-8dc2-48d2-beb0-fa6e19e18c7f",
   "metadata": {},
   "outputs": [
    {
     "name": "stdout",
     "output_type": "stream",
     "text": [
      "[1, 2, 3, 4, 5]\n"
     ]
    }
   ],
   "source": [
    "lst = list(range(1,5+1))\n",
    "print(lst)"
   ]
  },
  {
   "cell_type": "code",
   "execution_count": 8,
   "id": "94141c58-aef4-4f63-a825-5dea12b00a40",
   "metadata": {},
   "outputs": [],
   "source": [
    "for s in lst:\n",
    "    eval "
   ]
  },
  {
   "cell_type": "code",
   "execution_count": null,
   "id": "eba9a7bd-39b6-4df8-a096-fc70db7674b9",
   "metadata": {},
   "outputs": [],
   "source": [
    "for s in lst:\n",
    "    T1_fn_template = '{sub}_desc-preproc_T1w.nii.gz' #formatted string\n",
    "    brain_mask_template = '{sub}_desc-brain_mask.nii.gz' #formatted string\n",
    "   \n",
    "    T1_fn = T1_fn_template.format(sub=subs[s]) # full path to the brain scan\n",
    "    brain_mask_fn = brain_mask_template.format(sub=subs[s])\n",
    "    \n",
    "    T1_path = os.path.join(indir,subs[s],'anat',T1_fn)\n",
    "    brain_mask_path = os.path.join(indir,subs[s],'anat',brain_mask_fn)\n",
    "    \n",
    "    print(T1_path)\n",
    "    print(brain_mask_path)"
   ]
  },
  {
   "cell_type": "code",
   "execution_count": null,
   "id": "11dc6b70-19f9-44e2-985b-8f21fcf2a5eb",
   "metadata": {},
   "outputs": [],
   "source": [
    "print('ok great you got a loop to work but you need to figure out how to get the T1 to change with s')"
   ]
  },
  {
   "cell_type": "code",
   "execution_count": null,
   "id": "89346d3a-1732-4628-8691-048861bea523",
   "metadata": {},
   "outputs": [],
   "source": [
    "for s in lst:\n",
    "    T1 = ants.image_read(T1_path) # Read in the image as ants object\n",
    "    brain_mask = ants.image_read(brain_mask_path)\n",
    "    T1.plot_ortho(flat=True,title='T1')\n",
    "    brain_mask.plot_ortho(flat=True,title='Brain Mask')\n",
    "    T1.plot_ortho(brain_mask,flat=True,title='Overlaid')"
   ]
  },
  {
   "cell_type": "code",
   "execution_count": null,
   "id": "28bddc71-4e9c-43ff-a3f5-1e8adc660e85",
   "metadata": {},
   "outputs": [],
   "source": [
    "print('ok great you got two sets of the same brain to spit out of the loopbecause you cant figure out how to change T1 in the calls to T2 when it loops')"
   ]
  },
  {
   "cell_type": "code",
   "execution_count": null,
   "id": "0360dfd8-6881-481f-ba55-94adf952ff51",
   "metadata": {},
   "outputs": [],
   "source": []
  }
 ],
 "metadata": {
  "kernelspec": {
   "display_name": "Python 3 (ipykernel)",
   "language": "python",
   "name": "python3"
  },
  "language_info": {
   "codemirror_mode": {
    "name": "ipython",
    "version": 3
   },
   "file_extension": ".py",
   "mimetype": "text/x-python",
   "name": "python",
   "nbconvert_exporter": "python",
   "pygments_lexer": "ipython3",
   "version": "3.8.8"
  }
 },
 "nbformat": 4,
 "nbformat_minor": 5
}
