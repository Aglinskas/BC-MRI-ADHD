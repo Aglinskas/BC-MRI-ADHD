{
 "cells": [
  {
   "cell_type": "code",
   "execution_count": 1,
   "id": "3c281a61-f3bc-46e7-84be-cf06d689ce2d",
   "metadata": {},
   "outputs": [],
   "source": [
    "import ants\n",
    "import numpy as np\n",
    "import os"
   ]
  },
  {
   "cell_type": "code",
   "execution_count": 2,
   "id": "4d24327d-1965-481a-9f4e-90d65c736035",
   "metadata": {},
   "outputs": [],
   "source": [
    "indir = '../../data/ADHD200/Outputs/fmriprep/fmriprep/'"
   ]
  },
  {
   "cell_type": "code",
   "execution_count": 3,
   "id": "d29f7dd6-b44b-433c-b629-987a92125ab4",
   "metadata": {},
   "outputs": [],
   "source": [
    "contents = os.listdir(indir)\n",
    "subs = [content for content in contents if all((content.startswith('sub-') , os.path.isdir(os.path.join(indir,content))))]\n"
   ]
  },
  {
   "cell_type": "code",
   "execution_count": 4,
   "id": "61197f8e-e94c-4da6-9aa3-f1daa042eb31",
   "metadata": {},
   "outputs": [
    {
     "data": {
      "text/plain": [
       "['sub-8658218',\n",
       " 'sub-4239636',\n",
       " 'sub-1995121',\n",
       " 'sub-0010129',\n",
       " 'sub-0010026',\n",
       " 'sub-0010023',\n",
       " 'sub-1502229',\n",
       " 'sub-3869075',\n",
       " 'sub-2443191']"
      ]
     },
     "execution_count": 4,
     "metadata": {},
     "output_type": "execute_result"
    }
   ],
   "source": [
    "subs[1:10]"
   ]
  },
  {
   "cell_type": "code",
   "execution_count": 5,
   "id": "f97376b9-200c-48b5-9993-6dff493a71f4",
   "metadata": {},
   "outputs": [
    {
     "data": {
      "text/plain": [
       "599"
      ]
     },
     "execution_count": 5,
     "metadata": {},
     "output_type": "execute_result"
    }
   ],
   "source": [
    "len(subs)"
   ]
  },
  {
   "cell_type": "code",
   "execution_count": null,
   "id": "55c526cc-910f-4359-897d-f74c003642d0",
   "metadata": {},
   "outputs": [],
   "source": []
  }
 ],
 "metadata": {
  "kernelspec": {
   "display_name": "Python 3 (ipykernel)",
   "language": "python",
   "name": "python3"
  },
  "language_info": {
   "codemirror_mode": {
    "name": "ipython",
    "version": 3
   },
   "file_extension": ".py",
   "mimetype": "text/x-python",
   "name": "python",
   "nbconvert_exporter": "python",
   "pygments_lexer": "ipython3",
   "version": "3.8.8"
  }
 },
 "nbformat": 4,
 "nbformat_minor": 5
}
