{
 "cells": [
  {
   "cell_type": "code",
   "execution_count": 46,
   "id": "ce432dca-3cae-41a3-8136-83ad1dff3580",
   "metadata": {},
   "outputs": [],
   "source": [
    "import pandas as pd"
   ]
  },
  {
   "cell_type": "code",
   "execution_count": 47,
   "id": "c32dcefe-423a-445e-88d1-bdddc2c78082",
   "metadata": {},
   "outputs": [],
   "source": [
    "import numpy as np\n",
    "import matplotlib.colors as mcolors"
   ]
  },
  {
   "cell_type": "code",
   "execution_count": 48,
   "id": "87c004fa-f5db-4d77-8243-ae9a9265d281",
   "metadata": {},
   "outputs": [],
   "source": [
    "import matplotlib.pyplot as plt\n",
    "import numpy as np\n",
    "from matplotlib import colors\n",
    "from matplotlib.ticker import PercentFormatter"
   ]
  },
  {
   "cell_type": "code",
   "execution_count": 49,
   "id": "f0abc4f6-6b60-4018-b979-08954ca0ebed",
   "metadata": {},
   "outputs": [],
   "source": [
    "df = pd.read_csv('df_all.csv')"
   ]
  },
  {
   "cell_type": "code",
   "execution_count": 50,
   "id": "7cdef7d3-a36d-4c39-90d9-deb18fbcdcc4",
   "metadata": {},
   "outputs": [
    {
     "data": {
      "text/plain": [
       "717"
      ]
     },
     "execution_count": 50,
     "metadata": {},
     "output_type": "execute_result"
    }
   ],
   "source": [
    "len(df) # Number of rows total"
   ]
  },
  {
   "cell_type": "code",
   "execution_count": 51,
   "id": "0e3ce9b0-3a20-40b0-927d-d68ae1e0ccb5",
   "metadata": {},
   "outputs": [
    {
     "data": {
      "text/html": [
       "<div>\n",
       "<style scoped>\n",
       "    .dataframe tbody tr th:only-of-type {\n",
       "        vertical-align: middle;\n",
       "    }\n",
       "\n",
       "    .dataframe tbody tr th {\n",
       "        vertical-align: top;\n",
       "    }\n",
       "\n",
       "    .dataframe thead th {\n",
       "        text-align: right;\n",
       "    }\n",
       "</style>\n",
       "<table border=\"1\" class=\"dataframe\">\n",
       "  <thead>\n",
       "    <tr style=\"text-align: right;\">\n",
       "      <th></th>\n",
       "      <th>Subject</th>\n",
       "      <th>ScanDir ID</th>\n",
       "      <th>Site</th>\n",
       "      <th>Gender</th>\n",
       "      <th>Age</th>\n",
       "      <th>Handedness</th>\n",
       "      <th>DX</th>\n",
       "      <th>Secondary Dx</th>\n",
       "      <th>ADHD Measure</th>\n",
       "      <th>ADHD Index</th>\n",
       "      <th>...</th>\n",
       "      <th>Full2 IQ</th>\n",
       "      <th>Full4 IQ</th>\n",
       "      <th>Med Status</th>\n",
       "      <th>QC_Rest_1</th>\n",
       "      <th>QC_Rest_2</th>\n",
       "      <th>QC_Rest_3</th>\n",
       "      <th>QC_Rest_4</th>\n",
       "      <th>QC_Anatomical_1</th>\n",
       "      <th>QC_Anatomical_2</th>\n",
       "      <th>ID</th>\n",
       "    </tr>\n",
       "  </thead>\n",
       "  <tbody>\n",
       "    <tr>\n",
       "      <th>0</th>\n",
       "      <td>0</td>\n",
       "      <td>26001.0</td>\n",
       "      <td>2</td>\n",
       "      <td>1.0</td>\n",
       "      <td>16.92</td>\n",
       "      <td>1.0</td>\n",
       "      <td>4</td>\n",
       "      <td>pending</td>\n",
       "      <td>pending</td>\n",
       "      <td>pending</td>\n",
       "      <td>...</td>\n",
       "      <td>NaN</td>\n",
       "      <td>120.0</td>\n",
       "      <td>pending</td>\n",
       "      <td>1.0</td>\n",
       "      <td>NaN</td>\n",
       "      <td>NaN</td>\n",
       "      <td>NaN</td>\n",
       "      <td>1.0</td>\n",
       "      <td>NaN</td>\n",
       "      <td>NaN</td>\n",
       "    </tr>\n",
       "    <tr>\n",
       "      <th>1</th>\n",
       "      <td>1</td>\n",
       "      <td>26002.0</td>\n",
       "      <td>2</td>\n",
       "      <td>1.0</td>\n",
       "      <td>15.68</td>\n",
       "      <td>1.0</td>\n",
       "      <td>4</td>\n",
       "      <td>pending</td>\n",
       "      <td>pending</td>\n",
       "      <td>pending</td>\n",
       "      <td>...</td>\n",
       "      <td>NaN</td>\n",
       "      <td>107.0</td>\n",
       "      <td>pending</td>\n",
       "      <td>1.0</td>\n",
       "      <td>NaN</td>\n",
       "      <td>NaN</td>\n",
       "      <td>NaN</td>\n",
       "      <td>1.0</td>\n",
       "      <td>NaN</td>\n",
       "      <td>NaN</td>\n",
       "    </tr>\n",
       "    <tr>\n",
       "      <th>2</th>\n",
       "      <td>2</td>\n",
       "      <td>26004.0</td>\n",
       "      <td>2</td>\n",
       "      <td>0.0</td>\n",
       "      <td>14.99</td>\n",
       "      <td>1.0</td>\n",
       "      <td>4</td>\n",
       "      <td>pending</td>\n",
       "      <td>pending</td>\n",
       "      <td>pending</td>\n",
       "      <td>...</td>\n",
       "      <td>NaN</td>\n",
       "      <td>125.0</td>\n",
       "      <td>pending</td>\n",
       "      <td>1.0</td>\n",
       "      <td>NaN</td>\n",
       "      <td>NaN</td>\n",
       "      <td>NaN</td>\n",
       "      <td>1.0</td>\n",
       "      <td>NaN</td>\n",
       "      <td>NaN</td>\n",
       "    </tr>\n",
       "    <tr>\n",
       "      <th>3</th>\n",
       "      <td>3</td>\n",
       "      <td>26005.0</td>\n",
       "      <td>2</td>\n",
       "      <td>0.0</td>\n",
       "      <td>15.16</td>\n",
       "      <td>1.0</td>\n",
       "      <td>4</td>\n",
       "      <td>pending</td>\n",
       "      <td>pending</td>\n",
       "      <td>pending</td>\n",
       "      <td>...</td>\n",
       "      <td>NaN</td>\n",
       "      <td>126.0</td>\n",
       "      <td>pending</td>\n",
       "      <td>1.0</td>\n",
       "      <td>NaN</td>\n",
       "      <td>NaN</td>\n",
       "      <td>NaN</td>\n",
       "      <td>1.0</td>\n",
       "      <td>NaN</td>\n",
       "      <td>NaN</td>\n",
       "    </tr>\n",
       "    <tr>\n",
       "      <th>4</th>\n",
       "      <td>4</td>\n",
       "      <td>26009.0</td>\n",
       "      <td>2</td>\n",
       "      <td>1.0</td>\n",
       "      <td>16.91</td>\n",
       "      <td>0.0</td>\n",
       "      <td>4</td>\n",
       "      <td>pending</td>\n",
       "      <td>pending</td>\n",
       "      <td>pending</td>\n",
       "      <td>...</td>\n",
       "      <td>NaN</td>\n",
       "      <td>97.0</td>\n",
       "      <td>pending</td>\n",
       "      <td>1.0</td>\n",
       "      <td>NaN</td>\n",
       "      <td>NaN</td>\n",
       "      <td>NaN</td>\n",
       "      <td>1.0</td>\n",
       "      <td>NaN</td>\n",
       "      <td>NaN</td>\n",
       "    </tr>\n",
       "    <tr>\n",
       "      <th>...</th>\n",
       "      <td>...</td>\n",
       "      <td>...</td>\n",
       "      <td>...</td>\n",
       "      <td>...</td>\n",
       "      <td>...</td>\n",
       "      <td>...</td>\n",
       "      <td>...</td>\n",
       "      <td>...</td>\n",
       "      <td>...</td>\n",
       "      <td>...</td>\n",
       "      <td>...</td>\n",
       "      <td>...</td>\n",
       "      <td>...</td>\n",
       "      <td>...</td>\n",
       "      <td>...</td>\n",
       "      <td>...</td>\n",
       "      <td>...</td>\n",
       "      <td>...</td>\n",
       "      <td>...</td>\n",
       "      <td>...</td>\n",
       "      <td>...</td>\n",
       "    </tr>\n",
       "    <tr>\n",
       "      <th>712</th>\n",
       "      <td>712</td>\n",
       "      <td>16015.0</td>\n",
       "      <td>7</td>\n",
       "      <td>1.0</td>\n",
       "      <td>11.70</td>\n",
       "      <td>1.0</td>\n",
       "      <td>0</td>\n",
       "      <td>NaN</td>\n",
       "      <td>NaN</td>\n",
       "      <td>NaN</td>\n",
       "      <td>...</td>\n",
       "      <td>-999.0</td>\n",
       "      <td>108.0</td>\n",
       "      <td>NaN</td>\n",
       "      <td>0.0</td>\n",
       "      <td>NaN</td>\n",
       "      <td>NaN</td>\n",
       "      <td>NaN</td>\n",
       "      <td>1.0</td>\n",
       "      <td>NaN</td>\n",
       "      <td>NaN</td>\n",
       "    </tr>\n",
       "    <tr>\n",
       "      <th>713</th>\n",
       "      <td>713</td>\n",
       "      <td>16035.0</td>\n",
       "      <td>7</td>\n",
       "      <td>1.0</td>\n",
       "      <td>13.94</td>\n",
       "      <td>1.0</td>\n",
       "      <td>0</td>\n",
       "      <td>NaN</td>\n",
       "      <td>NaN</td>\n",
       "      <td>NaN</td>\n",
       "      <td>...</td>\n",
       "      <td>-999.0</td>\n",
       "      <td>113.0</td>\n",
       "      <td>NaN</td>\n",
       "      <td>1.0</td>\n",
       "      <td>NaN</td>\n",
       "      <td>NaN</td>\n",
       "      <td>NaN</td>\n",
       "      <td>1.0</td>\n",
       "      <td>NaN</td>\n",
       "      <td>NaN</td>\n",
       "    </tr>\n",
       "    <tr>\n",
       "      <th>714</th>\n",
       "      <td>714</td>\n",
       "      <td>16023.0</td>\n",
       "      <td>7</td>\n",
       "      <td>0.0</td>\n",
       "      <td>12.51</td>\n",
       "      <td>0.0</td>\n",
       "      <td>0</td>\n",
       "      <td>NaN</td>\n",
       "      <td>NaN</td>\n",
       "      <td>NaN</td>\n",
       "      <td>...</td>\n",
       "      <td>110.0</td>\n",
       "      <td>107.0</td>\n",
       "      <td>NaN</td>\n",
       "      <td>0.0</td>\n",
       "      <td>NaN</td>\n",
       "      <td>NaN</td>\n",
       "      <td>NaN</td>\n",
       "      <td>1.0</td>\n",
       "      <td>NaN</td>\n",
       "      <td>NaN</td>\n",
       "    </tr>\n",
       "    <tr>\n",
       "      <th>715</th>\n",
       "      <td>715</td>\n",
       "      <td>16054.0</td>\n",
       "      <td>7</td>\n",
       "      <td>1.0</td>\n",
       "      <td>16.05</td>\n",
       "      <td>1.0</td>\n",
       "      <td>0</td>\n",
       "      <td>NaN</td>\n",
       "      <td>NaN</td>\n",
       "      <td>NaN</td>\n",
       "      <td>...</td>\n",
       "      <td>-999.0</td>\n",
       "      <td>105.0</td>\n",
       "      <td>NaN</td>\n",
       "      <td>0.0</td>\n",
       "      <td>NaN</td>\n",
       "      <td>NaN</td>\n",
       "      <td>NaN</td>\n",
       "      <td>1.0</td>\n",
       "      <td>NaN</td>\n",
       "      <td>NaN</td>\n",
       "    </tr>\n",
       "    <tr>\n",
       "      <th>716</th>\n",
       "      <td>716</td>\n",
       "      <td>16002.0</td>\n",
       "      <td>7</td>\n",
       "      <td>0.0</td>\n",
       "      <td>10.16</td>\n",
       "      <td>1.0</td>\n",
       "      <td>0</td>\n",
       "      <td>NaN</td>\n",
       "      <td>NaN</td>\n",
       "      <td>NaN</td>\n",
       "      <td>...</td>\n",
       "      <td>-999.0</td>\n",
       "      <td>120.0</td>\n",
       "      <td>NaN</td>\n",
       "      <td>1.0</td>\n",
       "      <td>NaN</td>\n",
       "      <td>NaN</td>\n",
       "      <td>NaN</td>\n",
       "      <td>1.0</td>\n",
       "      <td>NaN</td>\n",
       "      <td>NaN</td>\n",
       "    </tr>\n",
       "  </tbody>\n",
       "</table>\n",
       "<p>717 rows × 25 columns</p>\n",
       "</div>"
      ],
      "text/plain": [
       "     Subject  ScanDir ID  Site  Gender    Age  Handedness  DX Secondary Dx   \\\n",
       "0          0     26001.0     2     1.0  16.92         1.0   4       pending   \n",
       "1          1     26002.0     2     1.0  15.68         1.0   4       pending   \n",
       "2          2     26004.0     2     0.0  14.99         1.0   4       pending   \n",
       "3          3     26005.0     2     0.0  15.16         1.0   4       pending   \n",
       "4          4     26009.0     2     1.0  16.91         0.0   4       pending   \n",
       "..       ...         ...   ...     ...    ...         ...  ..           ...   \n",
       "712      712     16015.0     7     1.0  11.70         1.0   0           NaN   \n",
       "713      713     16035.0     7     1.0  13.94         1.0   0           NaN   \n",
       "714      714     16023.0     7     0.0  12.51         0.0   0           NaN   \n",
       "715      715     16054.0     7     1.0  16.05         1.0   0           NaN   \n",
       "716      716     16002.0     7     0.0  10.16         1.0   0           NaN   \n",
       "\n",
       "    ADHD Measure ADHD Index  ... Full2 IQ Full4 IQ  Med Status  QC_Rest_1  \\\n",
       "0        pending    pending  ...      NaN    120.0     pending        1.0   \n",
       "1        pending    pending  ...      NaN    107.0     pending        1.0   \n",
       "2        pending    pending  ...      NaN    125.0     pending        1.0   \n",
       "3        pending    pending  ...      NaN    126.0     pending        1.0   \n",
       "4        pending    pending  ...      NaN     97.0     pending        1.0   \n",
       "..           ...        ...  ...      ...      ...         ...        ...   \n",
       "712          NaN        NaN  ...   -999.0    108.0         NaN        0.0   \n",
       "713          NaN        NaN  ...   -999.0    113.0         NaN        1.0   \n",
       "714          NaN        NaN  ...    110.0    107.0         NaN        0.0   \n",
       "715          NaN        NaN  ...   -999.0    105.0         NaN        0.0   \n",
       "716          NaN        NaN  ...   -999.0    120.0         NaN        1.0   \n",
       "\n",
       "     QC_Rest_2  QC_Rest_3  QC_Rest_4 QC_Anatomical_1  QC_Anatomical_2  ID  \n",
       "0          NaN        NaN        NaN             1.0              NaN NaN  \n",
       "1          NaN        NaN        NaN             1.0              NaN NaN  \n",
       "2          NaN        NaN        NaN             1.0              NaN NaN  \n",
       "3          NaN        NaN        NaN             1.0              NaN NaN  \n",
       "4          NaN        NaN        NaN             1.0              NaN NaN  \n",
       "..         ...        ...        ...             ...              ...  ..  \n",
       "712        NaN        NaN        NaN             1.0              NaN NaN  \n",
       "713        NaN        NaN        NaN             1.0              NaN NaN  \n",
       "714        NaN        NaN        NaN             1.0              NaN NaN  \n",
       "715        NaN        NaN        NaN             1.0              NaN NaN  \n",
       "716        NaN        NaN        NaN             1.0              NaN NaN  \n",
       "\n",
       "[717 rows x 25 columns]"
      ]
     },
     "execution_count": 51,
     "metadata": {},
     "output_type": "execute_result"
    }
   ],
   "source": [
    "# VALUES AS STRINGS LEADS TO BAD STUFF\n",
    "df = pd.read_csv('df_all.csv')\n",
    "df['Handedness'] = pd.to_numeric(df['Handedness'],errors='coerce') # first of many..\n",
    "df.loc[df['DX'] == 'pending','DX'] = '4' # Turn 'pernding in to 4'\n",
    "df['DX'] = pd.to_numeric(df['DX'],errors='coerce') # first of many..\n",
    "df['Gender'] = pd.to_numeric(df['Gender'],errors='coerce') # first of many..\n",
    "\n",
    "df"
   ]
  },
  {
   "cell_type": "code",
   "execution_count": 52,
   "id": "ccf0fd45-4824-4b14-9418-83c4486874e1",
   "metadata": {},
   "outputs": [
    {
     "data": {
      "text/plain": [
       "'Number of female subjects = 315, Number of male subjects = 401,'"
      ]
     },
     "execution_count": 52,
     "metadata": {},
     "output_type": "execute_result"
    }
   ],
   "source": [
    "'Number of female subjects = {}, Number of male subjects = {},'.format(df['Gender'].value_counts()[0.0], df['Gender'].value_counts()[1.0])"
   ]
  },
  {
   "cell_type": "code",
   "execution_count": 53,
   "id": "420519cf-2daa-4d00-baa5-1b725b435725",
   "metadata": {},
   "outputs": [
    {
     "data": {
      "text/plain": [
       "'Number of ADHD subjects = 261, Number of typically developing subjects = 430'"
      ]
     },
     "execution_count": 53,
     "metadata": {},
     "output_type": "execute_result"
    }
   ],
   "source": [
    "'Number of ADHD subjects = {}, Number of typically developing subjects = {}'.format(df['DX'].value_counts()[1]+df['DX'].value_counts()[2]+df['DX'].value_counts()[3], df['DX'].value_counts()[0])"
   ]
  },
  {
   "cell_type": "code",
   "execution_count": 54,
   "id": "e530d02a-48c3-477a-822f-6eb9bee7bca8",
   "metadata": {},
   "outputs": [
    {
     "data": {
      "text/plain": [
       "'Number of ADHD-Combined subjects = 154, Number of ADHD-Hyperactive/Impulsive subjects = 13, Number of ADHD-Inattentive subjects = 94, Number of typically developing subjects = 430'"
      ]
     },
     "execution_count": 54,
     "metadata": {},
     "output_type": "execute_result"
    }
   ],
   "source": [
    "'Number of ADHD-Combined subjects = {}, Number of ADHD-Hyperactive/Impulsive subjects = {}, Number of ADHD-Inattentive subjects = {}, Number of typically developing subjects = {}'.format(df['DX'].value_counts()[1], df['DX'].value_counts()[2], df['DX'].value_counts()[3], df['DX'].value_counts()[0])"
   ]
  },
  {
   "cell_type": "code",
   "execution_count": 55,
   "id": "7fa55c8b-273d-4d44-944e-dc423d597a8f",
   "metadata": {},
   "outputs": [
    {
     "data": {
      "text/plain": [
       "'Number of subjects with pending diagnosis = 26'"
      ]
     },
     "execution_count": 55,
     "metadata": {},
     "output_type": "execute_result"
    }
   ],
   "source": [
    "'Number of subjects with pending diagnosis = {}'.format(df['DX'].value_counts()[4])"
   ]
  },
  {
   "cell_type": "code",
   "execution_count": 56,
   "id": "d0fb76f5-c745-4f37-bde3-0d341686c993",
   "metadata": {},
   "outputs": [
    {
     "data": {
      "text/plain": [
       "'496 Right-handed, 19 Left-handed, 1 Ambidextrous'"
      ]
     },
     "execution_count": 56,
     "metadata": {},
     "output_type": "execute_result"
    }
   ],
   "source": [
    "'{} Right-handed, {} Left-handed, {} Ambidextrous'.format(df['Handedness'].value_counts()[1], df['Handedness'].value_counts()[0], df['Handedness'].value_counts()[2])"
   ]
  },
  {
   "cell_type": "code",
   "execution_count": 57,
   "id": "c8f1fe07-814e-4933-90c3-a07f42077978",
   "metadata": {},
   "outputs": [
    {
     "name": "stdout",
     "output_type": "stream",
     "text": [
      "some of the handedness values are decimals and also these handedness counts are simply not correct\n"
     ]
    }
   ],
   "source": [
    "print('some of the handedness values are decimals and also these handedness counts are simply not correct')"
   ]
  },
  {
   "cell_type": "code",
   "execution_count": 58,
   "id": "1f0d4bfe-ef8a-40e3-b724-ff32e473ccf8",
   "metadata": {},
   "outputs": [
    {
     "data": {
      "text/plain": [
       "'Age: mean = 11.836276150627608, std = 3.2465969629498894, range = 7.17-21.74'"
      ]
     },
     "execution_count": 58,
     "metadata": {},
     "output_type": "execute_result"
    }
   ],
   "source": [
    "'Age: mean = {}, std = {}, range = {}-{}'.format(df['Age'].mean(), df['Age'].std(), df['Age'].min(), df['Age'].max())"
   ]
  },
  {
   "cell_type": "code",
   "execution_count": 59,
   "id": "a5d5bf23-190b-46b7-ba88-6031f5fa2583",
   "metadata": {},
   "outputs": [
    {
     "data": {
      "text/plain": [
       "Text(0, 0.5, 'Number of Subjects')"
      ]
     },
     "execution_count": 59,
     "metadata": {},
     "output_type": "execute_result"
    },
    {
     "data": {
      "image/png": "[encoded data removed]",
      "text/plain": [
       "<Figure size 432x288 with 1 Axes>"
      ]
     },
     "metadata": {
      "needs_background": "light"
     },
     "output_type": "display_data"
    }
   ],
   "source": [
    "Age = df['Age']\n",
    "plt.hist(Age,bins=15,color='peachpuff')\n",
    "plt.title('Subject Age')\n",
    "plt.xlabel('Age')\n",
    "plt.ylabel('Number of Subjects')"
   ]
  },
  {
   "cell_type": "code",
   "execution_count": 77,
   "id": "1bf92dd3-4891-4430-b12a-f11f8697000f",
   "metadata": {},
   "outputs": [
    {
     "name": "stdout",
     "output_type": "stream",
     "text": [
      "ndf = df without pending values\n"
     ]
    }
   ],
   "source": [
    "ndf = df[df['DX'] != 4]\n",
    "print('ndf = df without pending values')"
   ]
  },
  {
   "cell_type": "code",
   "execution_count": 81,
   "id": "8a790625-7bc5-43bb-b34b-f7490eab11e8",
   "metadata": {},
   "outputs": [],
   "source": [
    "ADHDdf = ndf[ndf['DX'] != 0]"
   ]
  },
  {
   "cell_type": "code",
   "execution_count": 85,
   "id": "31aa4401-6f19-4c9f-b869-2fa02ae3b7d0",
   "metadata": {},
   "outputs": [],
   "source": [
    "controldf = ndf[ndf['DX'] == 0]"
   ]
  },
  {
   "cell_type": "code",
   "execution_count": 86,
   "id": "844f81e6-d26c-4ad1-8406-91fef7fb4eea",
   "metadata": {},
   "outputs": [],
   "source": [
    "assert all(controldf['DX']==0),'bad slicing'"
   ]
  },
  {
   "cell_type": "code",
   "execution_count": 87,
   "id": "c7f0cc7e-95d6-4d53-b34f-475fe17a3d22",
   "metadata": {},
   "outputs": [
    {
     "data": {
      "text/plain": [
       "<matplotlib.legend.Legend at 0x15551365aa00>"
      ]
     },
     "execution_count": 87,
     "metadata": {},
     "output_type": "execute_result"
    },
    {
     "data": {
      "image/png": "[encoded data removed]",
      "text/plain": [
       "<Figure size 432x288 with 1 Axes>"
      ]
     },
     "metadata": {
      "needs_background": "light"
     },
     "output_type": "display_data"
    }
   ],
   "source": [
    "ADHDage = ADHDdf['Age']\n",
    "plt.hist(ADHDage, alpha=0.6, color = 'purple')\n",
    "controlage = controldf['Age']\n",
    "plt.hist(controlage, alpha=0.3, color='darkturquoise')\n",
    "plt.title('Subject Age')\n",
    "plt.xlabel('Age')\n",
    "plt.ylabel('Number of Subjects')\n",
    "plt.legend(['ADHD', 'Typically Developing'])"
   ]
  },
  {
   "cell_type": "code",
   "execution_count": 88,
   "id": "f72a32be-b4e7-4bc6-a547-c53012b031c9",
   "metadata": {},
   "outputs": [],
   "source": [
    "femaledf = ndf[ndf['Gender']!=1]\n",
    "maledf = ndf[ndf['Gender']!=0]"
   ]
  },
  {
   "cell_type": "code",
   "execution_count": 91,
   "id": "0ec6780a-24c3-4b05-a640-96be6ac73948",
   "metadata": {},
   "outputs": [
    {
     "data": {
      "text/plain": [
       "([<matplotlib.axis.XTick at 0x1555135332b0>,\n",
       "  <matplotlib.axis.XTick at 0x155513533280>,\n",
       "  <matplotlib.axis.XTick at 0x15551352ce50>,\n",
       "  <matplotlib.axis.XTick at 0x1555134f24f0>],\n",
       " [Text(0, 0, 'Typically Developing'),\n",
       "  Text(1, 0, 'ADHD-Combined'),\n",
       "  Text(2, 0, 'ADHD-Hyperactive/Impulsive'),\n",
       "  Text(3, 0, 'ADHD-Inattentive')])"
      ]
     },
     "execution_count": 91,
     "metadata": {},
     "output_type": "execute_result"
    },
    {
     "data": {
      "image/png": "[encoded data removed]",
      "text/plain": [
       "<Figure size 432x288 with 1 Axes>"
      ]
     },
     "metadata": {
      "needs_background": "light"
     },
     "output_type": "display_data"
    }
   ],
   "source": [
    "femaleDX = femaledf['DX']\n",
    "plt.hist(femaleDX, color = 'orchid')\n",
    "plt.title('Female Subject Diagnosis')\n",
    "plt.xlabel('Diagnosis')\n",
    "plt.ylabel('Number of Subjects')\n",
    "plt.xticks([0,1,2,3],['Typically Developing', 'ADHD-Combined', 'ADHD-Hyperactive/Impulsive', 'ADHD-Inattentive'],rotation=-50)"
   ]
  },
  {
   "cell_type": "code",
   "execution_count": 92,
   "id": "133ba4ca-fa3a-4569-8caa-f75f370b253e",
   "metadata": {},
   "outputs": [
    {
     "data": {
      "text/plain": [
       "([<matplotlib.axis.XTick at 0x15551349bb20>,\n",
       "  <matplotlib.axis.XTick at 0x15551349baf0>,\n",
       "  <matplotlib.axis.XTick at 0x1555134978e0>,\n",
       "  <matplotlib.axis.XTick at 0x1555134cff10>],\n",
       " [Text(0, 0, 'Typically Developing'),\n",
       "  Text(1, 0, 'ADHD-Combined'),\n",
       "  Text(2, 0, 'ADHD-Hyperactive/Impulsive'),\n",
       "  Text(3, 0, 'ADHD-Inattentive')])"
      ]
     },
     "execution_count": 92,
     "metadata": {},
     "output_type": "execute_result"
    },
    {
     "data": {
      "image/png": "[encoded data removed]",
      "text/plain": [
       "<Figure size 432x288 with 1 Axes>"
      ]
     },
     "metadata": {
      "needs_background": "light"
     },
     "output_type": "display_data"
    }
   ],
   "source": [
    "maleDX = maledf['DX']\n",
    "plt.hist(maleDX, color = 'tomato')\n",
    "plt.title('Male Subject Diagnosis')\n",
    "plt.xlabel('Diagnosis')\n",
    "plt.ylabel('Number of Subjects')\n",
    "plt.xticks([0,1,2,3],['Typically Developing', 'ADHD-Combined', 'ADHD-Hyperactive/Impulsive', 'ADHD-Inattentive'], rotation=-50)"
   ]
  },
  {
   "cell_type": "code",
   "execution_count": 93,
   "id": "355a6fce-442c-4b57-bdbf-9705f3559e77",
   "metadata": {},
   "outputs": [
    {
     "data": {
      "text/plain": [
       "([<matplotlib.axis.XTick at 0x15551348dbb0>,\n",
       "  <matplotlib.axis.XTick at 0x15551348db80>,\n",
       "  <matplotlib.axis.XTick at 0x155513482970>,\n",
       "  <matplotlib.axis.XTick at 0x1555133ed700>],\n",
       " [Text(0, 0, 'Typically Developing'),\n",
       "  Text(1, 0, 'ADHD-Combined'),\n",
       "  Text(2, 0, 'ADHD-Hyperactive/Impulsive'),\n",
       "  Text(3, 0, 'ADHD-Inattentive')])"
      ]
     },
     "execution_count": 93,
     "metadata": {},
     "output_type": "execute_result"
    },
    {
     "data": {
      "image/png": "[encoded data removed]",
      "text/plain": [
       "<Figure size 432x288 with 1 Axes>"
      ]
     },
     "metadata": {
      "needs_background": "light"
     },
     "output_type": "display_data"
    }
   ],
   "source": [
    "plt.hist([femaleDX,maleDX], color = ['orchid', 'tomato'])\n",
    "plt.title('Diagnosis by Gender')\n",
    "plt.xlabel('Subject Diagnosis')\n",
    "plt.ylabel('Number of Subjects')\n",
    "plt.legend(['Female','Male'])\n",
    "plt.xticks([0,1,2,3],['Typically Developing', 'ADHD-Combined', 'ADHD-Hyperactive/Impulsive', 'ADHD-Inattentive'], rotation=-50)\n"
   ]
  },
  {
   "cell_type": "code",
   "execution_count": 94,
   "id": "d3667f9b-5ca0-4bb6-87da-0bd4c8196567",
   "metadata": {},
   "outputs": [
    {
     "name": "stdout",
     "output_type": "stream",
     "text": [
      "nndf = df without pending or -999 values\n"
     ]
    }
   ],
   "source": [
    "nndf = ndf[ndf['Full4 IQ']>0]\n",
    "print('nndf = df without pending or -999 values')"
   ]
  },
  {
   "cell_type": "code",
   "execution_count": 96,
   "id": "c4347655-e3cc-4715-b031-3bcb8b3018f9",
   "metadata": {},
   "outputs": [
    {
     "data": {
      "text/plain": [
       "'IQ: mean = 110.59842022116902, std = 13.848102187997139, range = 73.0-144.0'"
      ]
     },
     "execution_count": 96,
     "metadata": {},
     "output_type": "execute_result"
    }
   ],
   "source": [
    "'IQ: mean = {}, std = {}, range = {}-{}'.format(nndf['Full4 IQ'].mean(), nndf['Full4 IQ'].std(), nndf['Full4 IQ'].min(), nndf['Full4 IQ'].max())"
   ]
  },
  {
   "cell_type": "code",
   "execution_count": 102,
   "id": "670e9584-9697-483a-a63e-f19178ac97b1",
   "metadata": {},
   "outputs": [],
   "source": [
    "ADHD1df = nndf[nndf['DX']==1]\n",
    "ADHD2df = nndf[nndf['DX']==2]\n",
    "ADHD3df = nndf[nndf['DX']==3]"
   ]
  },
  {
   "cell_type": "code",
   "execution_count": 103,
   "id": "90452acb-849d-4ed9-8ca0-7378c6950af1",
   "metadata": {},
   "outputs": [],
   "source": [
    "controliqdf = nndf[nndf['DX']==0]"
   ]
  },
  {
   "cell_type": "code",
   "execution_count": 104,
   "id": "1b7960c6-a938-4552-b44d-b9293ab1a718",
   "metadata": {},
   "outputs": [],
   "source": [
    "type1IQ = ADHD1df['Full4 IQ']\n",
    "type2IQ = ADHD2df['Full4 IQ']\n",
    "type3IQ = ADHD3df['Full4 IQ']"
   ]
  },
  {
   "cell_type": "code",
   "execution_count": 105,
   "id": "7d101024-991c-4860-b6a6-fd0e51530984",
   "metadata": {},
   "outputs": [],
   "source": [
    "controlIQ = controliqdf['Full4 IQ']"
   ]
  },
  {
   "cell_type": "code",
   "execution_count": 118,
   "id": "8255b216-89ef-4279-9ac9-db39da9c9440",
   "metadata": {},
   "outputs": [
    {
     "data": {
      "text/plain": [
       "<matplotlib.legend.Legend at 0x155512b45b80>"
      ]
     },
     "execution_count": 118,
     "metadata": {},
     "output_type": "execute_result"
    },
    {
     "data": {
      "image/png": "[encoded data removed]",
      "text/plain": [
       "<Figure size 576x432 with 1 Axes>"
      ]
     },
     "metadata": {
      "needs_background": "light"
     },
     "output_type": "display_data"
    }
   ],
   "source": [
    "plt.figure(figsize=(8,6))\n",
    "plt.hist(type1IQ, alpha=0.7, color='cyan')\n",
    "plt.hist(type2IQ, color='fuchsia')\n",
    "plt.hist(type3IQ, alpha=0.7, color='salmon')\n",
    "plt.hist(controlIQ, alpha=0.4, color='paleturquoise')\n",
    "plt.title('IQ')\n",
    "plt.xlabel('Subject IQ')\n",
    "plt.ylabel('Number of Subjects')\n",
    "plt.legend(['ADHD-Combined', 'ADHD-Hyperactive/Impulsive', 'ADHD-Inattentive', 'Typically Developing'])"
   ]
  }
 ],
 "metadata": {
  "kernelspec": {
   "display_name": "Python 3 (ipykernel)",
   "language": "python",
   "name": "python3"
  },
  "language_info": {
   "codemirror_mode": {
    "name": "ipython",
    "version": 3
   },
   "file_extension": ".py",
   "mimetype": "text/x-python",
   "name": "python",
   "nbconvert_exporter": "python",
   "pygments_lexer": "ipython3",
   "version": "3.8.8"
  }
 },
 "nbformat": 4,
 "nbformat_minor": 5
}
