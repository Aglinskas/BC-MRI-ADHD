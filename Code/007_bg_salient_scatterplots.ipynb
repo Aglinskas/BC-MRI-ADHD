{
 "cells": [
  {
   "cell_type": "markdown",
   "id": "6bfbd2f7-b467-45e3-9d48-adbc71798e51",
   "metadata": {},
   "source": [
    "## Imports"
   ]
  },
  {
   "cell_type": "code",
   "execution_count": 2,
   "id": "d701436a-f372-4f7e-9781-83ffce9525f1",
   "metadata": {},
   "outputs": [
    {
     "name": "stderr",
     "output_type": "stream",
     "text": [
      "/data/bergerar/anaconda3/lib/python3.8/site-packages/scipy/__init__.py:138: UserWarning: A NumPy version >=1.16.5 and <1.23.0 is required for this version of SciPy (detected version 1.23.2)\n",
      "  warnings.warn(f\"A NumPy version >={np_minversion} and <{np_maxversion} is required for this version of \"\n"
     ]
    }
   ],
   "source": [
    "import os\n",
    "import numpy as np\n",
    "from matplotlib import pyplot as plt\n",
    "from IPython import display\n",
    "import time\n",
    "import pandas as pd\n",
    "from sklearn.metrics import silhouette_score\n",
    "from scipy.spatial.distance import pdist\n",
    "from scipy.spatial.distance import squareform\n",
    "import seaborn as sns\n",
    "from sklearn.decomposition import PCA\n",
    "from make_models import get_MRI_CVAE_3D\n",
    "from tqdm import tqdm\n",
    "import tensorflow as tf\n",
    "from rsa_funcs import fit_rsa,make_RDM,get_triu"
   ]
  },
  {
   "cell_type": "markdown",
   "id": "26c1dd43-49d2-4336-b47a-33986a6d0b32",
   "metadata": {},
   "source": [
    "## Load and Sort Data"
   ]
  },
  {
   "cell_type": "code",
   "execution_count": 3,
   "id": "9eaea17b-9fcb-47b8-ba82-aa6bd6d034d8",
   "metadata": {},
   "outputs": [
    {
     "name": "stdout",
     "output_type": "stream",
     "text": [
      "['data', 'controls', 'patients']\n",
      "(179, 64, 64, 64)\n",
      "(261, 64, 64, 64)\n"
     ]
    }
   ],
   "source": [
    "stuff = np.load('../Assets/brain_array-440.npz')\n",
    "print(list(stuff.keys()))\n",
    "\n",
    "data = stuff['data']\n",
    "control = stuff['controls']\n",
    "patients = stuff['patients']\n",
    "n = data.shape[0]\n",
    "#print(data.shape)\n",
    "#data[patients,:,:,:].shape\n",
    "#data[patients].shape\n",
    "\n",
    "data_patients = data[patients,:,:,:]\n",
    "data_controls = data[control,:,:,:]\n",
    "\n",
    "print(data_patients.shape)\n",
    "print(data_controls.shape)"
   ]
  },
  {
   "cell_type": "markdown",
   "id": "a927d0d0-583e-4caf-87db-8057c91b111c",
   "metadata": {},
   "source": [
    "## CVAE"
   ]
  },
  {
   "cell_type": "code",
   "execution_count": 7,
   "id": "071c0122-d70e-4d46-9fdd-b7c8d659849a",
   "metadata": {
    "tags": []
   },
   "outputs": [],
   "source": [
    "cvae, z_encoder, s_encoder, cvae_decoder = get_MRI_CVAE_3D(input_shape=(64,64,64,1),\n",
    "                    latent_dim=2,\n",
    "                    beta=1,\n",
    "                    disentangle=False,\n",
    "                    gamma=1,\n",
    "                    bias=True,\n",
    "                    batch_size = 64,\n",
    "                    kernel_size = 3,\n",
    "                    filters = 32,\n",
    "                    intermediate_dim = 128,\n",
    "                    opt=None)"
   ]
  },
  {
   "cell_type": "markdown",
   "id": "1d10bc67-eb8f-42ba-b0d5-f15907b55e5c",
   "metadata": {},
   "source": [
    "## Load Weights"
   ]
  },
  {
   "cell_type": "code",
   "execution_count": 15,
   "id": "b4cc6b49-5b45-48bb-b53d-a81fc310363a",
   "metadata": {},
   "outputs": [
    {
     "data": {
      "text/plain": [
       "<tensorflow.python.training.tracking.util.CheckpointLoadStatus at 0x15528ea50700>"
      ]
     },
     "execution_count": 15,
     "metadata": {},
     "output_type": "execute_result"
    }
   ],
   "source": [
    "cvae.load_weights('../Assets/tf_weights_10000_AB/tf_weightsAB')"
   ]
  },
  {
   "cell_type": "code",
   "execution_count": 16,
   "id": "5e961974-cd1b-46b6-b25f-df14a968cb14",
   "metadata": {},
   "outputs": [
    {
     "data": {
      "text/plain": [
       "(179, 64, 64, 64)"
      ]
     },
     "execution_count": 16,
     "metadata": {},
     "output_type": "execute_result"
    }
   ],
   "source": [
    "data_patients.shape"
   ]
  },
  {
   "cell_type": "code",
   "execution_count": 17,
   "id": "31044c10-af03-46f1-a9d4-ae46acabc648",
   "metadata": {},
   "outputs": [],
   "source": [
    "# latent vectors\n",
    "bg_features_adhd = z_encoder.predict(data_patients)[0] # returns mean,std and sample of latent vectors, we take mean here\n",
    "sl_features_adhd = s_encoder.predict(data_patients)[0]"
   ]
  },
  {
   "cell_type": "code",
   "execution_count": 18,
   "id": "44b956df-9ccd-4adf-a9b2-2e9bf4485ade",
   "metadata": {},
   "outputs": [],
   "source": [
    "# latent vectors\n",
    "bg_features_td = z_encoder.predict(data_controls)[0] # returns mean,std and sample of latent vectors, we take mean here\n",
    "sl_features_td = s_encoder.predict(data_controls)[0]"
   ]
  },
  {
   "cell_type": "code",
   "execution_count": null,
   "id": "44e5a74f-f75c-427b-8760-92595a4c61f1",
   "metadata": {},
   "outputs": [],
   "source": [
    "reconstructions = cvae_decoder.predict(np.hstack((bg_features_adhd,sl_features_adhd)))\n",
    "reconstructions = reconstructions[:,:,:,:,0]"
   ]
  },
  {
   "cell_type": "code",
   "execution_count": null,
   "id": "45a94df0-5da9-4678-a719-f52abdcef6e5",
   "metadata": {},
   "outputs": [],
   "source": [
    "reconstructions.shape"
   ]
  },
  {
   "cell_type": "code",
   "execution_count": null,
   "id": "ee7b838e-bb48-4cc7-8403-24a07d04400f",
   "metadata": {},
   "outputs": [],
   "source": [
    "plt.scatter(bg_features_adhd[:,0],bg_features_adhd[:,1], label='Background', color = 'blue')\n",
    "plt.scatter(sl_features_adhd[:,0],sl_features_adhd[:,1], label='Salient', color = 'orange')\n",
    "plt.title('Background Features and Salient Features of ADHD')\n",
    "plt.legend()\n",
    "plt.show()"
   ]
  },
  {
   "cell_type": "code",
   "execution_count": null,
   "id": "8990fb44-e4a9-4ecd-a6eb-898de366cc80",
   "metadata": {},
   "outputs": [],
   "source": [
    "plt.scatter(bg_features_adhd[:,0],bg_features_adhd[:,1], label='ADHD', color = 'blue')\n",
    "plt.scatter(bg_features_td[:,0],bg_features_td[:,1], label='TD', color = 'orange')\n",
    "#plt.title('Background Features and Salient Features of ADHD')\n",
    "plt.legend()\n",
    "plt.show()"
   ]
  },
  {
   "cell_type": "code",
   "execution_count": null,
   "id": "3a2ca1b5-5507-4a32-b603-bac5c4ab0137",
   "metadata": {},
   "outputs": [],
   "source": [
    "plt.scatter(sl_features_adhd[:,0],sl_features_adhd[:,1], label='AHDHD', color = 'blue')\n",
    "plt.scatter(sl_features_td[:,0],sl_features_td[:,1], label='TD', color = 'orange')\n",
    "#plt.title('Background Features and Salient Features of ADHD')\n",
    "plt.legend()\n",
    "plt.show()"
   ]
  }
 ],
 "metadata": {
  "kernelspec": {
   "display_name": "Python 3",
   "language": "python",
   "name": "python3"
  },
  "language_info": {
   "codemirror_mode": {
    "name": "ipython",
    "version": 3
   },
   "file_extension": ".py",
   "mimetype": "text/x-python",
   "name": "python",
   "nbconvert_exporter": "python",
   "pygments_lexer": "ipython3",
   "version": "3.8.8"
  }
 },
 "nbformat": 4,
 "nbformat_minor": 5
}
