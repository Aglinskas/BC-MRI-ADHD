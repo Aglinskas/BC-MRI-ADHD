{
 "cells": [
  {
   "cell_type": "code",
   "execution_count": 1,
   "id": "aff033a4-26bf-4f44-b073-aee9a2ec35d1",
   "metadata": {},
   "outputs": [
    {
     "name": "stdout",
     "output_type": "stream",
     "text": [
      "Wed Jul 20 13:38:35 EDT 2022\n"
     ]
    }
   ],
   "source": [
    "!date"
   ]
  },
  {
   "cell_type": "code",
   "execution_count": 2,
   "id": "ba674279-144f-45d2-a0f0-67eca057c6da",
   "metadata": {},
   "outputs": [
    {
     "data": {
      "text/plain": [
       "'/mmfs1/data/bergerar/BC-MRI-ADHD/Code'"
      ]
     },
     "execution_count": 2,
     "metadata": {},
     "output_type": "execute_result"
    }
   ],
   "source": [
    "pwd"
   ]
  },
  {
   "cell_type": "code",
   "execution_count": 3,
   "id": "b70c1db5-a805-4cdf-99db-39dc549f90e1",
   "metadata": {},
   "outputs": [
    {
     "name": "stderr",
     "output_type": "stream",
     "text": [
      "2022-07-20 13:39:24.894227: W tensorflow/stream_executor/platform/default/dso_loader.cc:59] Could not load dynamic library 'libcudart.so.10.1'; dlerror: libcudart.so.10.1: cannot open shared object file: No such file or directory; LD_LIBRARY_PATH: /cm/local/apps/gcc/9.2.0/lib:/cm/local/apps/gcc/9.2.0/lib64:/cm/shared/apps/slurm/current/lib64/slurm:/cm/shared/apps/slurm/current/lib64\n",
      "2022-07-20 13:39:24.894265: I tensorflow/stream_executor/cuda/cudart_stub.cc:29] Ignore above cudart dlerror if you do not have a GPU set up on your machine.\n"
     ]
    }
   ],
   "source": [
    "import os \n",
    "import pandas as pd\n",
    "import numpy as np\n",
    "from matplotlib import pyplot as plt\n",
    "from make_models import get_MRI_VAE_3D,get_MRI_CVAE_3D\n",
    "from tqdm import tqdm \n",
    "import tensorflow as tf"
   ]
  },
  {
   "cell_type": "code",
   "execution_count": 4,
   "id": "eef14e1e-47c3-4a48-bf57-fc5d1f874184",
   "metadata": {},
   "outputs": [
    {
     "name": "stdout",
     "output_type": "stream",
     "text": [
      "['data', 'controls', 'patients']\n",
      "(440, 64, 64, 64)\n"
     ]
    },
    {
     "data": {
      "text/plain": [
       "(179, 64, 64, 64)"
      ]
     },
     "execution_count": 4,
     "metadata": {},
     "output_type": "execute_result"
    }
   ],
   "source": [
    "stuff = np.load('../Assets/brain_array-440.npz')\n",
    "print(list(stuff.keys()))\n",
    "\n",
    "data = stuff['data']\n",
    "control = stuff['controls']\n",
    "patients = stuff['patients']\n",
    "n = data.shape[0]\n",
    "print(data.shape)\n",
    "data[patients,:,:,:].shape\n",
    "data[patients].shape"
   ]
  },
  {
   "cell_type": "code",
   "execution_count": 5,
   "id": "943cbe52-199f-4fb8-8da6-f3ebc54b8ddf",
   "metadata": {},
   "outputs": [
    {
     "name": "stderr",
     "output_type": "stream",
     "text": [
      "2022-07-20 13:39:55.243068: I tensorflow/stream_executor/platform/default/dso_loader.cc:48] Successfully opened dynamic library libcuda.so.1\n",
      "2022-07-20 13:39:55.293461: E tensorflow/stream_executor/cuda/cuda_driver.cc:314] failed call to cuInit: CUDA_ERROR_NO_DEVICE: no CUDA-capable device is detected\n",
      "2022-07-20 13:39:55.293501: I tensorflow/stream_executor/cuda/cuda_diagnostics.cc:156] kernel driver does not appear to be running on this host (c084): /proc/driver/nvidia/version does not exist\n",
      "2022-07-20 13:39:55.294088: I tensorflow/core/platform/cpu_feature_guard.cc:142] This TensorFlow binary is optimized with oneAPI Deep Neural Network Library (oneDNN)to use the following CPU instructions in performance-critical operations:  AVX2 AVX512F FMA\n",
      "To enable them in other operations, rebuild TensorFlow with the appropriate compiler flags.\n",
      "2022-07-20 13:39:55.314400: I tensorflow/core/platform/profile_utils/cpu_utils.cc:104] CPU Frequency: 2400000000 Hz\n",
      "2022-07-20 13:39:55.317228: I tensorflow/compiler/xla/service/service.cc:168] XLA service 0x555555ec11e0 initialized for platform Host (this does not guarantee that XLA will be used). Devices:\n",
      "2022-07-20 13:39:55.317262: I tensorflow/compiler/xla/service/service.cc:176]   StreamExecutor device (0): Host, Default Version\n"
     ]
    }
   ],
   "source": [
    "cvae, z_encoder, s_encoder, cvae_decoder = get_MRI_CVAE_3D(input_shape=(64,64,64,1),\n",
    "                    latent_dim=2,\n",
    "                    beta=1,\n",
    "                    disentangle=False,\n",
    "                    gamma=1,\n",
    "                    bias=True,\n",
    "                    batch_size = 64,\n",
    "                    kernel_size = 3,\n",
    "                    filters = 32,\n",
    "                    intermediate_dim = 128,\n",
    "                    opt=None)"
   ]
  },
  {
   "cell_type": "code",
   "execution_count": null,
   "id": "0d3d645f-f7a9-40a7-b538-53526b491bb7",
   "metadata": {},
   "outputs": [],
   "source": []
  },
  {
   "cell_type": "code",
   "execution_count": 12,
   "id": "1744852a-8a2f-4724-9d4e-7e990ff5b63f",
   "metadata": {},
   "outputs": [
    {
     "name": "stdout",
     "output_type": "stream",
     "text": [
      "/mmfs1/data/bergerar/tf_weightsAB/weights_10000_epochs\n"
     ]
    }
   ],
   "source": [
    "cd ~/tf_weightsAB/weights_10000_epochs"
   ]
  },
  {
   "cell_type": "code",
   "execution_count": 13,
   "id": "01f39714-1f8f-4571-99c2-2c1d6dd8f310",
   "metadata": {},
   "outputs": [
    {
     "data": {
      "text/plain": [
       "<tensorflow.python.training.tracking.util.CheckpointLoadStatus at 0x15529ca3f310>"
      ]
     },
     "execution_count": 13,
     "metadata": {},
     "output_type": "execute_result"
    }
   ],
   "source": [
    "weights_fn = 'cvae_weights'\n",
    "#weights_fn = os.path.expanduser(weights_fn)\n",
    "cvae.load_weights(weights_fn)"
   ]
  },
  {
   "cell_type": "code",
   "execution_count": 14,
   "id": "8a271171-af1c-4ffb-8868-ef7bceb3fbc6",
   "metadata": {},
   "outputs": [],
   "source": [
    "data_patients = data[patients,:,:,:]\n",
    "data_controls = data[~patients,:,:,:]"
   ]
  },
  {
   "cell_type": "code",
   "execution_count": 18,
   "id": "29d70d6d-d461-40ea-9add-1b1c5c1cf513",
   "metadata": {},
   "outputs": [],
   "source": [
    "# latent vectors\n",
    "bg_features_adhd = z_encoder.predict(data_patients)[0] # returns mean,std and sample of latent vectors, we take mean here\n",
    "sl_features_adhd = s_encoder.predict(data_patients)[0]"
   ]
  },
  {
   "cell_type": "code",
   "execution_count": 32,
   "id": "1aa2cffe-0525-4c62-89b1-f440b8028501",
   "metadata": {},
   "outputs": [],
   "source": [
    "reconstructions = cvae_decoder.predict(np.hstack((bg_features_adhd,sl_features_adhd)))\n",
    "reconstructions = reconstructions[:,:,:,:,0]"
   ]
  },
  {
   "cell_type": "code",
   "execution_count": 33,
   "id": "fcc11d0d-3f3a-48e4-9df9-a7bd52bb3f0f",
   "metadata": {},
   "outputs": [
    {
     "data": {
      "text/plain": [
       "(179, 64, 64, 64)"
      ]
     },
     "execution_count": 33,
     "metadata": {},
     "output_type": "execute_result"
    }
   ],
   "source": [
    "reconstructions.shape"
   ]
  },
  {
   "cell_type": "code",
   "execution_count": 34,
   "id": "d68432a8-a8c1-480d-ab9c-30146bd945f4",
   "metadata": {},
   "outputs": [
    {
     "data": {
      "text/plain": [
       "<matplotlib.image.AxesImage at 0x1552649881f0>"
      ]
     },
     "execution_count": 34,
     "metadata": {},
     "output_type": "execute_result"
    },
    {
     "data": {
      "image/png": "[encoded data removed]",
      "text/plain": [
       "<Figure size 720x360 with 2 Axes>"
      ]
     },
     "metadata": {
      "needs_background": "light"
     },
     "output_type": "display_data"
    }
   ],
   "source": [
    "s = 0\n",
    "plt.figure(figsize=(10,5))\n",
    "plt.subplot(1,2,1)\n",
    "plt.imshow(data_patients[s,:,:,32])\n",
    "plt.subplot(1,2,2)\n",
    "plt.imshow(reconstructions[s,:,:,32])"
   ]
  },
  {
   "cell_type": "code",
   "execution_count": 35,
   "id": "cef3ac67-3f23-4fed-b2c5-983412cc78a0",
   "metadata": {},
   "outputs": [
    {
     "data": {
      "text/plain": [
       "<matplotlib.collections.PathCollection at 0x155264297fd0>"
      ]
     },
     "execution_count": 35,
     "metadata": {},
     "output_type": "execute_result"
    },
    {
     "data": {
      "image/png": "[encoded data removed]",
      "text/plain": [
       "<Figure size 432x288 with 1 Axes>"
      ]
     },
     "metadata": {
      "needs_background": "light"
     },
     "output_type": "display_data"
    }
   ],
   "source": [
    "plt.scatter(bg_features_adhd[:,0],bg_features_adhd[:,1])"
   ]
  },
  {
   "cell_type": "code",
   "execution_count": 36,
   "id": "a0d002d6-75b8-4f74-b51b-e75244b1b5d2",
   "metadata": {},
   "outputs": [
    {
     "data": {
      "text/plain": [
       "<matplotlib.collections.PathCollection at 0x1552643c54f0>"
      ]
     },
     "execution_count": 36,
     "metadata": {},
     "output_type": "execute_result"
    },
    {
     "data": {
      "image/png": "[encoded data removed]",
      "text/plain": [
       "<Figure size 432x288 with 1 Axes>"
      ]
     },
     "metadata": {
      "needs_background": "light"
     },
     "output_type": "display_data"
    }
   ],
   "source": [
    "plt.scatter(sl_features_adhd[:,0],sl_features_adhd[:,1])"
   ]
  },
  {
   "cell_type": "code",
   "execution_count": null,
   "id": "9696d695-87e3-4e8f-85d8-a9b5b50df1a1",
   "metadata": {},
   "outputs": [],
   "source": []
  },
  {
   "cell_type": "code",
   "execution_count": null,
   "id": "ab1a166b-442b-4fe1-ab58-0dc9dd6334a3",
   "metadata": {},
   "outputs": [],
   "source": []
  },
  {
   "cell_type": "code",
   "execution_count": null,
   "id": "fd94caa1-ba45-4ea6-9959-1dcfc06fa77b",
   "metadata": {},
   "outputs": [],
   "source": []
  },
  {
   "cell_type": "code",
   "execution_count": null,
   "id": "92f7e6e8-4e19-4401-9fd4-5597ece227a0",
   "metadata": {},
   "outputs": [],
   "source": []
  }
 ],
 "metadata": {
  "kernelspec": {
   "display_name": "Python 3 (ipykernel)",
   "language": "python",
   "name": "python3"
  },
  "language_info": {
   "codemirror_mode": {
    "name": "ipython",
    "version": 3
   },
   "file_extension": ".py",
   "mimetype": "text/x-python",
   "name": "python",
   "nbconvert_exporter": "python",
   "pygments_lexer": "ipython3",
   "version": "3.8.8"
  }
 },
 "nbformat": 4,
 "nbformat_minor": 5
}
