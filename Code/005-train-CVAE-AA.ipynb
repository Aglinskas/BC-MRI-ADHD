{
 "cells": [
  {
   "cell_type": "code",
   "execution_count": 1,
   "id": "67398e7f",
   "metadata": {},
   "outputs": [
    {
     "data": {
      "text/plain": [
       "'/mmfs1/data/bergerar/BC-MRI-ADHD/Code'"
      ]
     },
     "execution_count": 1,
     "metadata": {},
     "output_type": "execute_result"
    }
   ],
   "source": [
    "pwd"
   ]
  },
  {
   "cell_type": "code",
   "execution_count": 2,
   "id": "f1a255c4",
   "metadata": {},
   "outputs": [
    {
     "name": "stderr",
     "output_type": "stream",
     "text": [
      "2022-06-22 13:19:07.580539: W tensorflow/stream_executor/platform/default/dso_loader.cc:59] Could not load dynamic library 'libcudart.so.10.1'; dlerror: libcudart.so.10.1: cannot open shared object file: No such file or directory; LD_LIBRARY_PATH: /cm/local/apps/gcc/9.2.0/lib:/cm/local/apps/gcc/9.2.0/lib64:/cm/shared/apps/slurm/current/lib64/slurm:/cm/shared/apps/slurm/current/lib64\n",
      "2022-06-22 13:19:07.580572: I tensorflow/stream_executor/cuda/cudart_stub.cc:29] Ignore above cudart dlerror if you do not have a GPU set up on your machine.\n"
     ]
    }
   ],
   "source": [
    "import os \n",
    "import pandas as pd\n",
    "import numpy as np\n",
    "from matplotlib import pyplot as plt\n",
    "from make_models import get_MRI_VAE_3D,get_MRI_CVAE_3D\n",
    "from tqdm import tqdm "
   ]
  },
  {
   "cell_type": "code",
   "execution_count": 3,
   "id": "5db46943",
   "metadata": {},
   "outputs": [
    {
     "name": "stdout",
     "output_type": "stream",
     "text": [
      "['data', 'controls', 'patients']\n",
      "(440, 64, 64, 64)\n"
     ]
    },
    {
     "data": {
      "text/plain": [
       "(179, 64, 64, 64)"
      ]
     },
     "execution_count": 3,
     "metadata": {},
     "output_type": "execute_result"
    }
   ],
   "source": [
    "stuff = np.load('../Assets/brain_array-440.npz')\n",
    "print(list(stuff.keys()))\n",
    "\n",
    "data = stuff['data']\n",
    "control = stuff['controls']\n",
    "patients = stuff['patients']\n",
    "n = data.shape[0]\n",
    "print(data.shape)\n",
    "data[patients,:,:,:].shape\n",
    "data[patients].shape"
   ]
  },
  {
   "cell_type": "code",
   "execution_count": 16,
   "id": "79072af6-02b3-44ad-b1c8-ae93a9dbfca1",
   "metadata": {},
   "outputs": [],
   "source": [
    "#data"
   ]
  },
  {
   "cell_type": "code",
   "execution_count": 14,
   "id": "bdf81e33-a8de-440e-8d0e-dfccd25ea56d",
   "metadata": {},
   "outputs": [
    {
     "data": {
      "text/plain": [
       "(440,)"
      ]
     },
     "execution_count": 14,
     "metadata": {},
     "output_type": "execute_result"
    }
   ],
   "source": [
    "patients"
   ]
  },
  {
   "cell_type": "code",
   "execution_count": 58,
   "id": "1e0cb92c-b838-4d7c-89ce-0ed79f8a313f",
   "metadata": {},
   "outputs": [],
   "source": [
    "# data loader\n",
    "class cvae_data_loader_adhd():\n",
    "    ''' this is the info'''\n",
    "    def __init__(self,data,patients,batch_size=32):\n",
    "    \n",
    "        self.data = data\n",
    "        \n",
    "        self.n = data.shape[0]\n",
    "        self.epoch = -1\n",
    "        self.batch_size = batch_size\n",
    "        \n",
    "        self.new_epoch()\n",
    "        self.n_batches = int(np.floor(min((len(self.asd_idxs),len(self.td_idxs)))/self.batch_size)) # How many batches fit, take the min(n_ASD,n_TD) then divide by batch size\n",
    "        \n",
    "    def new_epoch(self):\n",
    "\n",
    "        self.asd_idxs = np.nonzero(patients==True)[0] # idxs of patients\n",
    "        self.td_idxs = np.nonzero(patients==False)[0] # idxs of TDs\n",
    "        \n",
    "        self.asd_idxs = np.random.permutation(self.asd_idxs)\n",
    "        self.td_idxs = np.random.permutation(self.td_idxs)\n",
    "        \n",
    "        self.epoch += 1\n",
    "        self.b = 0\n",
    "        \n",
    "        \n",
    "    def get_batch(self):\n",
    "        self.b += 1\n",
    "        \n",
    "        if self.b==self.n_batches:\n",
    "            self.new_epoch()\n",
    "        \n",
    "        self.batch_asd_idx = self.asd_idxs[np.arange(self.b*self.batch_size,self.b*self.batch_size+self.batch_size)]\n",
    "        self.batch_td_idx = self.td_idxs[np.arange(self.b*self.batch_size,self.b*self.batch_size+self.batch_size)]\n",
    "        # go through the patients and controls in batch size chunks\n",
    "        # batch_indeces = all_indices[batch number * batch size : batch number * batch size + batch size]\n",
    "        \n",
    "        self.batch_asd = self.data[self.batch_asd_idx,:,:,:]\n",
    "        self.batch_td = self.data[self.batch_td_idx,:,:,:]\n",
    "        \n",
    "        _,counts = np.unique(np.hstack((self.batch_asd_idx,self.batch_td_idx)),return_counts=True)\n",
    "        assert all(counts==1),'not all unique, somethings wrong'\n",
    "        \n",
    "        return self.batch_asd,self.batch_td"
   ]
  },
  {
   "cell_type": "code",
   "execution_count": null,
   "id": "3c86d45f-2471-4edc-b70f-acfdba00dde1",
   "metadata": {},
   "outputs": [],
   "source": []
  },
  {
   "cell_type": "code",
   "execution_count": null,
   "id": "f2abbf4f-5f8c-4465-b95f-5930c89ceb05",
   "metadata": {},
   "outputs": [],
   "source": []
  },
  {
   "cell_type": "code",
   "execution_count": null,
   "id": "c8d32d02-4f5f-407d-ba0c-a67a97d121dc",
   "metadata": {},
   "outputs": [],
   "source": []
  },
  {
   "cell_type": "code",
   "execution_count": 64,
   "id": "0b10637f",
   "metadata": {},
   "outputs": [],
   "source": [
    "cvae, z_encoder, s_encoder, cvae_decoder = get_MRI_CVAE_3D(input_shape=(64,64,64,1),\n",
    "                    latent_dim=2,\n",
    "                    beta=1,\n",
    "                    disentangle=False,\n",
    "                    gamma=1,\n",
    "                    bias=True,\n",
    "                    batch_size = 64,\n",
    "                    kernel_size = 3,\n",
    "                    filters = 32,\n",
    "                    intermediate_dim = 128,\n",
    "                    opt=None)"
   ]
  },
  {
   "cell_type": "code",
   "execution_count": null,
   "id": "1c3bc103-bc1e-4f6f-989e-0c852f75fbba",
   "metadata": {},
   "outputs": [],
   "source": []
  },
  {
   "cell_type": "code",
   "execution_count": 65,
   "id": "c69535bc-5fe4-4803-901c-85dceaeecee8",
   "metadata": {},
   "outputs": [],
   "source": [
    "data_loader = cvae_data_loader_adhd(data,patients)"
   ]
  },
  {
   "cell_type": "code",
   "execution_count": 73,
   "id": "641f7e85-dec8-4caa-8441-16625ed4cc3e",
   "metadata": {},
   "outputs": [
    {
     "data": {
      "text/plain": [
       "range(0, 2)"
      ]
     },
     "execution_count": 73,
     "metadata": {},
     "output_type": "execute_result"
    }
   ],
   "source": [
    "range(n_epochs)"
   ]
  },
  {
   "cell_type": "code",
   "execution_count": 76,
   "id": "c8016e12-2cb4-4e20-afee-c1e4ac60112c",
   "metadata": {},
   "outputs": [
    {
     "name": "stderr",
     "output_type": "stream",
     "text": [
      "100%|████████████████████████████████████████████| 2/2 [05:15<00:00, 157.78s/it]\n"
     ]
    }
   ],
   "source": [
    "# Make sure you have GPU enabled\n",
    "\n",
    "n_epochs = 2\n",
    "n_batches = data_loader.n_batches # dataloader calcs how many batches\n",
    "loss = []\n",
    "for epoch in tqdm(range(n_epochs)):\n",
    "    for batch in range(n_batches):\n",
    "        adhd_batch, td_batch = data_loader.get_batch()\n",
    "        l = cvae.train_on_batch([adhd_batch,td_batch])\n",
    "        loss.append(l)"
   ]
  },
  {
   "cell_type": "code",
   "execution_count": null,
   "id": "219b44e9-9c41-4982-8cb3-eea34dfbe17d",
   "metadata": {},
   "outputs": [],
   "source": []
  },
  {
   "cell_type": "code",
   "execution_count": 49,
   "id": "12b027b8",
   "metadata": {},
   "outputs": [
    {
     "name": "stderr",
     "output_type": "stream",
     "text": [
      "100%|██████████| 5/5 [00:58<00:00, 11.78s/it]\n"
     ]
    }
   ],
   "source": [
    "# for i in tqdm(range(5)):\n",
    "#     cvae.train_on_batch([data_batch_patients,data_batch_control])"
   ]
  },
  {
   "cell_type": "code",
   "execution_count": 50,
   "id": "13f26a72",
   "metadata": {},
   "outputs": [],
   "source": [
    "predictions = cvae.predict([data_batch_patients,data_batch_control])"
   ]
  },
  {
   "cell_type": "code",
   "execution_count": 52,
   "id": "fbd73d75",
   "metadata": {},
   "outputs": [
    {
     "data": {
      "text/plain": [
       "Text(0.5, 1.0, 'prediction')"
      ]
     },
     "execution_count": 52,
     "metadata": {},
     "output_type": "execute_result"
    },
    {
     "data": {
      "image/png": "[encoded data removed]",
      "text/plain": [
       "<Figure size 720x360 with 2 Axes>"
      ]
     },
     "metadata": {
      "needs_background": "light"
     },
     "output_type": "display_data"
    }
   ],
   "source": [
    "plt.figure(figsize=(10,5))\n",
    "plt.subplot(1,2,1)\n",
    "plt.imshow(data_batch_patients[0,:,:,32])\n",
    "plt.title('input')\n",
    "plt.subplot(1,2,2)\n",
    "plt.imshow(predictions[0][0,:,:,32,0])\n",
    "plt.title('prediction')"
   ]
  },
  {
   "cell_type": "code",
   "execution_count": null,
   "id": "dd5a413e",
   "metadata": {},
   "outputs": [],
   "source": []
  },
  {
   "cell_type": "code",
   "execution_count": null,
   "id": "83561204",
   "metadata": {},
   "outputs": [],
   "source": []
  },
  {
   "cell_type": "code",
   "execution_count": null,
   "id": "25375919",
   "metadata": {},
   "outputs": [],
   "source": [
    "# Make a Data loader\n",
    "\n",
    "#dataloader_vae.get_batch()\n",
    "#dataloader_cae.get_patient_batch()\n",
    "#dataloader_cae.get_control_batch()"
   ]
  },
  {
   "cell_type": "code",
   "execution_count": null,
   "id": "af319ef0",
   "metadata": {},
   "outputs": [],
   "source": []
  },
  {
   "cell_type": "code",
   "execution_count": null,
   "id": "485ef638",
   "metadata": {},
   "outputs": [],
   "source": []
  },
  {
   "cell_type": "code",
   "execution_count": null,
   "id": "d8fe14b7",
   "metadata": {},
   "outputs": [],
   "source": []
  },
  {
   "cell_type": "code",
   "execution_count": null,
   "id": "5e972fdb",
   "metadata": {},
   "outputs": [],
   "source": []
  },
  {
   "cell_type": "code",
   "execution_count": null,
   "id": "cb654a69",
   "metadata": {},
   "outputs": [],
   "source": []
  },
  {
   "cell_type": "code",
   "execution_count": null,
   "id": "6ba03e5f",
   "metadata": {},
   "outputs": [],
   "source": []
  },
  {
   "cell_type": "code",
   "execution_count": null,
   "id": "9aff55d5",
   "metadata": {},
   "outputs": [],
   "source": []
  },
  {
   "cell_type": "code",
   "execution_count": null,
   "id": "e7f5cff8",
   "metadata": {},
   "outputs": [],
   "source": []
  }
 ],
 "metadata": {
  "kernelspec": {
   "display_name": "Python 3 (ipykernel)",
   "language": "python",
   "name": "python3"
  },
  "language_info": {
   "codemirror_mode": {
    "name": "ipython",
    "version": 3
   },
   "file_extension": ".py",
   "mimetype": "text/x-python",
   "name": "python",
   "nbconvert_exporter": "python",
   "pygments_lexer": "ipython3",
   "version": "3.8.8"
  }
 },
 "nbformat": 4,
 "nbformat_minor": 5
}
