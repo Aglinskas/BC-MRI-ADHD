{
 "cells": [
  {
   "cell_type": "code",
   "execution_count": 2,
   "id": "4f54c7c8-714c-4d92-9de1-a8865baa0a51",
   "metadata": {},
   "outputs": [
    {
     "data": {
      "text/plain": [
       "'/mmfs1/data/bergerar/BC-MRI-ADHD/Code'"
      ]
     },
     "execution_count": 2,
     "metadata": {},
     "output_type": "execute_result"
    }
   ],
   "source": [
    "pwd"
   ]
  },
  {
   "cell_type": "code",
   "execution_count": 15,
   "id": "d228c5f6-e171-4871-800c-017ade1f36f0",
   "metadata": {},
   "outputs": [],
   "source": [
    "import os \n",
    "import pandas as pd\n",
    "import numpy as np\n",
    "from matplotlib import pyplot as plt\n",
    "from make_models import get_MRI_CVAE_3D\n",
    "from tqdm import tqdm \n",
    "import tensorflow as tf"
   ]
  },
  {
   "cell_type": "markdown",
   "id": "fd12cab3-3ba1-4de4-965a-b67b84e25c8b",
   "metadata": {},
   "source": [
    "### Cutoff is ADHD index of 42"
   ]
  },
  {
   "cell_type": "code",
   "execution_count": 25,
   "id": "e2a02d42-9950-4c1c-b880-4eacf7081e6e",
   "metadata": {},
   "outputs": [
    {
     "name": "stdout",
     "output_type": "stream",
     "text": [
      "['data', 'controls', 'patients']\n"
     ]
    }
   ],
   "source": [
    "stuff = np.load('../Assets/brain_array_guess42.npz')\n",
    "print(list(stuff.keys()))"
   ]
  },
  {
   "cell_type": "code",
   "execution_count": 26,
   "id": "79e064a6-d0fe-4e07-86a1-3d1140d6e7e0",
   "metadata": {},
   "outputs": [
    {
     "name": "stdout",
     "output_type": "stream",
     "text": [
      "(440, 64, 64, 64)\n"
     ]
    }
   ],
   "source": [
    "data = stuff['data']\n",
    "controls = stuff['controls']\n",
    "patients = stuff['patients']\n",
    "n = data.shape[0]\n",
    "print(data.shape)"
   ]
  },
  {
   "cell_type": "code",
   "execution_count": 27,
   "id": "b63a85be-2eae-4cdf-b873-713331985e00",
   "metadata": {},
   "outputs": [
    {
     "name": "stdout",
     "output_type": "stream",
     "text": [
      "(162, 64, 64, 64)\n",
      "(179, 64, 64, 64)\n"
     ]
    }
   ],
   "source": [
    "print(data[controls,:,:,:].shape)\n",
    "print(data[patients,:,:,:].shape)"
   ]
  },
  {
   "cell_type": "markdown",
   "id": "4b1c7498-cc19-4704-b0e5-d257ff713528",
   "metadata": {},
   "source": [
    "### Cutoff is ADHD Index of 43"
   ]
  },
  {
   "cell_type": "code",
   "execution_count": 29,
   "id": "ece2d343-677d-4e01-bcfa-d970e25b453a",
   "metadata": {},
   "outputs": [
    {
     "name": "stdout",
     "output_type": "stream",
     "text": [
      "['data', 'controls', 'patients']\n"
     ]
    }
   ],
   "source": [
    "stuff2 = np.load('../Assets/brain_array_guess43.npz')\n",
    "print(list(stuff2.keys()))"
   ]
  },
  {
   "cell_type": "code",
   "execution_count": 30,
   "id": "da4c650a-958a-4c3e-8807-36bd14ab1f53",
   "metadata": {},
   "outputs": [
    {
     "name": "stdout",
     "output_type": "stream",
     "text": [
      "(440, 64, 64, 64)\n"
     ]
    }
   ],
   "source": [
    "data2 = stuff2['data']\n",
    "controls2 = stuff2['controls']\n",
    "patients2 = stuff2['patients']\n",
    "n = data2.shape[0]\n",
    "print(data2.shape)"
   ]
  },
  {
   "cell_type": "code",
   "execution_count": 31,
   "id": "9c75c503-6d99-4a84-bce2-7d7a78855f68",
   "metadata": {},
   "outputs": [
    {
     "name": "stdout",
     "output_type": "stream",
     "text": [
      "(210, 64, 64, 64)\n",
      "(179, 64, 64, 64)\n"
     ]
    }
   ],
   "source": [
    "print(data2[controls2,:,:,:].shape)\n",
    "print(data2[patients2,:,:,:].shape)"
   ]
  }
 ],
 "metadata": {
  "kernelspec": {
   "display_name": "Python 3",
   "language": "python",
   "name": "python3"
  },
  "language_info": {
   "codemirror_mode": {
    "name": "ipython",
    "version": 3
   },
   "file_extension": ".py",
   "mimetype": "text/x-python",
   "name": "python",
   "nbconvert_exporter": "python",
   "pygments_lexer": "ipython3",
   "version": "3.8.8"
  }
 },
 "nbformat": 4,
 "nbformat_minor": 5
}
