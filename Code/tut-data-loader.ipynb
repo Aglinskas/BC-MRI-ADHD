{
 "cells": [
  {
   "cell_type": "code",
   "execution_count": 2,
   "id": "7fb4c2f6-1a78-4d22-b6f5-17c9e242434b",
   "metadata": {},
   "outputs": [],
   "source": [
    "from importlib import reload\n",
    "import make_models;reload(make_models)\n",
    "del make_models;from make_models import *"
   ]
  },
  {
   "cell_type": "code",
   "execution_count": null,
   "id": "6e02d313-85cb-4e22-8bb8-d0f8b1e12455",
   "metadata": {},
   "outputs": [],
   "source": [
    "class VAE_DataLoader:\n",
    "    \"\"\"A simple example dataloader\"\"\"\n",
    "    \n",
    "    def __init__(self):\n",
    "        self.batch_id = 0 # count batches\n",
    "\n",
    "    def get_batch(self):\n",
    "        self.data_batch = np.random.rand(32,64,64,64)  \n",
    "        self.batch_id += 1 # count batches \n",
    "        return self.data_batch\n"
   ]
  },
  {
   "cell_type": "code",
   "execution_count": 2,
   "id": "bc2798c1-502e-42c6-99be-3cdba38a02b2",
   "metadata": {},
   "outputs": [],
   "source": [
    "partition = {'train': ['id-1', 'id-2', 'id-3'], 'validation': ['id-4']}\n",
    "labels = {'id-1': 0, 'id-2': 1, 'id-3': 2, 'id-4': 1}"
   ]
  },
  {
   "cell_type": "code",
   "execution_count": 3,
   "id": "d795cf33-32b7-4a4f-8389-2f67de483380",
   "metadata": {},
   "outputs": [],
   "source": [
    "def __init__(self, list_IDs, labels):\n",
    "    'Initialization'\n",
    "    self.labels = labels\n",
    "    self.list_IDs = list_IDs"
   ]
  }
 ],
 "metadata": {
  "kernelspec": {
   "display_name": "Python 3",
   "language": "python",
   "name": "python3"
  },
  "language_info": {
   "codemirror_mode": {
    "name": "ipython",
    "version": 3
   },
   "file_extension": ".py",
   "mimetype": "text/x-python",
   "name": "python",
   "nbconvert_exporter": "python",
   "pygments_lexer": "ipython3",
   "version": "3.8.8"
  }
 },
 "nbformat": 4,
 "nbformat_minor": 5
}
