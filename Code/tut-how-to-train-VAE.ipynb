{
 "cells": [
  {
   "cell_type": "code",
   "execution_count": 6,
   "id": "27a558dc",
   "metadata": {},
   "outputs": [
    {
     "data": {
      "text/plain": [
       "'/mmfs1/data/aglinska/BC-MRI-ADHD/Code'"
      ]
     },
     "execution_count": 6,
     "metadata": {},
     "output_type": "execute_result"
    }
   ],
   "source": [
    "pwd"
   ]
  },
  {
   "cell_type": "code",
   "execution_count": 2,
   "id": "c8c26ff7",
   "metadata": {},
   "outputs": [],
   "source": [
    "from helper_funcs import *\n",
    "from make_models import *"
   ]
  },
  {
   "cell_type": "code",
   "execution_count": 3,
   "id": "37351b5a",
   "metadata": {},
   "outputs": [],
   "source": [
    "import os\n",
    "os.environ['CUDA_VISIBLE_DEVICES']='2'"
   ]
  },
  {
   "cell_type": "code",
   "execution_count": null,
   "id": "249cccd5",
   "metadata": {},
   "outputs": [],
   "source": [
    "from tqdm import tqdm\n",
    "from matplotlib import pyplot as plt"
   ]
  },
  {
   "cell_type": "code",
   "execution_count": 7,
   "id": "2e10fb84",
   "metadata": {},
   "outputs": [],
   "source": [
    "data_loc = '../Data/ABIDE-Anat-64iso-S982.npz'"
   ]
  },
  {
   "cell_type": "code",
   "execution_count": 95,
   "id": "ce8c3b16",
   "metadata": {},
   "outputs": [],
   "source": [
    "class vae_data_loader():\n",
    "    ''' this is the dataloader for VAE'''\n",
    "    \n",
    "    def __init__(self,data_dir,batch_size=32): # Init runs when you initialize the class\n",
    "\n",
    "        self.data = np.load(data_loc)['data']\n",
    "        self.data_dir = data_dir\n",
    "        self.batch_size = batch_size\n",
    "        self.n_batches = int(data.shape[0]/batch_size)-1\n",
    "        self.e = -1\n",
    "        self.b = -1\n",
    "        \n",
    "        self.new_epoch()\n",
    "        \n",
    "    def new_epoch(self):\n",
    "        self.e+=1\n",
    "        self.perm_idx = np.random.permutation(np.arange(data.shape[0]))\n",
    "        self.data = self.data[self.perm_idx,:,:,:]\n",
    "        \n",
    "        \n",
    "    def get_batch(self):\n",
    "        \n",
    "        if self.b==self.n_batches:\n",
    "            self.new_epoch()\n",
    "            self.b = -1\n",
    "                    \n",
    "        self.b+=1        \n",
    "        self.batch_idx = np.arange(self.b*self.batch_size,self.b*self.batch_size+self.batch_size)\n",
    "        self.batch = self.data[self.batch_idx,:,:,:]\n",
    "                    \n",
    "        return self.batch\n",
    "        "
   ]
  },
  {
   "cell_type": "code",
   "execution_count": 96,
   "id": "6d6252c9",
   "metadata": {},
   "outputs": [],
   "source": [
    "loader = vae_data_loader(data_dir=data_loc,batch_size=32)"
   ]
  },
  {
   "cell_type": "code",
   "execution_count": 4,
   "id": "781171a0",
   "metadata": {},
   "outputs": [],
   "source": [
    "# VAE MODEL DEFINITION\n",
    "encoder, decoder, vae = get_MRI_VAE_3D(input_shape=(64,64,64,1),\n",
    "                                       latent_dim=2,\n",
    "                                       batch_size = 32,\n",
    "                                       disentangle=False,\n",
    "                                       gamma=1,\n",
    "                                       kernel_size = 3,\n",
    "                                       filters = 16,\n",
    "                                       intermediate_dim = 128,\n",
    "                                       opt=None)"
   ]
  },
  {
   "cell_type": "code",
   "execution_count": 138,
   "id": "ab84bb2c",
   "metadata": {},
   "outputs": [
    {
     "name": "stderr",
     "output_type": "stream",
     "text": [
      "100%|██████████| 2/2 [00:13<00:00,  6.90s/it]\n"
     ]
    }
   ],
   "source": [
    "loss = []\n",
    "for epoch in tqdm(range(2)):\n",
    "    for batch in range(loader.n_batches):\n",
    "        data_batch = loader.get_batch()\n",
    "        batch_loss = vae.train_on_batch(data_batch)\n",
    "        loss.append(loss)"
   ]
  },
  {
   "cell_type": "code",
   "execution_count": null,
   "id": "4f00a4be",
   "metadata": {},
   "outputs": [],
   "source": [
    "plt.plot(loss)"
   ]
  },
  {
   "cell_type": "code",
   "execution_count": null,
   "id": "ff468764",
   "metadata": {},
   "outputs": [],
   "source": []
  }
 ],
 "metadata": {
  "kernelspec": {
   "display_name": "Python 3",
   "language": "python",
   "name": "python3"
  },
  "language_info": {
   "codemirror_mode": {
    "name": "ipython",
    "version": 3
   },
   "file_extension": ".py",
   "mimetype": "text/x-python",
   "name": "python",
   "nbconvert_exporter": "python",
   "pygments_lexer": "ipython3",
   "version": "3.8.5"
  }
 },
 "nbformat": 4,
 "nbformat_minor": 5
}
