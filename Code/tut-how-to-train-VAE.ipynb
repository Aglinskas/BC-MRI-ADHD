{
 "cells": [
  {
   "cell_type": "code",
   "execution_count": 8,
   "id": "418ea2ea",
   "metadata": {},
   "outputs": [
    {
     "data": {
      "text/plain": [
       "'/mmfs1/data/aglinska/BC-MRI-ADHD/Code'"
      ]
     },
     "execution_count": 8,
     "metadata": {},
     "output_type": "execute_result"
    }
   ],
   "source": [
    "pwd"
   ]
  },
  {
   "cell_type": "code",
   "execution_count": 9,
   "id": "22c78725",
   "metadata": {},
   "outputs": [],
   "source": [
    "from helper_funcs import *\n",
    "from make_models import *"
   ]
  },
  {
   "cell_type": "code",
   "execution_count": 10,
   "id": "e2312b50",
   "metadata": {},
   "outputs": [],
   "source": [
    "import os # Esoteric GPU stuff\n",
    "os.environ['CUDA_VISIBLE_DEVICES']='2'"
   ]
  },
  {
   "cell_type": "code",
   "execution_count": 11,
   "id": "46c7684b",
   "metadata": {},
   "outputs": [],
   "source": [
    "from tqdm import tqdm\n",
    "from matplotlib import pyplot as plt"
   ]
  },
  {
   "cell_type": "code",
   "execution_count": 12,
   "id": "adc9d750",
   "metadata": {},
   "outputs": [],
   "source": [
    "data_loc = '../Data/ABIDE-Anat-64iso-S982.npz'"
   ]
  },
  {
   "cell_type": "code",
   "execution_count": 17,
   "id": "24ce62e7",
   "metadata": {},
   "outputs": [],
   "source": [
    "class vae_data_loader():\n",
    "    ''' this is the dataloader for VAE'''\n",
    "    \n",
    "    def __init__(self,data_dir,batch_size=32): # Init runs when you initialize the class\n",
    "\n",
    "        self.data = np.load(data_loc)['data']\n",
    "        self.data_dir = data_dir\n",
    "        self.batch_size = batch_size\n",
    "        self.n_batches = int(self.data.shape[0]/self.batch_size)-1\n",
    "        self.e = -1\n",
    "        self.b = -1\n",
    "        \n",
    "        self.new_epoch()\n",
    "        \n",
    "    def new_epoch(self):\n",
    "        self.e+=1\n",
    "        self.perm_idx = np.random.permutation(np.arange(self.data.shape[0]))\n",
    "        self.data = self.data[self.perm_idx,:,:,:]\n",
    "        \n",
    "        \n",
    "    def get_batch(self):\n",
    "        \n",
    "        if self.b==self.n_batches:\n",
    "            self.new_epoch()\n",
    "            self.b = -1\n",
    "                    \n",
    "        self.b+=1        \n",
    "        self.batch_idx = np.arange(self.b*self.batch_size,self.b*self.batch_size+self.batch_size)\n",
    "        self.batch = self.data[self.batch_idx,:,:,:]\n",
    "                    \n",
    "        return self.batch"
   ]
  },
  {
   "cell_type": "code",
   "execution_count": 18,
   "id": "9fcd7501",
   "metadata": {},
   "outputs": [],
   "source": [
    "loader = vae_data_loader(data_dir=data_loc,batch_size=32)"
   ]
  },
  {
   "cell_type": "code",
   "execution_count": 21,
   "id": "184139eb",
   "metadata": {},
   "outputs": [
    {
     "data": {
      "text/plain": [
       "(982, 64, 64, 64)"
      ]
     },
     "execution_count": 21,
     "metadata": {},
     "output_type": "execute_result"
    }
   ],
   "source": [
    "loader.data.shape"
   ]
  },
  {
   "cell_type": "code",
   "execution_count": 92,
   "id": "52337011",
   "metadata": {},
   "outputs": [
    {
     "name": "stdout",
     "output_type": "stream",
     "text": [
      "2 / 3\n"
     ]
    }
   ],
   "source": [
    "loader.get_batch();\n",
    "print(f'{loader.e} / {loader.b}')"
   ]
  },
  {
   "cell_type": "code",
   "execution_count": 19,
   "id": "9c2c3ee9",
   "metadata": {},
   "outputs": [],
   "source": [
    "# VAE MODEL DEFINITION\n",
    "encoder, decoder, vae = get_MRI_VAE_3D(input_shape=(64,64,64,1),\n",
    "                                       latent_dim=2,\n",
    "                                       batch_size = 32,\n",
    "                                       disentangle=False,\n",
    "                                       gamma=1,\n",
    "                                       kernel_size = 3,\n",
    "                                       filters = 16,\n",
    "                                       intermediate_dim = 128,\n",
    "                                       opt=None)"
   ]
  },
  {
   "cell_type": "code",
   "execution_count": 93,
   "id": "7eef90c7",
   "metadata": {},
   "outputs": [
    {
     "name": "stderr",
     "output_type": "stream",
     "text": [
      "100%|██████████| 2/2 [00:16<00:00,  8.20s/it]\n"
     ]
    }
   ],
   "source": [
    "loss = []\n",
    "for epoch in tqdm(range(2)):\n",
    "    for batch in range(loader.n_batches):\n",
    "        data_batch = loader.get_batch()\n",
    "        batch_loss = vae.train_on_batch(data_batch)\n",
    "        loss.append(loss)"
   ]
  },
  {
   "cell_type": "code",
   "execution_count": null,
   "id": "4cdfc698",
   "metadata": {},
   "outputs": [],
   "source": [
    "plt.plot(loss)"
   ]
  },
  {
   "cell_type": "code",
   "execution_count": null,
   "id": "702a0f32",
   "metadata": {},
   "outputs": [],
   "source": [
    "loss"
   ]
  },
  {
   "cell_type": "code",
   "execution_count": null,
   "id": "629b065b",
   "metadata": {},
   "outputs": [],
   "source": [
    "#vae.predict(data_batch)"
   ]
  }
 ],
 "metadata": {
  "kernelspec": {
   "display_name": "Python 3 (ipykernel)",
   "language": "python",
   "name": "python3"
  },
  "language_info": {
   "codemirror_mode": {
    "name": "ipython",
    "version": 3
   },
   "file_extension": ".py",
   "mimetype": "text/x-python",
   "name": "python",
   "nbconvert_exporter": "python",
   "pygments_lexer": "ipython3",
   "version": "3.8.8"
  }
 },
 "nbformat": 4,
 "nbformat_minor": 5
}
