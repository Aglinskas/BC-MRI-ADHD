{
 "cells": [
  {
   "cell_type": "code",
   "execution_count": 1,
   "id": "67398e7f",
   "metadata": {},
   "outputs": [
    {
     "data": {
      "text/plain": [
       "'/mmfs1/data/bergerar/BC-MRI-ADHD/Code'"
      ]
     },
     "execution_count": 1,
     "metadata": {},
     "output_type": "execute_result"
    }
   ],
   "source": [
    "pwd"
   ]
  },
  {
   "cell_type": "code",
   "execution_count": 2,
   "id": "f1a255c4",
   "metadata": {},
   "outputs": [
    {
     "name": "stderr",
     "output_type": "stream",
     "text": [
      "2022-08-30 22:22:00.319219: I tensorflow/stream_executor/platform/default/dso_loader.cc:48] Successfully opened dynamic library libcudart.so.10.1\n"
     ]
    }
   ],
   "source": [
    "import os \n",
    "import pandas as pd\n",
    "import numpy as np\n",
    "from matplotlib import pyplot as plt\n",
    "from make_models import get_MRI_VAE_3D,get_MRI_CVAE_3D\n",
    "from tqdm import tqdm "
   ]
  },
  {
   "cell_type": "code",
   "execution_count": 3,
   "id": "5db46943",
   "metadata": {},
   "outputs": [
    {
     "name": "stdout",
     "output_type": "stream",
     "text": [
      "['data', 'controls', 'patients']\n",
      "(440, 64, 64, 64)\n"
     ]
    },
    {
     "data": {
      "text/plain": [
       "(179, 64, 64, 64)"
      ]
     },
     "execution_count": 3,
     "metadata": {},
     "output_type": "execute_result"
    }
   ],
   "source": [
    "stuff = np.load('../Assets/brain_array-440.npz')\n",
    "print(list(stuff.keys()))\n",
    "\n",
    "data = stuff['data']\n",
    "control = stuff['controls']\n",
    "patients = stuff['patients']\n",
    "n = data.shape[0]\n",
    "print(data.shape)\n",
    "data[patients,:,:,:].shape\n",
    "data[patients].shape\n"
   ]
  },
  {
   "cell_type": "code",
   "execution_count": null,
   "id": "418fb71d",
   "metadata": {},
   "outputs": [],
   "source": [
    "batch_size = 32\n",
    "encoder, decoder, vae = get_MRI_VAE_3D(input_shape=(64,64,64,1),\n",
    "                   latent_dim=2,\n",
    "                   batch_size = batch_size,\n",
    "                   disentangle=False,\n",
    "                   gamma=1,\n",
    "                   kernel_size = 3,\n",
    "                   filters = 16,\n",
    "                   intermediate_dim = 128,\n",
    "                   opt=None)"
   ]
  },
  {
   "cell_type": "code",
   "execution_count": null,
   "id": "79868b04",
   "metadata": {},
   "outputs": [],
   "source": [
    "# Training\n",
    "#for epoch in epochs\n",
    "for i in tqdm(range(5)):\n",
    "    batch_idx = np.random.randint(low=0,high=n,size=batch_size)\n",
    "    data_batch = data[batch_idx,:,:,:]\n",
    "    vae.train_on_batch(data_batch)"
   ]
  },
  {
   "cell_type": "code",
   "execution_count": null,
   "id": "d6b70bba",
   "metadata": {},
   "outputs": [],
   "source": [
    "prediction = vae.predict(data_batch)"
   ]
  },
  {
   "cell_type": "code",
   "execution_count": null,
   "id": "fbbafda0",
   "metadata": {},
   "outputs": [],
   "source": [
    "plt.figure(figsize=(10,5))\n",
    "plt.subplot(1,2,1)\n",
    "plt.imshow(data_batch[0,:,:,32])\n",
    "plt.title('input')\n",
    "plt.subplot(1,2,2)\n",
    "plt.imshow(prediction[0,:,:,32,0])\n",
    "plt.title('prediction')"
   ]
  },
  {
   "cell_type": "code",
   "execution_count": null,
   "id": "0b10637f",
   "metadata": {},
   "outputs": [],
   "source": [
    "cvae, z_encoder, s_encoder, cvae_decoder = get_MRI_CVAE_3D(input_shape=(64,64,64,1),\n",
    "                    latent_dim=2,\n",
    "                    beta=1,\n",
    "                    disentangle=False,\n",
    "                    gamma=1,\n",
    "                    bias=True,\n",
    "                    batch_size = 64,\n",
    "                    kernel_size = 3,\n",
    "                    filters = 32,\n",
    "                    intermediate_dim = 128,\n",
    "                    opt=None)\n",
    "\n",
    "# CVAE takes in [patients,controls]"
   ]
  },
  {
   "cell_type": "code",
   "execution_count": null,
   "id": "5693acdc",
   "metadata": {},
   "outputs": [],
   "source": [
    "data_batch_patients = data[np.random.randint(low=0,high=n,size=batch_size),:,:,:]\n",
    "data_batch_control = data[np.random.randint(low=0,high=n,size=batch_size),:,:,:]"
   ]
  },
  {
   "cell_type": "code",
   "execution_count": null,
   "id": "12b027b8",
   "metadata": {},
   "outputs": [],
   "source": [
    "for i in tqdm(range(5)):\n",
    "    cvae.train_on_batch([data_batch_patients,data_batch_control])"
   ]
  },
  {
   "cell_type": "code",
   "execution_count": null,
   "id": "13f26a72",
   "metadata": {},
   "outputs": [],
   "source": [
    "predictions = cvae.predict([data_batch_patients,data_batch_control])"
   ]
  },
  {
   "cell_type": "code",
   "execution_count": null,
   "id": "fbd73d75",
   "metadata": {},
   "outputs": [],
   "source": [
    "plt.figure(figsize=(10,5))\n",
    "plt.subplot(1,2,1)\n",
    "plt.imshow(data_batch_patients[0,:,:,32])\n",
    "plt.title('input')\n",
    "plt.subplot(1,2,2)\n",
    "plt.imshow(predictions[0][0,:,:,32,0])\n",
    "plt.title('prediction')"
   ]
  },
  {
   "cell_type": "code",
   "execution_count": null,
   "id": "dd5a413e",
   "metadata": {},
   "outputs": [],
   "source": []
  },
  {
   "cell_type": "code",
   "execution_count": null,
   "id": "83561204",
   "metadata": {},
   "outputs": [],
   "source": []
  },
  {
   "cell_type": "code",
   "execution_count": null,
   "id": "25375919",
   "metadata": {},
   "outputs": [],
   "source": []
  },
  {
   "cell_type": "code",
   "execution_count": null,
   "id": "af319ef0",
   "metadata": {},
   "outputs": [],
   "source": []
  },
  {
   "cell_type": "code",
   "execution_count": null,
   "id": "485ef638",
   "metadata": {},
   "outputs": [],
   "source": []
  },
  {
   "cell_type": "code",
   "execution_count": null,
   "id": "d8fe14b7",
   "metadata": {},
   "outputs": [],
   "source": []
  },
  {
   "cell_type": "code",
   "execution_count": null,
   "id": "5e972fdb",
   "metadata": {},
   "outputs": [],
   "source": []
  },
  {
   "cell_type": "code",
   "execution_count": null,
   "id": "cb654a69",
   "metadata": {},
   "outputs": [],
   "source": []
  },
  {
   "cell_type": "code",
   "execution_count": null,
   "id": "6ba03e5f",
   "metadata": {},
   "outputs": [],
   "source": []
  },
  {
   "cell_type": "code",
   "execution_count": null,
   "id": "9aff55d5",
   "metadata": {},
   "outputs": [],
   "source": []
  },
  {
   "cell_type": "code",
   "execution_count": null,
   "id": "e7f5cff8",
   "metadata": {},
   "outputs": [],
   "source": []
  }
 ],
 "metadata": {
  "kernelspec": {
   "display_name": "Python 3",
   "language": "python",
   "name": "python3"
  },
  "language_info": {
   "codemirror_mode": {
    "name": "ipython",
    "version": 3
   },
   "file_extension": ".py",
   "mimetype": "text/x-python",
   "name": "python",
   "nbconvert_exporter": "python",
   "pygments_lexer": "ipython3",
   "version": "3.8.8"
  }
 },
 "nbformat": 4,
 "nbformat_minor": 5
}
