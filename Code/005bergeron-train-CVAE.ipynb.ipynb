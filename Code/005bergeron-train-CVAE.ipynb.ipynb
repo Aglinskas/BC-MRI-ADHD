{
 "cells": [
  {
   "cell_type": "code",
   "execution_count": 3,
   "id": "c963790b-b8c6-44ad-a1c9-4fe6de057073",
   "metadata": {},
   "outputs": [
    {
     "data": {
      "text/plain": [
       "'/mmfs1/data/bergerar/BC-MRI-ADHD/Code'"
      ]
     },
     "execution_count": 3,
     "metadata": {},
     "output_type": "execute_result"
    }
   ],
   "source": [
    "pwd"
   ]
  },
  {
   "cell_type": "code",
   "execution_count": 4,
   "id": "9cd9d270-f12f-4b5b-98a0-1ea0ea718917",
   "metadata": {},
   "outputs": [
    {
     "name": "stderr",
     "output_type": "stream",
     "text": [
      "2022-06-08 12:37:21.864455: W tensorflow/stream_executor/platform/default/dso_loader.cc:59] Could not load dynamic library 'libcudart.so.10.1'; dlerror: libcudart.so.10.1: cannot open shared object file: No such file or directory; LD_LIBRARY_PATH: /cm/local/apps/gcc/9.2.0/lib:/cm/local/apps/gcc/9.2.0/lib64:/cm/shared/apps/slurm/current/lib64/slurm:/cm/shared/apps/slurm/current/lib64\n",
      "2022-06-08 12:37:21.864478: I tensorflow/stream_executor/cuda/cudart_stub.cc:29] Ignore above cudart dlerror if you do not have a GPU set up on your machine.\n"
     ]
    }
   ],
   "source": [
    "import os \n",
    "import pandas as pd\n",
    "import numpy as np\n",
    "from matplotlib import pyplot as plt\n",
    "from make_models import get_MRI_VAE_3D,get_MRI_CVAE_3D\n",
    "from tqdm import tqdm "
   ]
  },
  {
   "cell_type": "code",
   "execution_count": 5,
   "id": "55a88ae5-1a91-4de6-9160-02522deda5ab",
   "metadata": {},
   "outputs": [
    {
     "name": "stdout",
     "output_type": "stream",
     "text": [
      "['data', 'controls', 'patients']\n",
      "440\n",
      "[ True False  True  True False  True  True False False False  True  True\n",
      "  True  True  True  True  True False  True  True  True  True False  True\n",
      "  True  True False False  True  True False  True  True  True  True  True\n",
      "  True  True  True  True  True  True  True  True  True False False  True\n",
      "  True  True  True  True  True  True False  True  True  True  True  True\n",
      "  True  True False  True  True  True False False False False False  True\n",
      "  True  True False  True  True False  True  True  True False  True  True\n",
      " False False False  True False False False  True  True  True False False\n",
      " False False  True  True  True False False  True  True  True False  True\n",
      " False  True False False False  True False False False False False False\n",
      " False  True  True False False False False  True False False  True False\n",
      "  True  True False False  True False  True False False False  True False\n",
      " False False  True False  True False  True  True False  True  True False\n",
      " False False  True False  True  True False False  True  True False  True\n",
      "  True False  True False False  True  True False False  True  True False\n",
      "  True  True False False False  True False  True False False  True  True\n",
      "  True False False False  True False False False False  True  True False\n",
      "  True  True  True  True False False False False False  True False  True\n",
      "  True False False  True  True  True  True False False  True False  True\n",
      "  True  True  True  True False False  True  True  True  True False False\n",
      "  True  True  True False  True False False False  True  True False  True\n",
      "  True False False False  True False  True False  True  True  True  True\n",
      " False False  True False False  True  True False  True False False False\n",
      " False False False  True False False False False False  True False  True\n",
      " False  True False False  True False False  True  True  True False  True\n",
      " False  True False  True  True  True  True  True False False  True False\n",
      " False  True False False False False  True False  True False  True False\n",
      " False  True False  True  True  True  True  True  True  True  True  True\n",
      " False False  True  True False False  True False  True  True  True False\n",
      " False  True False  True False  True  True  True False False False  True\n",
      "  True False  True  True  True  True False  True False  True False  True\n",
      " False  True  True  True False  True False  True  True False  True False\n",
      "  True  True False  True  True  True  True  True  True False False  True\n",
      "  True  True  True  True  True  True  True  True  True  True  True  True\n",
      "  True  True  True  True  True  True  True  True  True  True  True  True\n",
      "  True  True  True  True  True  True  True  True  True  True  True  True\n",
      "  True  True  True  True  True  True  True  True]\n"
     ]
    }
   ],
   "source": [
    "ar = np.load('../Assets/brain_array-440.npz')\n",
    "print(list(ar.keys()))\n",
    "\n",
    "data = ar['data']\n",
    "control = ar['controls']\n",
    "patients = ar['patients']\n",
    "n = data.shape[0]\n",
    "\n",
    "print(n)\n",
    "print(control)"
   ]
  },
  {
   "cell_type": "code",
   "execution_count": 7,
   "id": "3fe37935-fb87-42d6-83cb-6e66596e7aee",
   "metadata": {},
   "outputs": [
    {
     "name": "stdout",
     "output_type": "stream",
     "text": [
      "(179, 64, 64, 64)\n",
      "(261, 64, 64, 64)\n"
     ]
    }
   ],
   "source": [
    "data_patients = data[patients,:,:,:]\n",
    "print(data_patients.shape)\n",
    "data_control = data[control,:,:,:]\n",
    "print(data_control.shape)"
   ]
  },
  {
   "cell_type": "code",
   "execution_count": 8,
   "id": "b79c48b6-a9ef-458a-96c2-a85aded8bb19",
   "metadata": {},
   "outputs": [
    {
     "data": {
      "text/plain": [
       "numpy.ndarray"
      ]
     },
     "execution_count": 8,
     "metadata": {},
     "output_type": "execute_result"
    }
   ],
   "source": [
    "type(data_patients)"
   ]
  },
  {
   "cell_type": "code",
   "execution_count": 16,
   "id": "dc69da12-6797-45c0-b33d-5661625ffc1f",
   "metadata": {},
   "outputs": [],
   "source": [
    "class bergeronADHD200_data_loader:\n",
    "    \n",
    "    def __init__(self):\n",
    "        self.batch_id = 0 #count batches\n",
    "\n",
    "    def get_batch(self):\n",
    "        self.adhd_data_batch = np.random.rand(32,64,64,64)\n",
    "        self.td_data_batch = np.random.rand(32,64,64,64)\n",
    "        \n",
    "        self.batch_id += 1 # count batches \n",
    "        return self.adhd_data_batch,self.td_data_batch\n",
    "    \n",
    "    def __init__(self,data_dir,batch_size=32):\n",
    "        \n",
    "        self.data = data[data]\n",
    "        self.data_dir = data_dir\n",
    "        self.batch_size = batch_size\n",
    "        self.n_batches = int(self.data.shape[0]/self.batch_size)-1\n",
    "        self.e = -1\n",
    "        self.b = -1\n",
    "        \n",
    "        self.new_epoch()\n",
    "        \n",
    "    def new_epoch(self):\n",
    "        self.e+=1\n",
    "        self.perm_idx = np.random.permutation(np.arange(self.data.shape[0]))\n",
    "        self.data = self.data[self.perm_idx,:,:,:]\n",
    "        \n",
    "#patient batch\n",
    "    def get_patient_batch(self):\n",
    "        \n",
    "        if self.b==self.n_batches:\n",
    "            self.new_epoch()\n",
    "            self.b = -1\n",
    "                    \n",
    "        self.b+=1        \n",
    "        self.batch_idx = np.arange(self.b*self.batch_size,self.b*self.batch_size+self.batch_size)\n",
    "        self.batch = self.data[self.batch_idx,:,:,:]\n",
    "                    \n",
    "        return self.batch\n",
    "    \n",
    "#control batch\n",
    "    \n",
    "    def get_control_batch(self):\n",
    "        \n",
    "        if self.b==self.n_batches:\n",
    "            self.new_epoch()\n",
    "            self.b = -1\n",
    "                    \n",
    "        self.b+=1        \n",
    "        self.batch_idx = np.arange(self.b*self.batch_size,self.b*self.batch_size+self.batch_size)\n",
    "        self.batch = self.data[self.batch_idx,:,:,:]\n",
    "                    \n",
    "        return self.batch"
   ]
  },
  {
   "cell_type": "code",
   "execution_count": 17,
   "id": "df96400d-a46d-4613-ada5-f29d7e319210",
   "metadata": {},
   "outputs": [
    {
     "ename": "IndexError",
     "evalue": "arrays used as indices must be of integer (or boolean) type",
     "output_type": "error",
     "traceback": [
      "\u001b[0;31m---------------------------------------------------------------------------\u001b[0m",
      "\u001b[0;31mIndexError\u001b[0m                                Traceback (most recent call last)",
      "\u001b[0;32m/tmp/ipykernel_2080183/641517771.py\u001b[0m in \u001b[0;36m<module>\u001b[0;34m\u001b[0m\n\u001b[0;32m----> 1\u001b[0;31m \u001b[0mloaderhehe\u001b[0m \u001b[0;34m=\u001b[0m \u001b[0mbergeronADHD200_data_loader\u001b[0m\u001b[0;34m(\u001b[0m\u001b[0mdata_dir\u001b[0m\u001b[0;34m=\u001b[0m\u001b[0mdata\u001b[0m\u001b[0;34m,\u001b[0m\u001b[0mbatch_size\u001b[0m\u001b[0;34m=\u001b[0m\u001b[0;36m32\u001b[0m\u001b[0;34m)\u001b[0m\u001b[0;34m\u001b[0m\u001b[0;34m\u001b[0m\u001b[0m\n\u001b[0m",
      "\u001b[0;32m/tmp/ipykernel_2080183/336653072.py\u001b[0m in \u001b[0;36m__init__\u001b[0;34m(self, data_dir, batch_size)\u001b[0m\n\u001b[1;32m     13\u001b[0m     \u001b[0;32mdef\u001b[0m \u001b[0m__init__\u001b[0m\u001b[0;34m(\u001b[0m\u001b[0mself\u001b[0m\u001b[0;34m,\u001b[0m\u001b[0mdata_dir\u001b[0m\u001b[0;34m,\u001b[0m\u001b[0mbatch_size\u001b[0m\u001b[0;34m=\u001b[0m\u001b[0;36m32\u001b[0m\u001b[0;34m)\u001b[0m\u001b[0;34m:\u001b[0m\u001b[0;34m\u001b[0m\u001b[0;34m\u001b[0m\u001b[0m\n\u001b[1;32m     14\u001b[0m \u001b[0;34m\u001b[0m\u001b[0m\n\u001b[0;32m---> 15\u001b[0;31m         \u001b[0mself\u001b[0m\u001b[0;34m.\u001b[0m\u001b[0mdata\u001b[0m \u001b[0;34m=\u001b[0m \u001b[0mdata\u001b[0m\u001b[0;34m[\u001b[0m\u001b[0mdata\u001b[0m\u001b[0;34m]\u001b[0m\u001b[0;34m\u001b[0m\u001b[0;34m\u001b[0m\u001b[0m\n\u001b[0m\u001b[1;32m     16\u001b[0m         \u001b[0mself\u001b[0m\u001b[0;34m.\u001b[0m\u001b[0mdata_dir\u001b[0m \u001b[0;34m=\u001b[0m \u001b[0mdata_dir\u001b[0m\u001b[0;34m\u001b[0m\u001b[0;34m\u001b[0m\u001b[0m\n\u001b[1;32m     17\u001b[0m         \u001b[0mself\u001b[0m\u001b[0;34m.\u001b[0m\u001b[0mbatch_size\u001b[0m \u001b[0;34m=\u001b[0m \u001b[0mbatch_size\u001b[0m\u001b[0;34m\u001b[0m\u001b[0;34m\u001b[0m\u001b[0m\n",
      "\u001b[0;31mIndexError\u001b[0m: arrays used as indices must be of integer (or boolean) type"
     ]
    }
   ],
   "source": [
    "loaderhehe = bergeronADHD200_data_loader(data_dir=data,batch_size=32)"
   ]
  },
  {
   "cell_type": "code",
   "execution_count": null,
   "id": "9213b2e0-28fa-475d-8bcb-35384a4eac6f",
   "metadata": {},
   "outputs": [],
   "source": [
    "loaderhehe.data.shape"
   ]
  },
  {
   "cell_type": "code",
   "execution_count": null,
   "id": "0778a56d-f080-4892-b72f-081456383351",
   "metadata": {},
   "outputs": [],
   "source": [
    "data = ar['data']\n",
    "control = ar['controls']\n",
    "patients = ar['patients']"
   ]
  },
  {
   "cell_type": "code",
   "execution_count": null,
   "id": "2f635a87-215e-4f4f-b338-9a0371a86565",
   "metadata": {},
   "outputs": [],
   "source": [
    "n = loaderhehe.data.shape[0]\n",
    "print(n)"
   ]
  },
  {
   "cell_type": "code",
   "execution_count": null,
   "id": "9128dcfc-51a7-4c52-9cf9-4bf9d73ddaac",
   "metadata": {},
   "outputs": [],
   "source": [
    "batch_size = 32"
   ]
  },
  {
   "cell_type": "code",
   "execution_count": null,
   "id": "6572fd1c-ba70-4f14-93dd-fa1e6b5a8feb",
   "metadata": {},
   "outputs": [],
   "source": [
    "data_batch = ar[np.random.randint(low=0,high=n,size=batch_size)]"
   ]
  },
  {
   "cell_type": "code",
   "execution_count": null,
   "id": "d2170cf2-7ece-46e2-ab87-961450633810",
   "metadata": {},
   "outputs": [],
   "source": [
    "data_batch_patients = patients[np.random.randint(low=0,high=n,size=batch_size),:,:,:]\n",
    "data_batch_control = control[np.random.randint(low=0,high=n,size=batch_size),:,:,:]"
   ]
  },
  {
   "cell_type": "code",
   "execution_count": null,
   "id": "17382fcb-7038-47e2-987c-f7507a46c12b",
   "metadata": {},
   "outputs": [],
   "source": [
    "data_batch_control = data_stuff[np.random.randint(low=0,high=n,size=batch_size),:,:,:]"
   ]
  },
  {
   "cell_type": "code",
   "execution_count": null,
   "id": "7a6a6600-4ce6-4767-ba4a-b15371565dd7",
   "metadata": {},
   "outputs": [],
   "source": [
    "loaderhehe.get_patient_batch();\n",
    "loaderhehe.get_control_batch();"
   ]
  },
  {
   "cell_type": "code",
   "execution_count": null,
   "id": "77f61222-6ea8-4727-9bae-841b9a4323b4",
   "metadata": {},
   "outputs": [],
   "source": [
    "cvae, z_encoder, s_encoder, cvae_decoder = get_MRI_CVAE_3D(input_shape=(64,64,64,1),\n",
    "                                            latent_dim=2,\n",
    "                                            beta=1,\n",
    "                                            disentangle=False,\n",
    "                                            gamma=1,\n",
    "                                            bias=True,\n",
    "                                            batch_size = 64,\n",
    "                                            kernel_size = 3,\n",
    "                                            filters = 32,\n",
    "                                            intermediate_dim = 128,\n",
    "                                            opt=None)"
   ]
  },
  {
   "cell_type": "code",
   "execution_count": null,
   "id": "e6adc08a-0e4b-4891-a80f-2869a36feb56",
   "metadata": {},
   "outputs": [],
   "source": []
  },
  {
   "cell_type": "code",
   "execution_count": null,
   "id": "b3e3e65c-fc82-4d59-ac34-c04051f264cb",
   "metadata": {},
   "outputs": [],
   "source": []
  }
 ],
 "metadata": {
  "kernelspec": {
   "display_name": "Python 3 (ipykernel)",
   "language": "python",
   "name": "python3"
  },
  "language_info": {
   "codemirror_mode": {
    "name": "ipython",
    "version": 3
   },
   "file_extension": ".py",
   "mimetype": "text/x-python",
   "name": "python",
   "nbconvert_exporter": "python",
   "pygments_lexer": "ipython3",
   "version": "3.8.8"
  }
 },
 "nbformat": 4,
 "nbformat_minor": 5
}
