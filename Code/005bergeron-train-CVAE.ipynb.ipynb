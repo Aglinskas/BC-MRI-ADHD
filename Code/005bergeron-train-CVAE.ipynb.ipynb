{
 "cells": [
  {
   "cell_type": "code",
   "execution_count": 2,
   "id": "c963790b-b8c6-44ad-a1c9-4fe6de057073",
   "metadata": {},
   "outputs": [
    {
     "data": {
      "text/plain": [
       "'/mmfs1/data/bergerar/BC-MRI-ADHD/Code'"
      ]
     },
     "execution_count": 2,
     "metadata": {},
     "output_type": "execute_result"
    }
   ],
   "source": [
    "pwd"
   ]
  },
  {
   "cell_type": "code",
   "execution_count": 3,
   "id": "9cd9d270-f12f-4b5b-98a0-1ea0ea718917",
   "metadata": {},
   "outputs": [
    {
     "name": "stderr",
     "output_type": "stream",
     "text": [
      "2022-04-05 10:03:32.313652: W tensorflow/stream_executor/platform/default/dso_loader.cc:59] Could not load dynamic library 'libcudart.so.10.1'; dlerror: libcudart.so.10.1: cannot open shared object file: No such file or directory; LD_LIBRARY_PATH: /cm/local/apps/gcc/9.2.0/lib:/cm/local/apps/gcc/9.2.0/lib64:/cm/shared/apps/slurm/current/lib64/slurm:/cm/shared/apps/slurm/current/lib64\n",
      "2022-04-05 10:03:32.313691: I tensorflow/stream_executor/cuda/cudart_stub.cc:29] Ignore above cudart dlerror if you do not have a GPU set up on your machine.\n"
     ]
    }
   ],
   "source": [
    "import os \n",
    "import pandas as pd\n",
    "import numpy as np\n",
    "from matplotlib import pyplot as plt\n",
    "from make_models import get_MRI_VAE_3D,get_MRI_CVAE_3D\n",
    "from tqdm import tqdm "
   ]
  },
  {
   "cell_type": "code",
   "execution_count": 4,
   "id": "55a88ae5-1a91-4de6-9160-02522deda5ab",
   "metadata": {},
   "outputs": [],
   "source": [
    "data_stuff = '../Assets/brain_array-440.npz'"
   ]
  },
  {
   "cell_type": "code",
   "execution_count": 5,
   "id": "dc69da12-6797-45c0-b33d-5661625ffc1f",
   "metadata": {},
   "outputs": [],
   "source": [
    "class bergeronADHD200_data_loader():\n",
    "    \n",
    "    def __init__(self,data_dir,batch_size=32):\n",
    "\n",
    "        self.data = np.load(data_stuff)['data']\n",
    "        self.data_dir = data_dir\n",
    "        self.batch_size = batch_size\n",
    "        self.n_batches = int(self.data.shape[0]/self.batch_size)-1\n",
    "        self.e = -1\n",
    "        self.b = -1\n",
    "        \n",
    "        self.new_epoch()\n",
    "        \n",
    "    def new_epoch(self):\n",
    "        self.e+=1\n",
    "        self.perm_idx = np.random.permutation(np.arange(self.data.shape[0]))\n",
    "        self.data = self.data[self.perm_idx,:,:,:]\n",
    "        \n",
    "        \n",
    "# figure out how to differentiate between patients and controls to separate into two batches \n",
    "\n",
    "    def get_patient_batch(self):\n",
    "        \n",
    "        if self.b==self.n_batches:\n",
    "            self.new_epoch()\n",
    "            self.b = -1\n",
    "                    \n",
    "        self.b+=1        \n",
    "        self.batch_idx = np.arange(self.b*self.batch_size,self.b*self.batch_size+self.batch_size)\n",
    "        self.batch = self.data[self.batch_idx,:,:,:]\n",
    "                    \n",
    "        return self.batch\n",
    "    \n",
    "    def get_patient_batch(self):\n",
    "        \n",
    "        if self.b==self.n_batches:\n",
    "            self.new_epoch()\n",
    "            self.b = -1\n",
    "                    \n",
    "        self.b+=1        \n",
    "        self.batch_idx = np.arange(self.b*self.batch_size,self.b*self.batch_size+self.batch_size)\n",
    "        self.batch = self.data[self.batch_idx,:,:,:]\n",
    "                    \n",
    "        return self.batch"
   ]
  },
  {
   "cell_type": "code",
   "execution_count": 6,
   "id": "df96400d-a46d-4613-ada5-f29d7e319210",
   "metadata": {},
   "outputs": [],
   "source": [
    "loaderhehe = bergeronADHD200_data_loader(data_dir=data_stuff,batch_size=32)"
   ]
  },
  {
   "cell_type": "code",
   "execution_count": 7,
   "id": "9213b2e0-28fa-475d-8bcb-35384a4eac6f",
   "metadata": {},
   "outputs": [
    {
     "data": {
      "text/plain": [
       "(440, 64, 64, 64)"
      ]
     },
     "execution_count": 7,
     "metadata": {},
     "output_type": "execute_result"
    }
   ],
   "source": [
    "loaderhehe.data.shape"
   ]
  },
  {
   "cell_type": "code",
   "execution_count": 29,
   "id": "0778a56d-f080-4892-b72f-081456383351",
   "metadata": {},
   "outputs": [
    {
     "ename": "TypeError",
     "evalue": "string indices must be integers",
     "output_type": "error",
     "traceback": [
      "\u001b[0;31m---------------------------------------------------------------------------\u001b[0m",
      "\u001b[0;31mTypeError\u001b[0m                                 Traceback (most recent call last)",
      "\u001b[0;32m/tmp/ipykernel_1950753/594212224.py\u001b[0m in \u001b[0;36m<module>\u001b[0;34m\u001b[0m\n\u001b[0;32m----> 1\u001b[0;31m \u001b[0mdata\u001b[0m \u001b[0;34m=\u001b[0m \u001b[0mdata_stuff\u001b[0m\u001b[0;34m[\u001b[0m\u001b[0;34m'data'\u001b[0m\u001b[0;34m]\u001b[0m\u001b[0;34m\u001b[0m\u001b[0;34m\u001b[0m\u001b[0m\n\u001b[0m\u001b[1;32m      2\u001b[0m \u001b[0mcontrol\u001b[0m \u001b[0;34m=\u001b[0m \u001b[0mdata_stuff\u001b[0m\u001b[0;34m[\u001b[0m\u001b[0;34m'controls'\u001b[0m\u001b[0;34m]\u001b[0m\u001b[0;34m\u001b[0m\u001b[0;34m\u001b[0m\u001b[0m\n\u001b[1;32m      3\u001b[0m \u001b[0mpatients\u001b[0m \u001b[0;34m=\u001b[0m \u001b[0mdata_stuff\u001b[0m\u001b[0;34m[\u001b[0m\u001b[0;34m'patients'\u001b[0m\u001b[0;34m]\u001b[0m\u001b[0;34m\u001b[0m\u001b[0;34m\u001b[0m\u001b[0m\n",
      "\u001b[0;31mTypeError\u001b[0m: string indices must be integers"
     ]
    }
   ],
   "source": [
    "data = data_stuff['data']\n",
    "control = data_stuff['controls']\n",
    "patients = data_stuff['patients']\n",
    "#how do I determine which of the 440 are patients/ put them in order so its like the first half is patients second half controls so I can select half the data"
   ]
  },
  {
   "cell_type": "code",
   "execution_count": 21,
   "id": "2f635a87-215e-4f4f-b338-9a0371a86565",
   "metadata": {},
   "outputs": [
    {
     "name": "stdout",
     "output_type": "stream",
     "text": [
      "440\n"
     ]
    }
   ],
   "source": [
    "n = loaderhehe.data.shape[0]\n",
    "print(n)"
   ]
  },
  {
   "cell_type": "code",
   "execution_count": 26,
   "id": "9128dcfc-51a7-4c52-9cf9-4bf9d73ddaac",
   "metadata": {},
   "outputs": [],
   "source": [
    "batch_size = 32"
   ]
  },
  {
   "cell_type": "code",
   "execution_count": 32,
   "id": "6572fd1c-ba70-4f14-93dd-fa1e6b5a8feb",
   "metadata": {},
   "outputs": [
    {
     "ename": "TypeError",
     "evalue": "only integer scalar arrays can be converted to a scalar index",
     "output_type": "error",
     "traceback": [
      "\u001b[0;31m---------------------------------------------------------------------------\u001b[0m",
      "\u001b[0;31mTypeError\u001b[0m                                 Traceback (most recent call last)",
      "\u001b[0;32m/tmp/ipykernel_1950753/329617824.py\u001b[0m in \u001b[0;36m<module>\u001b[0;34m\u001b[0m\n\u001b[0;32m----> 1\u001b[0;31m \u001b[0mdata_batch\u001b[0m \u001b[0;34m=\u001b[0m \u001b[0mdata_stuff\u001b[0m\u001b[0;34m[\u001b[0m\u001b[0mnp\u001b[0m\u001b[0;34m.\u001b[0m\u001b[0mrandom\u001b[0m\u001b[0;34m.\u001b[0m\u001b[0mrandint\u001b[0m\u001b[0;34m(\u001b[0m\u001b[0mlow\u001b[0m\u001b[0;34m=\u001b[0m\u001b[0;36m0\u001b[0m\u001b[0;34m,\u001b[0m\u001b[0mhigh\u001b[0m\u001b[0;34m=\u001b[0m\u001b[0mn\u001b[0m\u001b[0;34m,\u001b[0m\u001b[0msize\u001b[0m\u001b[0;34m=\u001b[0m\u001b[0mbatch_size\u001b[0m\u001b[0;34m)\u001b[0m\u001b[0;34m]\u001b[0m\u001b[0;34m\u001b[0m\u001b[0;34m\u001b[0m\u001b[0m\n\u001b[0m",
      "\u001b[0;31mTypeError\u001b[0m: only integer scalar arrays can be converted to a scalar index"
     ]
    }
   ],
   "source": [
    "data_batch = data_stuff[np.random.randint(low=0,high=n,size=batch_size)]\n",
    "# weird error"
   ]
  },
  {
   "cell_type": "code",
   "execution_count": 28,
   "id": "d2170cf2-7ece-46e2-ab87-961450633810",
   "metadata": {},
   "outputs": [
    {
     "ename": "NameError",
     "evalue": "name 'patients' is not defined",
     "output_type": "error",
     "traceback": [
      "\u001b[0;31m---------------------------------------------------------------------------\u001b[0m",
      "\u001b[0;31mNameError\u001b[0m                                 Traceback (most recent call last)",
      "\u001b[0;32m/tmp/ipykernel_1950753/2596134180.py\u001b[0m in \u001b[0;36m<module>\u001b[0;34m\u001b[0m\n\u001b[0;32m----> 1\u001b[0;31m \u001b[0mdata_batch_patients\u001b[0m \u001b[0;34m=\u001b[0m \u001b[0mpatients\u001b[0m\u001b[0;34m[\u001b[0m\u001b[0mnp\u001b[0m\u001b[0;34m.\u001b[0m\u001b[0mrandom\u001b[0m\u001b[0;34m.\u001b[0m\u001b[0mrandint\u001b[0m\u001b[0;34m(\u001b[0m\u001b[0mlow\u001b[0m\u001b[0;34m=\u001b[0m\u001b[0;36m0\u001b[0m\u001b[0;34m,\u001b[0m\u001b[0mhigh\u001b[0m\u001b[0;34m=\u001b[0m\u001b[0mn\u001b[0m\u001b[0;34m,\u001b[0m\u001b[0msize\u001b[0m\u001b[0;34m=\u001b[0m\u001b[0mbatch_size\u001b[0m\u001b[0;34m)\u001b[0m\u001b[0;34m,\u001b[0m\u001b[0;34m:\u001b[0m\u001b[0;34m,\u001b[0m\u001b[0;34m:\u001b[0m\u001b[0;34m,\u001b[0m\u001b[0;34m:\u001b[0m\u001b[0;34m]\u001b[0m\u001b[0;34m\u001b[0m\u001b[0;34m\u001b[0m\u001b[0m\n\u001b[0m\u001b[1;32m      2\u001b[0m \u001b[0mdata_batch_control\u001b[0m \u001b[0;34m=\u001b[0m \u001b[0mcontrol\u001b[0m\u001b[0;34m[\u001b[0m\u001b[0mnp\u001b[0m\u001b[0;34m.\u001b[0m\u001b[0mrandom\u001b[0m\u001b[0;34m.\u001b[0m\u001b[0mrandint\u001b[0m\u001b[0;34m(\u001b[0m\u001b[0mlow\u001b[0m\u001b[0;34m=\u001b[0m\u001b[0;36m0\u001b[0m\u001b[0;34m,\u001b[0m\u001b[0mhigh\u001b[0m\u001b[0;34m=\u001b[0m\u001b[0mn\u001b[0m\u001b[0;34m,\u001b[0m\u001b[0msize\u001b[0m\u001b[0;34m=\u001b[0m\u001b[0mbatch_size\u001b[0m\u001b[0;34m)\u001b[0m\u001b[0;34m,\u001b[0m\u001b[0;34m:\u001b[0m\u001b[0;34m,\u001b[0m\u001b[0;34m:\u001b[0m\u001b[0;34m,\u001b[0m\u001b[0;34m:\u001b[0m\u001b[0;34m]\u001b[0m\u001b[0;34m\u001b[0m\u001b[0;34m\u001b[0m\u001b[0m\n",
      "\u001b[0;31mNameError\u001b[0m: name 'patients' is not defined"
     ]
    }
   ],
   "source": [
    "data_batch_patients = patients[np.random.randint(low=0,high=n,size=batch_size),:,:,:]\n",
    "data_batch_control = control[np.random.randint(low=0,high=n,size=batch_size),:,:,:]"
   ]
  },
  {
   "cell_type": "code",
   "execution_count": null,
   "id": "17382fcb-7038-47e2-987c-f7507a46c12b",
   "metadata": {},
   "outputs": [],
   "source": [
    "data_batch_control = data_stuff[np.random.randint(low=0,high=n,size=batch_size),:,:,:]"
   ]
  },
  {
   "cell_type": "code",
   "execution_count": 30,
   "id": "7a6a6600-4ce6-4767-ba4a-b15371565dd7",
   "metadata": {},
   "outputs": [
    {
     "ename": "AttributeError",
     "evalue": "'bergeronADHD200_data_loader' object has no attribute 'get_patient_batch'",
     "output_type": "error",
     "traceback": [
      "\u001b[0;31m---------------------------------------------------------------------------\u001b[0m",
      "\u001b[0;31mAttributeError\u001b[0m                            Traceback (most recent call last)",
      "\u001b[0;32m/tmp/ipykernel_1950753/3708470839.py\u001b[0m in \u001b[0;36m<module>\u001b[0;34m\u001b[0m\n\u001b[0;32m----> 1\u001b[0;31m \u001b[0mloaderhehe\u001b[0m\u001b[0;34m.\u001b[0m\u001b[0mget_patient_batch\u001b[0m\u001b[0;34m(\u001b[0m\u001b[0;34m)\u001b[0m\u001b[0;34m;\u001b[0m\u001b[0;34m\u001b[0m\u001b[0;34m\u001b[0m\u001b[0m\n\u001b[0m\u001b[1;32m      2\u001b[0m \u001b[0mloaderhehe\u001b[0m\u001b[0;34m.\u001b[0m\u001b[0mget_control_batch\u001b[0m\u001b[0;34m(\u001b[0m\u001b[0;34m)\u001b[0m\u001b[0;34m;\u001b[0m\u001b[0;34m\u001b[0m\u001b[0;34m\u001b[0m\u001b[0m\n",
      "\u001b[0;31mAttributeError\u001b[0m: 'bergeronADHD200_data_loader' object has no attribute 'get_patient_batch'"
     ]
    }
   ],
   "source": [
    "loaderhehe.get_patient_batch();\n",
    "loaderhehe.get_control_batch();"
   ]
  },
  {
   "cell_type": "code",
   "execution_count": null,
   "id": "77f61222-6ea8-4727-9bae-841b9a4323b4",
   "metadata": {},
   "outputs": [],
   "source": [
    "cvae, z_encoder, s_encoder, cvae_decoder = get_MRI_CVAE_3D(input_shape=(64,64,64,1),\n",
    "                                            latent_dim=2,\n",
    "                                            beta=1,\n",
    "                                            disentangle=False,\n",
    "                                            gamma=1,\n",
    "                                            bias=True,\n",
    "                                            batch_size = 64,\n",
    "                                            kernel_size = 3,\n",
    "                                            filters = 32,\n",
    "                                            intermediate_dim = 128,\n",
    "                                            opt=None)"
   ]
  },
  {
   "cell_type": "code",
   "execution_count": null,
   "id": "e6adc08a-0e4b-4891-a80f-2869a36feb56",
   "metadata": {},
   "outputs": [],
   "source": []
  },
  {
   "cell_type": "code",
   "execution_count": null,
   "id": "b3e3e65c-fc82-4d59-ac34-c04051f264cb",
   "metadata": {},
   "outputs": [],
   "source": []
  }
 ],
 "metadata": {
  "kernelspec": {
   "display_name": "Python 3 (ipykernel)",
   "language": "python",
   "name": "python3"
  },
  "language_info": {
   "codemirror_mode": {
    "name": "ipython",
    "version": 3
   },
   "file_extension": ".py",
   "mimetype": "text/x-python",
   "name": "python",
   "nbconvert_exporter": "python",
   "pygments_lexer": "ipython3",
   "version": "3.8.8"
  }
 },
 "nbformat": 4,
 "nbformat_minor": 5
}
