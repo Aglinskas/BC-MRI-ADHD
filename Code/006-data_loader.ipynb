{
 "cells": [
  {
   "cell_type": "code",
   "execution_count": 1,
   "id": "7fb4c2f6-1a78-4d22-b6f5-17c9e242434b",
   "metadata": {},
   "outputs": [],
   "source": [
    "# Before reading this article, your PyTorch script probably looked like this:\n",
    "# Load entire dataset\n",
    "X, y = torch.load('some_training_set_with_labels.pt')\n",
    "\n",
    "# Train model\n",
    "for epoch in range(max_epochs):\n",
    "    for i in range(n_batches):\n",
    "        # Local batches and labels\n",
    "        local_X, local_y = X[i*n_batches:(i+1)*n_batches,], y[i*n_batches:(i+1)*n_batches,]\n",
    "\n",
    "        # Your model\n",
    "        [...]"
   ]
  },
  {
   "cell_type": "code",
   "execution_count": 2,
   "id": "bc2798c1-502e-42c6-99be-3cdba38a02b2",
   "metadata": {},
   "outputs": [],
   "source": [
    "partition = {'train': ['id-1', 'id-2', 'id-3'], 'validation': ['id-4']}\n",
    "labels = {'id-1': 0, 'id-2': 1, 'id-3': 2, 'id-4': 1}"
   ]
  },
  {
   "cell_type": "code",
   "execution_count": 3,
   "id": "d795cf33-32b7-4a4f-8389-2f67de483380",
   "metadata": {},
   "outputs": [],
   "source": [
    "def __init__(self, list_IDs, labels):\n",
    "    'Initialization'\n",
    "    self.labels = labels\n",
    "    self.list_IDs = list_IDs"
   ]
  },
  {
   "cell_type": "code",
   "execution_count": null,
   "id": "20da943e-3040-4c36-8e06-456244b84597",
   "metadata": {},
   "outputs": [],
   "source": []
  },
  {
   "cell_type": "code",
   "execution_count": null,
   "id": "49308a79-01bb-43bb-918a-70ca5cd0f59b",
   "metadata": {},
   "outputs": [],
   "source": []
  },
  {
   "cell_type": "code",
   "execution_count": null,
   "id": "16d0cc36-4ff0-4ee6-b649-982f6ee592af",
   "metadata": {},
   "outputs": [],
   "source": []
  },
  {
   "cell_type": "code",
   "execution_count": null,
   "id": "cabe20fc-9bab-415a-9661-f6c5b34faaae",
   "metadata": {},
   "outputs": [],
   "source": []
  },
  {
   "cell_type": "code",
   "execution_count": null,
   "id": "a272a20a-1a26-43ac-92d6-60cfc96b760a",
   "metadata": {},
   "outputs": [],
   "source": []
  },
  {
   "cell_type": "code",
   "execution_count": null,
   "id": "2f17b074-6b0a-4417-9868-026d89584fe3",
   "metadata": {},
   "outputs": [],
   "source": []
  },
  {
   "cell_type": "code",
   "execution_count": null,
   "id": "c6425050-9e14-4f76-a805-e005f8a45314",
   "metadata": {},
   "outputs": [],
   "source": []
  }
 ],
 "metadata": {
  "kernelspec": {
   "display_name": "Python 3 (ipykernel)",
   "language": "python",
   "name": "python3"
  },
  "language_info": {
   "codemirror_mode": {
    "name": "ipython",
    "version": 3
   },
   "file_extension": ".py",
   "mimetype": "text/x-python",
   "name": "python",
   "nbconvert_exporter": "python",
   "pygments_lexer": "ipython3",
   "version": "3.8.8"
  }
 },
 "nbformat": 4,
 "nbformat_minor": 5
}
